{
 "cells": [
  {
   "cell_type": "code",
   "execution_count": null,
   "id": "82668b2b",
   "metadata": {},
   "outputs": [],
   "source": []
  },
  {
   "cell_type": "markdown",
   "id": "d052053a",
   "metadata": {},
   "source": [
    "## Introduction\n",
    "\n",
    "Welcome to the **Programming Foundations: Numerical Mathematics and Calculations** notebook. This resource delivers an in-depth understanding of essential mathematical concepts such as Algebra, Calculus, Probability, Statistics, and Linear Algebra. Through practical examples and coding exercises, you will gain the skills to apply these concepts effectively in programming and software development. This notebook is designed to enhance your problem-solving abilities and prepare you for advanced challenges in data science and AI.\n",
    "\n",
    "For more information and to connect, visit my [LinkedIn profile](https://www.linkedin.com/in/elhassan-othman-90725226a/) and check out my projects on [GitHub](https://github.com/elhassan-othman).\n",
    "\n",
    "---"
   ]
  },
  {
   "cell_type": "code",
   "execution_count": null,
   "id": "d8c37657",
   "metadata": {},
   "outputs": [],
   "source": []
  },
  {
   "cell_type": "markdown",
   "id": "6ac67a7f",
   "metadata": {},
   "source": [
    "## 1. Introduction to Algebra and Calculus"
   ]
  },
  {
   "cell_type": "code",
   "execution_count": null,
   "id": "ba03d107",
   "metadata": {},
   "outputs": [],
   "source": []
  },
  {
   "cell_type": "markdown",
   "id": "cf069004",
   "metadata": {},
   "source": [
    "### 1.1 Basic Arithmetic Operations"
   ]
  },
  {
   "cell_type": "code",
   "execution_count": 1,
   "id": "5608bde0",
   "metadata": {},
   "outputs": [
    {
     "name": "stdout",
     "output_type": "stream",
     "text": [
      "Addition: 8\n"
     ]
    }
   ],
   "source": [
    "# Addition\n",
    "\n",
    "a,b = 6 , 2\n",
    "sum_result = a + b\n",
    "print(\"Addition:\", sum_result) "
   ]
  },
  {
   "cell_type": "code",
   "execution_count": null,
   "id": "35c465b7",
   "metadata": {},
   "outputs": [],
   "source": []
  },
  {
   "cell_type": "code",
   "execution_count": 2,
   "id": "73dce4f0",
   "metadata": {},
   "outputs": [
    {
     "name": "stdout",
     "output_type": "stream",
     "text": [
      "Subtraction: 4\n"
     ]
    }
   ],
   "source": [
    "# Subtraction\n",
    "\n",
    "diff_result = a - b\n",
    "print(\"Subtraction:\", diff_result)  "
   ]
  },
  {
   "cell_type": "code",
   "execution_count": null,
   "id": "1e0c0bd7",
   "metadata": {},
   "outputs": [],
   "source": []
  },
  {
   "cell_type": "code",
   "execution_count": 3,
   "id": "0a73d350",
   "metadata": {},
   "outputs": [
    {
     "name": "stdout",
     "output_type": "stream",
     "text": [
      "Multiplication: 12\n"
     ]
    }
   ],
   "source": [
    "# Multiplication\n",
    "\n",
    "product_result = a * b\n",
    "print(\"Multiplication:\", product_result) "
   ]
  },
  {
   "cell_type": "code",
   "execution_count": null,
   "id": "74b4fb58",
   "metadata": {},
   "outputs": [],
   "source": []
  },
  {
   "cell_type": "code",
   "execution_count": 4,
   "id": "af22daad",
   "metadata": {},
   "outputs": [
    {
     "name": "stdout",
     "output_type": "stream",
     "text": [
      "Division: 3.0\n"
     ]
    }
   ],
   "source": [
    "# Division\n",
    "\n",
    "quotient_result = a / b\n",
    "print(\"Division:\", quotient_result)  "
   ]
  },
  {
   "cell_type": "code",
   "execution_count": null,
   "id": "36740931",
   "metadata": {},
   "outputs": [],
   "source": []
  },
  {
   "cell_type": "code",
   "execution_count": 5,
   "id": "60b99d78",
   "metadata": {},
   "outputs": [
    {
     "name": "stdout",
     "output_type": "stream",
     "text": [
      "Integer Division: 3\n"
     ]
    }
   ],
   "source": [
    "# Integer Division\n",
    "\n",
    "int_div_result = a // b\n",
    "print(\"Integer Division:\", int_div_result)  "
   ]
  },
  {
   "cell_type": "code",
   "execution_count": null,
   "id": "6b88073a",
   "metadata": {},
   "outputs": [],
   "source": []
  },
  {
   "cell_type": "code",
   "execution_count": 6,
   "id": "cbd536fe",
   "metadata": {},
   "outputs": [
    {
     "name": "stdout",
     "output_type": "stream",
     "text": [
      "Modulus: 0\n"
     ]
    }
   ],
   "source": [
    "# Modulus\n",
    "\n",
    "modulus_result = a % b\n",
    "print(\"Modulus:\", modulus_result)  "
   ]
  },
  {
   "cell_type": "code",
   "execution_count": null,
   "id": "336195d5",
   "metadata": {},
   "outputs": [],
   "source": []
  },
  {
   "cell_type": "markdown",
   "id": "90b18531",
   "metadata": {},
   "source": [
    "---\n",
    "### 1.2 Order of Operations"
   ]
  },
  {
   "cell_type": "code",
   "execution_count": 7,
   "id": "369fdb39",
   "metadata": {},
   "outputs": [
    {
     "name": "stdout",
     "output_type": "stream",
     "text": [
      "Without Parentheses: 13\n"
     ]
    }
   ],
   "source": [
    "# Without Parentheses\n",
    "\n",
    "result1 = 3 + 5 * 2\n",
    "print(\"Without Parentheses:\", result1)  # Output = 13  "
   ]
  },
  {
   "cell_type": "code",
   "execution_count": null,
   "id": "773cf0fc",
   "metadata": {},
   "outputs": [],
   "source": []
  },
  {
   "cell_type": "code",
   "execution_count": 8,
   "id": "191607ad",
   "metadata": {},
   "outputs": [
    {
     "name": "stdout",
     "output_type": "stream",
     "text": [
      "With Parentheses: 16\n"
     ]
    }
   ],
   "source": [
    "# With Parentheses\n",
    "\n",
    "result2 = (3 + 5) * 2\n",
    "print(\"With Parentheses:\", result2)  # Output = 16"
   ]
  },
  {
   "cell_type": "code",
   "execution_count": null,
   "id": "594291b6",
   "metadata": {},
   "outputs": [],
   "source": []
  },
  {
   "cell_type": "code",
   "execution_count": 9,
   "id": "d8599fca",
   "metadata": {},
   "outputs": [
    {
     "name": "stdout",
     "output_type": "stream",
     "text": [
      "Exponentiation: 8\n"
     ]
    }
   ],
   "source": [
    "# Exponentiation\n",
    "\n",
    "exp_result = 2 ** 3\n",
    "print(\"Exponentiation:\", exp_result)  # Output =  8"
   ]
  },
  {
   "cell_type": "code",
   "execution_count": null,
   "id": "a1678519",
   "metadata": {},
   "outputs": [],
   "source": []
  },
  {
   "cell_type": "code",
   "execution_count": 10,
   "id": "53c07314",
   "metadata": {},
   "outputs": [
    {
     "name": "stdout",
     "output_type": "stream",
     "text": [
      "Nested Operations: 32.0\n"
     ]
    }
   ],
   "source": [
    "# Nested Operations\n",
    "\n",
    "nested_result = 2 * (3 + 5) ** 2 / 4\n",
    "print(\"Nested Operations:\", nested_result)  # Output = 32.0"
   ]
  },
  {
   "cell_type": "code",
   "execution_count": null,
   "id": "d2d12477",
   "metadata": {},
   "outputs": [],
   "source": []
  },
  {
   "cell_type": "markdown",
   "id": "6d7e1d70",
   "metadata": {},
   "source": [
    "### 1.3 Using Functions for Calculations"
   ]
  },
  {
   "cell_type": "code",
   "execution_count": 11,
   "id": "a80d11b3",
   "metadata": {},
   "outputs": [
    {
     "name": "stdout",
     "output_type": "stream",
     "text": [
      "Function Addition: 15\n"
     ]
    }
   ],
   "source": [
    "# Function for Addition\n",
    "\n",
    "def add(x, y):\n",
    "    return x + y\n",
    "\n",
    "print(\"Function Addition:\", add(10, 5))  # Output = 15"
   ]
  },
  {
   "cell_type": "code",
   "execution_count": null,
   "id": "c2c451d5",
   "metadata": {},
   "outputs": [],
   "source": []
  },
  {
   "cell_type": "code",
   "execution_count": 12,
   "id": "8cbc6b55",
   "metadata": {},
   "outputs": [
    {
     "name": "stdout",
     "output_type": "stream",
     "text": [
      "Factorial: 120\n"
     ]
    }
   ],
   "source": [
    "# Function for Calculating Factorial\n",
    "\n",
    "import math\n",
    "\n",
    "def factorial(n):\n",
    "    return math.factorial(n)\n",
    "\n",
    "print(\"Factorial:\", factorial(5))  # Output = 120  --> 5 * 4 * 3 * 2 * 1"
   ]
  },
  {
   "cell_type": "code",
   "execution_count": null,
   "id": "fa6e8776",
   "metadata": {},
   "outputs": [],
   "source": []
  },
  {
   "cell_type": "markdown",
   "id": "8d1a3aba",
   "metadata": {},
   "source": [
    "### 1.4 Using NumPy for Array Operations"
   ]
  },
  {
   "cell_type": "code",
   "execution_count": 13,
   "id": "c131f71d",
   "metadata": {},
   "outputs": [],
   "source": [
    "import numpy as np\n",
    "\n",
    "# Create Arrays\n",
    "arr1 = np.array([1, 2, 3])\n",
    "arr2 = np.array([4, 5, 6])"
   ]
  },
  {
   "cell_type": "code",
   "execution_count": 14,
   "id": "83a2f1e4",
   "metadata": {},
   "outputs": [
    {
     "name": "stdout",
     "output_type": "stream",
     "text": [
      "Array Addition: [5 7 9]\n"
     ]
    }
   ],
   "source": [
    "# Array Addition\n",
    "\n",
    "arr_sum = arr1 + arr2\n",
    "print(\"Array Addition:\", arr_sum)  # Output = [5 7 9]"
   ]
  },
  {
   "cell_type": "code",
   "execution_count": 15,
   "id": "52a2e529",
   "metadata": {},
   "outputs": [
    {
     "name": "stdout",
     "output_type": "stream",
     "text": [
      "Array Multiplication: [ 4 10 18]\n"
     ]
    }
   ],
   "source": [
    "# Array Multiplication\n",
    "\n",
    "arr_product = arr1 * arr2\n",
    "print(\"Array Multiplication:\", arr_product)  # Output = [ 4 10 18]"
   ]
  },
  {
   "cell_type": "code",
   "execution_count": 16,
   "id": "5578d028",
   "metadata": {},
   "outputs": [
    {
     "name": "stdout",
     "output_type": "stream",
     "text": [
      "Array Exponentiation: [1 4 9]\n"
     ]
    }
   ],
   "source": [
    "# Array Exponentiation\n",
    "arr_exp = arr1 ** 2\n",
    "print(\"Array Exponentiation:\", arr_exp)  # Output = [1 4 9]"
   ]
  },
  {
   "cell_type": "code",
   "execution_count": null,
   "id": "9c46bf43",
   "metadata": {},
   "outputs": [],
   "source": []
  },
  {
   "cell_type": "markdown",
   "id": "5cc8c294",
   "metadata": {},
   "source": [
    "### 1.5 Symbolic Mathematics with SymPy"
   ]
  },
  {
   "cell_type": "code",
   "execution_count": 17,
   "id": "02503351",
   "metadata": {},
   "outputs": [],
   "source": [
    "import sympy as sp\n",
    "\n",
    "# Define Symbols\n",
    "x = sp.symbols('x')\n",
    "\n",
    "# Define Expression\n",
    "expression = x**2 + 3*x + 2"
   ]
  },
  {
   "cell_type": "code",
   "execution_count": 18,
   "id": "e7acdac8",
   "metadata": {},
   "outputs": [
    {
     "name": "stdout",
     "output_type": "stream",
     "text": [
      "Derivative: 2*x + 3\n"
     ]
    }
   ],
   "source": [
    "# Compute Derivative\n",
    "\n",
    "derivative = sp.diff(expression, x)\n",
    "print(\"Derivative:\", derivative)  # Output = 2*x + 3"
   ]
  },
  {
   "cell_type": "markdown",
   "id": "bfa96f90",
   "metadata": {},
   "source": [
    "#### The derivative represents the rate of change of the function\n",
    "\n",
    "**Explanation:** For the function\n",
    "\n",
    "- The function is $x^2 + 3x + 2$. The derivative of this function is $2x + 3$. This tells you how the function changes with respect to $x$."
   ]
  },
  {
   "cell_type": "code",
   "execution_count": 19,
   "id": "9b32c523",
   "metadata": {},
   "outputs": [
    {
     "name": "stdout",
     "output_type": "stream",
     "text": [
      "Integral: x**3/3 + 3*x**2/2 + 2*x\n"
     ]
    }
   ],
   "source": [
    "# Compute Integral\n",
    "\n",
    "integral = sp.integrate(expression, x)\n",
    "print(\"Integral:\", integral)  # Output = x**3/3 + 3*x**2/2 + 2*x"
   ]
  },
  {
   "cell_type": "markdown",
   "id": "2dc0fb72",
   "metadata": {},
   "source": [
    "---\n",
    "## Function and Its Integral\n",
    "\n",
    "### Function\n",
    "\n",
    "Consider the quadratic function:\n",
    "\n",
    "$$\n",
    "f(x) = x^2 + 3x + 2\n",
    "$$\n",
    "\n",
    "### Integral\n",
    "\n",
    "The integral of the function is:\n",
    "\n",
    "$$\n",
    "\\int (x^2 + 3x + 2) \\, dx = \\frac{x^3}{3} + \\frac{3x^2}{2} + 2x + C\n",
    "$$\n",
    "\n",
    "where \\( C \\) is the constant of integration.\n",
    "\n",
    "### Explanation\n",
    "\n",
    "The integral of the function \\( f(x) = x^2 + 3x + 2 \\) represents the accumulated area under the curve from a reference point to \\( x \\). The result of the integration is:\n",
    "\n",
    "$$\n",
    "\\frac{x^3}{3} + \\frac{3x^2}{2} + 2x\n",
    "$$\n",
    "\n",
    "#### What Does This Mean?\n",
    "\n",
    "1. **Accumulated Area**:\n",
    "   - The integral calculates the total area under the curve of the function \\( f(x) \\) from a reference point (usually \\( x = 0 \\)) to \\( x \\). \n",
    "   - As \\( x \\) increases, the integral shows how the total area changes:\n",
    "\n",
    "   $$\n",
    "   \\text{Total Area} = \\frac{x^3}{3} + \\frac{3x^2}{2} + 2x\n",
    "   $$\n",
    "\n",
    "2. **Interpreting the Result**:\n",
    "   - The result represents the function's accumulated value or total area up to \\( x \\):\n",
    "\n",
    "   $$\n",
    "   \\text{Accumulated Value} = \\frac{x^3}{3} + \\frac{3x^2}{2} + 2x\n",
    "   $$\n",
    "\n",
    "   - The constant \\( C \\) represents any initial value or vertical shift that might be present in the integral:\n",
    "\n",
    "   $$\n",
    "   \\text{Vertical Shift} = C\n",
    "   $$\n",
    "\n",
    "3. **Behavior of the Function**:\n",
    "   - By integrating \\( f(x) \\), you understand how the total accumulated area under the curve evolves as \\( x \\) changes. If you compute the definite integral between two points, you'd find the exact area between those two points on the curve:\n",
    "\n",
    "   $$\n",
    "   \\int_{a}^{b} (x^2 + 3x + 2) \\, dx\n",
    "   $$\n",
    "\n",
    "4. **Practical Applications**:\n",
    "   - Integrals are used in various applications, such as calculating areas, solving problems related to physics (e.g., displacement, work done), and analyzing data trends.\n",
    "\n",
    "### Example\n",
    "\n",
    "If you want to find the area under the curve from \\( x = 1 \\) to \\( x = 3 \\), you would compute the definite integral:\n",
    "\n",
    "$$\n",
    "\\int_{1}^{3} (x^2 + 3x + 2) \\, dx\n",
    "$$\n",
    "\n",
    "To solve this, follow these steps:\n",
    "\n",
    "1. **Evaluate \\( F(x) \\) at \\( x = 3 \\):**\n",
    "\n",
    "   $$\n",
    "   F(3) = \\frac{3^3}{3} + \\frac{3 \\cdot 3^2}{2} + 2 \\cdot 3\n",
    "   $$\n",
    "\n",
    "   $$\n",
    "   F(3) = \\frac{27}{3} + \\frac{27}{2} + 6\n",
    "   $$\n",
    "\n",
    "   $$\n",
    "   F(3) = 9 + 13.5 + 6 = 28.5\n",
    "   $$\n",
    "\n",
    "2. **Evaluate \\( F(x) \\) at \\( x = 1 \\):**\n",
    "\n",
    "   $$\n",
    "   F(1) = \\frac{1^3}{3} + \\frac{3 \\cdot 1^2}{2} + 2 \\cdot 1\n",
    "   $$\n",
    "\n",
    "   $$\n",
    "   F(1) = \\frac{1}{3} + \\frac{3}{2} + 2\n",
    "   $$\n",
    "\n",
    "   $$\n",
    "   F(1) = \\frac{1}{3} + 1.5 + 2 = 3.8333\n",
    "   $$\n",
    "\n",
    "3. **Compute the definite integral:**\n",
    "\n",
    "   $$\n",
    "   \\int_{1}^{3} (x^2 + 3x + 2) \\, dx = F(3) - F(1)\n",
    "   $$\n",
    "\n",
    "   $$\n",
    "   \\int_{1}^{3} (x^2 + 3x + 2) \\, dx = 28.5 - 3.8333 = 24.6667\n",
    "   $$\n",
    "\n",
    "So, the area under the curve from \\( x = 1 \\) to \\( x = 3 \\) is approximately \\( 24.67 \\) square units.\n",
    "\n",
    "### Conclusion\n",
    "\n",
    "The integral helps you understand the overall accumulation of the function’s values over an interval, giving you insight into its total effect or area under the curve. The constant \\( C \\) ensures that the integration process can account for shifts or initial conditions.\n"
   ]
  },
  {
   "cell_type": "code",
   "execution_count": null,
   "id": "e6ccff77",
   "metadata": {},
   "outputs": [],
   "source": []
  },
  {
   "cell_type": "code",
   "execution_count": null,
   "id": "17e477ed",
   "metadata": {},
   "outputs": [],
   "source": []
  },
  {
   "cell_type": "markdown",
   "id": "5ce846e9",
   "metadata": {},
   "source": [
    "---\n",
    "## 2. Common Mathematical functions"
   ]
  },
  {
   "cell_type": "markdown",
   "id": "6d94de65",
   "metadata": {},
   "source": [
    "# Common Mathematical Functions\n",
    "\n",
    "## Introduction\n",
    "A function maps values from one set (domain) to another set (range) according to a specific rule. Below are some examples of basic sets:\n",
    "\n",
    "- **Set of Letters:** Letters from A to Z\n",
    "  $$\n",
    "  \\mathbf{A} = \\{a, b, c, \\ldots, z\\}\n",
    "  $$\n",
    "\n",
    "- **Set of Colors:** Various colors\n",
    "  $$\n",
    "  \\mathbf{C} = \\{\\text{yellow}, \\text{orange}, \\text{red}, \\text{violet}, \\text{blue}, \\text{green}\\}\n",
    "  $$\n",
    "\n",
    "- **Natural Numbers:** Positive integers\n",
    "  $$\n",
    "  \\mathbf{N} = \\{1, 2, 3, \\ldots\\}\n",
    "  $$\n",
    "\n",
    "## Domain and Range\n",
    "A function maps each value from the domain to exactly one value in the range.\n",
    "\n",
    "## Example Function\n",
    "Consider the function:\n",
    "$$\n",
    "\\mathbf{f}(x) = 3x\n",
    "$$\n",
    "\n",
    "For different input values:\n",
    "- For \\( x = 1 \\):\n",
    "  $$\n",
    "  \\mathbf{f}(1) = 3 \\times 1 = 3\n",
    "  $$\n",
    "- For \\( x = 2 \\):\n",
    "  $$\n",
    "  \\mathbf{f}(2) = 3 \\times 2 = 6\n",
    "  $$\n",
    "- For \\( x = 3 \\):\n",
    "  $$\n",
    "  \\mathbf{f}(3) = 3 \\times 3 = 9\n",
    "  $$\n",
    "\n",
    "**Functions must**:\n",
    "1. Work for every input value.\n",
    "2. Have only one output value per input.\n",
    "\n",
    "## Types of Functions\n",
    "\n",
    "- **Linear Function**\n",
    "  $$\n",
    "  \\mathbf{f}(x) = mx + b\n",
    "  $$\n",
    "  Represents a straight line, where \\( m \\) is the slope and \\( b \\) is the y-intercept.\n",
    "\n",
    "- **Quadratic Function**\n",
    "  $$\n",
    "  \\mathbf{f}(x) = x^2\n",
    "  $$\n",
    "  Squares the input value, forming a parabola.\n",
    "\n",
    "- **Square Root Function**\n",
    "  $$\n",
    "  \\mathbf{f}(x) = \\sqrt{x}\n",
    "  $$\n",
    "  Computes the square root; defined for non-negative inputs.\n",
    "\n",
    "- **Absolute Value Function**\n",
    "  $$\n",
    "  \\mathbf{f}(x) = |x|\n",
    "  $$\n",
    "  Returns the non-negative value of the input.\n",
    "\n",
    "- **Logarithmic Function**\n",
    "  $$\n",
    "  \\mathbf{f}(x) = \\log(x)\n",
    "  $$\n",
    "  Involves the logarithm of the input value.\n",
    "\n",
    "- **Exponential Function**\n",
    "  $$\n",
    "  \\mathbf{f}(x) = a^x\n",
    "  $$\n",
    "  Raises a base to the power of the input value.\n",
    "\n",
    "- **Trigonometric Functions**\n",
    "  $$\n",
    "  \\mathbf{f}(x) = \\sin(x), \\cos(x), \\tan(x)\n",
    "  $$\n",
    "  Functions involving angles such as sine, cosine, and tangent.\n",
    "\n",
    "## Using Mathematical Functions in Python\n",
    "To utilize these functions in Python, import the `math` module, which provides standard mathematical functions and constants."
   ]
  },
  {
   "cell_type": "markdown",
   "id": "ee815077",
   "metadata": {},
   "source": [
    "## Utilizing inherent mathematical functions"
   ]
  },
  {
   "cell_type": "code",
   "execution_count": 20,
   "id": "d0d40188",
   "metadata": {},
   "outputs": [],
   "source": [
    "# Importing the Math Module\n",
    "\n",
    "import math"
   ]
  },
  {
   "cell_type": "markdown",
   "id": "fd8257ce",
   "metadata": {},
   "source": [
    "#### Square Root Function :"
   ]
  },
  {
   "cell_type": "code",
   "execution_count": 21,
   "id": "0c92bb83",
   "metadata": {},
   "outputs": [
    {
     "name": "stdout",
     "output_type": "stream",
     "text": [
      "Square root of 16: 4.0\n"
     ]
    }
   ],
   "source": [
    "# Square root of 16\n",
    "\n",
    "sqrt_16 = math.sqrt(16)\n",
    "\n",
    "print(\"Square root of 16:\", sqrt_16)  # Output = 4.0\n",
    "\n",
    "# Attempt to calculate square root of -9 (will raise ValueError)\n",
    "# sqrt_neg_9 = math.sqrt(-9)  # Uncommenting this will raise an error"
   ]
  },
  {
   "cell_type": "code",
   "execution_count": null,
   "id": "7ee64747",
   "metadata": {},
   "outputs": [],
   "source": []
  },
  {
   "cell_type": "markdown",
   "id": "6390200d",
   "metadata": {},
   "source": [
    "#### Logarithm Function :"
   ]
  },
  {
   "cell_type": "code",
   "execution_count": 22,
   "id": "63e3b8d8",
   "metadata": {},
   "outputs": [
    {
     "name": "stdout",
     "output_type": "stream",
     "text": [
      "Natural logarithm of 100: 4.605170185988092\n"
     ]
    }
   ],
   "source": [
    "# Natural logarithm of 100\n",
    "\n",
    "log_100 = math.log(100)\n",
    "\n",
    "print(\"Natural logarithm of 100:\", log_100)  # Output = 4.605170185988092"
   ]
  },
  {
   "cell_type": "code",
   "execution_count": 23,
   "id": "605bd4e4",
   "metadata": {},
   "outputs": [
    {
     "name": "stdout",
     "output_type": "stream",
     "text": [
      "Logarithm of 100 with base 10: 2.0\n"
     ]
    }
   ],
   "source": [
    "# Logarithm of 100 with base 10\n",
    "\n",
    "log_100_base10 = math.log(100, 10)\n",
    "\n",
    "print(\"Logarithm of 100 with base 10:\", log_100_base10)  # Output = 2.0"
   ]
  },
  {
   "cell_type": "code",
   "execution_count": null,
   "id": "4a66721e",
   "metadata": {},
   "outputs": [],
   "source": []
  },
  {
   "cell_type": "markdown",
   "id": "f19a7e7e",
   "metadata": {},
   "source": [
    "#### Trigonometric Functions :"
   ]
  },
  {
   "cell_type": "code",
   "execution_count": 24,
   "id": "c37bf859",
   "metadata": {},
   "outputs": [
    {
     "name": "stdout",
     "output_type": "stream",
     "text": [
      "Sine of alpha: 0.8660254037844386\n",
      "Cosine of alpha: 0.5000000000000001\n",
      "Tangent of alpha: 1.7320508075688767\n"
     ]
    }
   ],
   "source": [
    "# Angle in radians\n",
    "\n",
    "alpha = math.pi / 3\n",
    "\n",
    "# Sine, cosine, and tangent of alpha\n",
    "sin_alpha = math.sin(alpha)\n",
    "cos_alpha = math.cos(alpha)\n",
    "tan_alpha = math.tan(alpha)\n",
    "\n",
    "print(\"Sine of alpha:\", sin_alpha)  # Output = 0.86602540378\n",
    "print(\"Cosine of alpha:\", cos_alpha)  # Output = 0.5\n",
    "print(\"Tangent of alpha:\", tan_alpha)  # Output = 1.7320508075688774"
   ]
  },
  {
   "cell_type": "code",
   "execution_count": null,
   "id": "2285c15c",
   "metadata": {},
   "outputs": [],
   "source": []
  },
  {
   "cell_type": "markdown",
   "id": "6cce67bf",
   "metadata": {},
   "source": [
    "#### Gamma Function :"
   ]
  },
  {
   "cell_type": "code",
   "execution_count": 25,
   "id": "86f375ec",
   "metadata": {},
   "outputs": [
    {
     "name": "stdout",
     "output_type": "stream",
     "text": [
      "Gamma function of 7: 720.0\n"
     ]
    }
   ],
   "source": [
    "# Gamma function of 7\n",
    "\n",
    "gamma_7 = math.gamma(7)\n",
    "\n",
    "print(\"Gamma function of 7:\", gamma_7)  # Output = 720.0"
   ]
  },
  {
   "cell_type": "code",
   "execution_count": null,
   "id": "c12e8bad",
   "metadata": {},
   "outputs": [],
   "source": []
  },
  {
   "cell_type": "markdown",
   "id": "b5fe8200",
   "metadata": {},
   "source": [
    "#### Error Function : "
   ]
  },
  {
   "cell_type": "code",
   "execution_count": 26,
   "id": "6770c3a7",
   "metadata": {},
   "outputs": [
    {
     "name": "stdout",
     "output_type": "stream",
     "text": [
      "Error function of 4: 0.9999999845827421\n"
     ]
    }
   ],
   "source": [
    "# Error function of 4\n",
    "\n",
    "erf_4 = math.erf(4)\n",
    "print(\"Error function of 4:\", erf_4)  # Output = 0.999999696"
   ]
  },
  {
   "cell_type": "code",
   "execution_count": null,
   "id": "80541d89",
   "metadata": {},
   "outputs": [],
   "source": []
  },
  {
   "cell_type": "markdown",
   "id": "9cf01d6a",
   "metadata": {},
   "source": [
    "#### NumPy for Large Data Sets:\n"
   ]
  },
  {
   "cell_type": "code",
   "execution_count": 27,
   "id": "016d46e4",
   "metadata": {},
   "outputs": [
    {
     "name": "stdout",
     "output_type": "stream",
     "text": [
      "Square root of 16 using NumPy: 4.0\n"
     ]
    }
   ],
   "source": [
    "import numpy as np\n",
    "\n",
    "# Square root using NumPy\n",
    "sqrt_np = np.sqrt(16)\n",
    "\n",
    "print(\"Square root of 16 using NumPy:\", sqrt_np)  # Output = 4.0"
   ]
  },
  {
   "cell_type": "code",
   "execution_count": null,
   "id": "cdd04978",
   "metadata": {},
   "outputs": [],
   "source": []
  },
  {
   "cell_type": "markdown",
   "id": "f297eaef",
   "metadata": {},
   "source": [
    "### Developing a program to compute the factors of an integer"
   ]
  },
  {
   "cell_type": "code",
   "execution_count": 28,
   "id": "d6adb854",
   "metadata": {},
   "outputs": [],
   "source": [
    "# Define a function named 'find_factors' to determine the factors of an integer\n",
    "def find_factors(number):\n",
    "    \n",
    "    # Initialize an empty list to hold the factors\n",
    "    factors_list = []\n",
    "    \n",
    "    # Iterate from 1 to 'number' (inclusive) to check each candidate\n",
    "    for candidate in range(1, number + 1):\n",
    "        \n",
    "        # Check if 'candidate' is a factor of 'number' using the modulo operator\n",
    "        if number % candidate == 0:\n",
    "            # If 'candidate' is a factor, add it to the factors list\n",
    "            factors_list.append(candidate)\n",
    "    \n",
    "    # Return the list of factors\n",
    "    return factors_list"
   ]
  },
  {
   "cell_type": "code",
   "execution_count": 29,
   "id": "eda6b2b2",
   "metadata": {},
   "outputs": [
    {
     "data": {
      "text/plain": [
       "[1, 2, 3, 4, 5, 6, 10, 12, 15, 20, 30, 60]"
      ]
     },
     "execution_count": 29,
     "metadata": {},
     "output_type": "execute_result"
    }
   ],
   "source": [
    "find_factors(60)"
   ]
  },
  {
   "cell_type": "code",
   "execution_count": null,
   "id": "790a994b",
   "metadata": {},
   "outputs": [],
   "source": []
  },
  {
   "cell_type": "markdown",
   "id": "90b545ae",
   "metadata": {},
   "source": [
    "### Converting units of measurements "
   ]
  },
  {
   "cell_type": "code",
   "execution_count": 30,
   "id": "d9dbe38a",
   "metadata": {},
   "outputs": [
    {
     "name": "stdout",
     "output_type": "stream",
     "text": [
      "\n",
      "Conversion Menu\n",
      "1. Kilometers to Miles\n",
      "2. Miles to Kilometers\n",
      "0. Exit\n",
      "Select an option from the menu: 1\n",
      "Enter distance in kilometers: 55\n",
      "Distance in miles: 34.18272218769422\n",
      "\n",
      "Conversion Menu\n",
      "1. Kilometers to Miles\n",
      "2. Miles to Kilometers\n",
      "0. Exit\n",
      "Select an option from the menu: 2\n",
      "Enter distance in miles: 22\n",
      "Distance in kilometers: 35.397999999999996\n",
      "\n",
      "Conversion Menu\n",
      "1. Kilometers to Miles\n",
      "2. Miles to Kilometers\n",
      "0. Exit\n",
      "Select an option from the menu: 0\n"
     ]
    }
   ],
   "source": [
    "def display_conversion_menu():\n",
    "    print('\\nConversion Menu')\n",
    "    print('1. Kilometers to Miles')\n",
    "    print('2. Miles to Kilometers')\n",
    "    print('0. Exit')\n",
    "\n",
    "def convert_kilometers_to_miles():\n",
    "    distance_km = float(input('Enter distance in kilometers: '))\n",
    "    distance_miles = distance_km / 1.609\n",
    "    \n",
    "    print('Distance in miles: {0}'.format(distance_miles))\n",
    "    \n",
    "def convert_miles_to_kilometers():\n",
    "    distance_miles = float(input('Enter distance in miles: '))\n",
    "    distance_km = distance_miles * 1.609 \n",
    "    \n",
    "    print('Distance in kilometers: {0}'.format(distance_km))\n",
    "    \n",
    "user_choice = '1'\n",
    "while user_choice != '0':\n",
    "    display_conversion_menu()\n",
    "    user_choice = input('Select an option from the menu: ')\n",
    "    if user_choice == '1':\n",
    "        convert_kilometers_to_miles()\n",
    "    elif user_choice == '2':\n",
    "        convert_miles_to_kilometers()"
   ]
  },
  {
   "cell_type": "code",
   "execution_count": null,
   "id": "d97cc0aa",
   "metadata": {},
   "outputs": [],
   "source": []
  },
  {
   "cell_type": "markdown",
   "id": "3794d934",
   "metadata": {},
   "source": [
    "----"
   ]
  },
  {
   "cell_type": "markdown",
   "id": "f3745fd3",
   "metadata": {},
   "source": [
    "## 2. Comprehensive Guide to Sequences and Series"
   ]
  },
  {
   "cell_type": "markdown",
   "id": "646487b6",
   "metadata": {},
   "source": [
    "# 1. Sequences\n",
    "\n",
    "A sequence is an ordered list of numbers where each number is called a term. The terms are generated according to a specific rule or formula.\n",
    "\n",
    "## 1.1. Fibonacci Sequence\n",
    "\n",
    "The Fibonacci sequence is a famous sequence where each term is the sum of the two preceding terms. It starts with 1 and 1.\n",
    "\n",
    "### Definition\n",
    "\n",
    "The Fibonacci sequence is defined as follows:\n",
    "\n",
    "- $a_1 = 1$\n",
    "- $a_2 = 1$\n",
    "- For $n > 2$: $a_n = a_{n-1} + a_{n-2}$\n",
    "\n",
    "### Example Calculation\n",
    "\n",
    "Let's calculate the first few terms of the Fibonacci sequence:\n",
    "\n",
    "1. The first term is $a_1 = 1$.\n",
    "2. The second term is $a_2 = 1$.\n",
    "3. The third term is calculated as $a_3 = a_1 + a_2 = 1 + 1 = 2$.\n",
    "4. The fourth term is calculated as $a_4 = a_2 + a_3 = 1 + 2 = 3$.\n",
    "5. The fifth term is calculated as $a_5 = a_3 + a_4 = 2 + 3 = 5$.\n",
    "6. The sixth term is calculated as $a_6 = a_4 + a_5 = 3 + 5 = 8$.\n",
    "\n",
    "So, the first six terms of the Fibonacci sequence are: 1, 1, 2, 3, 5, 8."
   ]
  },
  {
   "cell_type": "code",
   "execution_count": 31,
   "id": "db736236",
   "metadata": {},
   "outputs": [
    {
     "name": "stdout",
     "output_type": "stream",
     "text": [
      "[1, 1, 2, 3, 5, 8]\n"
     ]
    }
   ],
   "source": [
    "def fibonacci(n):\n",
    "    sequence = [1, 1]\n",
    "    while len(sequence) < n:\n",
    "        sequence.append(sequence[-1] + sequence[-2])\n",
    "    return sequence\n",
    "\n",
    "print(fibonacci(6))  # Output = [1, 1, 2, 3, 5, 8]"
   ]
  },
  {
   "cell_type": "markdown",
   "id": "9c3255a7",
   "metadata": {},
   "source": [
    "---\n",
    "### Real-World Application :"
   ]
  },
  {
   "cell_type": "markdown",
   "id": "44821660",
   "metadata": {},
   "source": [
    "### 1. Fibonacci Spiral Visualization :\n",
    "- **Idea**: This code generates a visual representation of a Fibonacci spiral. \n",
    "- The spiral shows how Fibonacci numbers can create a pattern that resembles natural growth patterns, such as those seen in flowers or shells. \n",
    "- Each arc in the spiral represents a Fibonacci number, and the spiral grows larger as the sequence progresses."
   ]
  },
  {
   "cell_type": "code",
   "execution_count": 32,
   "id": "6079d81a",
   "metadata": {},
   "outputs": [
    {
     "data": {
      "image/png": "[encoded data removed]",
      "text/plain": [
       "<Figure size 500x800 with 1 Axes>"
      ]
     },
     "metadata": {},
     "output_type": "display_data"
    }
   ],
   "source": [
    "import matplotlib.pyplot as plt\n",
    "import numpy as np\n",
    "\n",
    "def fibonacci_spiral(n):\n",
    "    # Initialize the Fibonacci sequence with the first two numbers\n",
    "    fib = [0, 1]\n",
    "    \n",
    "    # Generate Fibonacci sequence up to n numbers\n",
    "    for i in range(2, n):\n",
    "        fib.append(fib[-1] + fib[-2])\n",
    "    \n",
    "    # Generate angles for creating the spiral\n",
    "    angles = np.linspace(0, 2 * np.pi, 100)\n",
    "    \n",
    "    # Initialize lists to store x and y coordinates\n",
    "    x = [0]\n",
    "    y = [0]\n",
    "    \n",
    "    # Create arcs for each Fibonacci number\n",
    "    for i in range(n):\n",
    "        r = fib[i]  # Radius based on Fibonacci number\n",
    "        x.append(r * np.cos(angles))  # X coordinates of the arc\n",
    "        y.append(r * np.sin(angles))  # Y coordinates of the arc\n",
    "    \n",
    "    # Plot the Fibonacci spiral\n",
    "    plt.figure(figsize=(5, 8))\n",
    "    for i in range(n):\n",
    "        plt.plot(x[i], y[i])\n",
    "    \n",
    "    plt.gca().set_aspect('equal', adjustable='box')  # Maintain aspect ratio\n",
    "    plt.title(\"Fibonacci Spiral\")\n",
    "    plt.show()\n",
    "\n",
    "\n",
    "fibonacci_spiral(10)"
   ]
  },
  {
   "cell_type": "code",
   "execution_count": null,
   "id": "b6d4d49c",
   "metadata": {},
   "outputs": [],
   "source": []
  },
  {
   "cell_type": "markdown",
   "id": "495e9dd3",
   "metadata": {},
   "source": [
    "### 2. Fibonacci Search Algorithm\n",
    "- **Idea**: This algorithm is used to find an item in a sorted list by dividing the list into sections based on Fibonacci numbers. \n",
    "- It’s an efficient searching technique that works well for large sorted arrays, leveraging the properties of Fibonacci numbers to reduce the number of comparisons needed."
   ]
  },
  {
   "cell_type": "code",
   "execution_count": 33,
   "id": "7161d96b",
   "metadata": {},
   "outputs": [
    {
     "name": "stdout",
     "output_type": "stream",
     "text": [
      "Element found at index 8\n"
     ]
    }
   ],
   "source": [
    "def fibonacci_search(sorted_array, target):\n",
    "    # Initialize the first two Fibonacci numbers\n",
    "    fib_prev2 = 0\n",
    "    fib_prev1 = 1\n",
    "    fib_current = fib_prev1 + fib_prev2\n",
    "    \n",
    "    # Length of the sorted array\n",
    "    array_length = len(sorted_array)\n",
    "    \n",
    "    # Find the smallest Fibonacci number greater than or equal to the array length\n",
    "    while fib_current < array_length:\n",
    "        fib_prev2 = fib_prev1\n",
    "        fib_prev1 = fib_current\n",
    "        fib_current = fib_prev1 + fib_prev2\n",
    "    \n",
    "    # Initial position\n",
    "    offset = -1\n",
    "    \n",
    "    # Perform the Fibonacci search\n",
    "    while fib_current > 1:\n",
    "        # Calculate the index to check\n",
    "        index = min(offset + fib_prev2, array_length - 1)\n",
    "        \n",
    "        # Compare the target value with the value at index\n",
    "        if sorted_array[index] < target:\n",
    "            # Move the Fibonacci window forward\n",
    "            fib_current = fib_prev1\n",
    "            fib_prev1 = fib_prev2\n",
    "            fib_prev2 = fib_current - fib_prev1\n",
    "            offset = index\n",
    "            \n",
    "        elif sorted_array[index] > target:\n",
    "            # Move the Fibonacci window backward\n",
    "            fib_current = fib_prev2\n",
    "            fib_prev1 -= fib_prev2\n",
    "            fib_prev2 = fib_current - fib_prev1\n",
    "            \n",
    "        else:\n",
    "            # Target found\n",
    "            return index\n",
    "    \n",
    "    # Check if the target is at the next position\n",
    "    if fib_prev1 and sorted_array[offset + 1] == target:\n",
    "        return offset + 1\n",
    "    \n",
    "    # Target not found\n",
    "    return -1\n",
    "\n",
    "# Example usage of Fibonacci search\n",
    "sorted_array = [10, 22, 35, 40, 45, 50, 80, 82, 85, 90, 100]\n",
    "target = 85\n",
    "result = fibonacci_search(sorted_array, target)\n",
    "\n",
    "if result != -1:\n",
    "    print(f\"Element found at index {result}\")\n",
    "else:\n",
    "    print(\"Element not found\")"
   ]
  },
  {
   "cell_type": "code",
   "execution_count": null,
   "id": "3252db8f",
   "metadata": {},
   "outputs": [],
   "source": []
  },
  {
   "cell_type": "markdown",
   "id": "c85deeb1",
   "metadata": {},
   "source": [
    "### 3. Fibonacci with Memoization\n",
    "- **Idea** : This approach calculates Fibonacci numbers more efficiently by storing previously computed results. \n",
    "- Instead of recalculating Fibonacci numbers repeatedly, it saves results in a dictionary (memo) and reuses them. \n",
    "- This significantly speeds up the computation for large Fibonacci numbers."
   ]
  },
  {
   "cell_type": "code",
   "execution_count": 34,
   "id": "e29e9d2f",
   "metadata": {},
   "outputs": [
    {
     "name": "stdout",
     "output_type": "stream",
     "text": [
      "12586269025\n"
     ]
    }
   ],
   "source": [
    "def fibonacci_memo(n, memo={}):\n",
    "    \n",
    "    # Check if the result is already in the memo\n",
    "    if n in memo:\n",
    "        return memo[n]\n",
    "    \n",
    "    # Base cases for the Fibonacci sequence\n",
    "    if n <= 1:\n",
    "        return n\n",
    "    \n",
    "    # Recursively calculate Fibonacci number and store in memo\n",
    "    memo[n] = fibonacci_memo(n-1, memo) + fibonacci_memo(n-2, memo)\n",
    "    return memo[n]\n",
    "\n",
    "print(fibonacci_memo(50))"
   ]
  },
  {
   "cell_type": "code",
   "execution_count": null,
   "id": "6ce421c0",
   "metadata": {},
   "outputs": [],
   "source": []
  },
  {
   "cell_type": "code",
   "execution_count": null,
   "id": "916acf3c",
   "metadata": {},
   "outputs": [],
   "source": []
  },
  {
   "cell_type": "markdown",
   "id": "b1b2ac95",
   "metadata": {},
   "source": [
    "## 1.2. Arithmetic Sequences\n",
    "\n",
    "An arithmetic sequence (or arithmetic progression) is a sequence in which the difference between consecutive terms is constant, called the common difference ($d$).\n",
    "\n",
    "### General Formula\n",
    "\n",
    "The general formula for the $n$-th term of an arithmetic sequence is:\n",
    "$$\n",
    "[\n",
    "a_n = a_1 + (n - 1) \\cdot d\n",
    "]\n",
    "$$\n",
    "### Example Calculation\n",
    "\n",
    "Consider the sequence $2, 5, 8, 11, 14$. The common difference ($d$) is 3.\n",
    "\n",
    "- The first term ($a_1$) is 2.\n",
    "- The second term is calculated as $a_2 = a_1 + d = 2 + 3 = 5$.\n",
    "- The third term is calculated as $a_3 = a_2 + d = 5 + 3 = 8$.\n",
    "- Continue this pattern to get subsequent terms: $a_4 = a_3 + d = 8 + 3 = 11$, $a_5 = a_4 + d = 11 + 3 = 14$."
   ]
  },
  {
   "cell_type": "code",
   "execution_count": 35,
   "id": "d8738bb4",
   "metadata": {},
   "outputs": [
    {
     "name": "stdout",
     "output_type": "stream",
     "text": [
      "[2, 5, 8, 11, 14, 17, 20, 23, 26, 29]\n"
     ]
    }
   ],
   "source": [
    "def arithmetic_sequence(a1, d, n):\n",
    "    return [a1 + (i - 1) * d for i in range(1, n + 1)]\n",
    "\n",
    "print(arithmetic_sequence(2, 3, 10))  # Output = [2, 5, 8, 11, 14, 17, 20, 23, 26, 29]"
   ]
  },
  {
   "cell_type": "code",
   "execution_count": null,
   "id": "47740442",
   "metadata": {},
   "outputs": [],
   "source": []
  },
  {
   "cell_type": "markdown",
   "id": "47978164",
   "metadata": {},
   "source": [
    "### Real-World Application"
   ]
  },
  {
   "cell_type": "markdown",
   "id": "244ec53c",
   "metadata": {},
   "source": [
    "---\n",
    "### 1. Calculating Total Cost of Monthly Payments on a Loan\n",
    "- **Idea**: An arithmetic sequence can model a loan where the monthly payment increases by a fixed amount each month. This can help in calculating the total cost of the loan over its term.\n",
    "\n",
    "- **Example**: Suppose you have a loan where the monthly payment starts at $200$ and increases by $10 each month. To find the total cost over a year, you can use an arithmetic sequence."
   ]
  },
  {
   "cell_type": "code",
   "execution_count": 36,
   "id": "1f5d68a9",
   "metadata": {},
   "outputs": [
    {
     "name": "stdout",
     "output_type": "stream",
     "text": [
      "Total cost of the loan over 12 months: $3060.00\n"
     ]
    }
   ],
   "source": [
    "def total_loan_cost(start_payment, increase_per_month, months):\n",
    "    # Initialize total cost\n",
    "    total_cost = 0\n",
    "    \n",
    "    # Calculate the cost for each month and add to total\n",
    "    for month in range(months):\n",
    "        monthly_payment = start_payment + month * increase_per_month\n",
    "        total_cost += monthly_payment\n",
    "    \n",
    "    return total_cost\n",
    "\n",
    "\n",
    "start_payment = 200  # Initial payment amount\n",
    "increase_per_month = 10  # Increase in payment each month\n",
    "months = 12  # Number of months\n",
    "\n",
    "total_cost = total_loan_cost(start_payment, increase_per_month, months)\n",
    "print(f\"Total cost of the loan over {months} months: ${total_cost:.2f}\")"
   ]
  },
  {
   "cell_type": "code",
   "execution_count": null,
   "id": "1e6ede32",
   "metadata": {},
   "outputs": [],
   "source": []
  },
  {
   "cell_type": "code",
   "execution_count": null,
   "id": "31536bb0",
   "metadata": {},
   "outputs": [],
   "source": []
  },
  {
   "cell_type": "markdown",
   "id": "e1261e7c",
   "metadata": {},
   "source": [
    "### 2. Predicting Sales Revenue with Fixed Monthly Increase\n",
    "- **Idea**: If a company’s sales revenue increases by a fixed amount each month, an arithmetic sequence can predict future revenue. This helps in budgeting and financial planning.\n",
    "\n",
    "- **Example**: If a company's revenue starts at $5000$ and increases by $200 each month, you can calculate the revenue for each month over a year."
   ]
  },
  {
   "cell_type": "code",
   "execution_count": 37,
   "id": "76b3a5e1",
   "metadata": {},
   "outputs": [
    {
     "name": "stdout",
     "output_type": "stream",
     "text": [
      "Month 1: Revenue = $5000.00\n",
      "Month 2: Revenue = $5200.00\n",
      "Month 3: Revenue = $5400.00\n",
      "Month 4: Revenue = $5600.00\n",
      "Month 5: Revenue = $5800.00\n",
      "Month 6: Revenue = $6000.00\n",
      "Month 7: Revenue = $6200.00\n",
      "Month 8: Revenue = $6400.00\n",
      "Month 9: Revenue = $6600.00\n",
      "Month 10: Revenue = $6800.00\n",
      "Month 11: Revenue = $7000.00\n",
      "Month 12: Revenue = $7200.00\n"
     ]
    }
   ],
   "source": [
    "def predict_revenue(start_revenue, increase_per_month, months):\n",
    "    # Initialize a list to store monthly revenues\n",
    "    revenue_list = []\n",
    "    \n",
    "    # Calculate revenue for each month and store in list\n",
    "    for month in range(months):\n",
    "        monthly_revenue = start_revenue + month * increase_per_month\n",
    "        revenue_list.append(monthly_revenue)\n",
    "    \n",
    "    return revenue_list\n",
    "\n",
    "\n",
    "start_revenue = 5000  # Initial revenue\n",
    "increase_per_month = 200  # Increase in revenue each month\n",
    "months = 12  # Number of months\n",
    "\n",
    "revenue_forecast = predict_revenue(start_revenue, increase_per_month, months)\n",
    "for i, revenue in enumerate(revenue_forecast, 1):\n",
    "    print(f\"Month {i}: Revenue = ${revenue:.2f}\")"
   ]
  },
  {
   "cell_type": "code",
   "execution_count": null,
   "id": "6861b5f4",
   "metadata": {},
   "outputs": [],
   "source": []
  },
  {
   "cell_type": "code",
   "execution_count": null,
   "id": "96a7f78c",
   "metadata": {},
   "outputs": [],
   "source": []
  },
  {
   "cell_type": "markdown",
   "id": "72b408ba",
   "metadata": {},
   "source": [
    "## 1.3. Geometric Sequences\n",
    "\n",
    "A geometric sequence (or geometric progression) is a sequence where each term is obtained by multiplying the previous term by a constant ratio ($r$).\n",
    "\n",
    "### General Formula\n",
    "\n",
    "The general formula for the $n$-th term of a geometric sequence is:\n",
    "$$\n",
    "[\n",
    "a_n = a_1 \\cdot r^{(n - 1)}\n",
    "]\n",
    "$$\n",
    "### Example Calculation\n",
    "\n",
    "Consider the sequence $3, 6, 12, 24$. The common ratio ($r$) is 2.\n",
    "\n",
    "- The first term ($a_1$) is 3.\n",
    "- The second term is calculated as $a_2 = a_1 \\cdot r = 3 \\cdot 2 = 6$.\n",
    "- The third term is calculated as $a_3 = a_2 \\cdot r = 6 \\cdot 2 = 12$.\n",
    "- Continue this pattern to get subsequent terms: $a_4 = a_3 \\cdot r = 12 \\cdot 2 = 24$."
   ]
  },
  {
   "cell_type": "code",
   "execution_count": 38,
   "id": "e503f9b6",
   "metadata": {},
   "outputs": [
    {
     "name": "stdout",
     "output_type": "stream",
     "text": [
      "[3, 6, 12, 24, 48, 96, 192, 384, 768, 1536]\n"
     ]
    }
   ],
   "source": [
    "def geometric_sequence(a1, r, n):\n",
    "    return [a1 * r**(i - 1) for i in range(1, n + 1)]\n",
    "\n",
    "print(geometric_sequence(3, 2, 10))  # Output = [3, 6, 12, 24, 48, 96, 192, 384, 768, 1536]"
   ]
  },
  {
   "cell_type": "code",
   "execution_count": null,
   "id": "914af3af",
   "metadata": {},
   "outputs": [],
   "source": []
  },
  {
   "cell_type": "markdown",
   "id": "50a1599a",
   "metadata": {},
   "source": [
    "### Real-World Application:"
   ]
  },
  {
   "cell_type": "code",
   "execution_count": null,
   "id": "e19c3741",
   "metadata": {},
   "outputs": [],
   "source": []
  },
  {
   "cell_type": "markdown",
   "id": "2c0bf543",
   "metadata": {},
   "source": [
    "### 1. Population Growth\n",
    "- **Idea**: Population growth often follows an exponential pattern, where the population increases by a constant percentage over each time period. This can be modeled using a geometric sequence.\n",
    "\n",
    "- **Example**: If a population starts at 1,000 individuals and grows by 5% annually, you can predict the population size after a certain number of years."
   ]
  },
  {
   "cell_type": "code",
   "execution_count": 39,
   "id": "86f03312",
   "metadata": {},
   "outputs": [
    {
     "name": "stdout",
     "output_type": "stream",
     "text": [
      "Year 1: Population = 1000\n",
      "Year 2: Population = 1050\n",
      "Year 3: Population = 1102\n",
      "Year 4: Population = 1158\n",
      "Year 5: Population = 1216\n",
      "Year 6: Population = 1276\n",
      "Year 7: Population = 1340\n",
      "Year 8: Population = 1407\n",
      "Year 9: Population = 1477\n",
      "Year 10: Population = 1551\n"
     ]
    }
   ],
   "source": [
    "def population_growth(initial_population, growth_rate, years):\n",
    "    # Initialize the population list\n",
    "    population_list = []\n",
    "    \n",
    "    # Calculate the population for each year\n",
    "    for year in range(years):\n",
    "        population = initial_population * (1 + growth_rate) ** year\n",
    "        population_list.append(population)\n",
    "    \n",
    "    return population_list\n",
    "\n",
    "\n",
    "initial_population = 1000  # Initial population\n",
    "growth_rate = 0.05  # Annual growth rate (5%)\n",
    "years = 10  # Number of years\n",
    "\n",
    "populations = population_growth(initial_population, growth_rate, years)\n",
    "for year, pop in enumerate(populations, 1):\n",
    "    print(f\"Year {year}: Population = {pop:.0f}\")"
   ]
  },
  {
   "cell_type": "code",
   "execution_count": null,
   "id": "a1e103db",
   "metadata": {},
   "outputs": [],
   "source": []
  },
  {
   "cell_type": "markdown",
   "id": "80ef5b1f",
   "metadata": {},
   "source": [
    "### 2. Compound Interest Calculations\n",
    "- **Idea**: Compound interest is calculated based on the initial amount and an interest rate applied periodically. This forms a geometric sequence where each term represents the amount at the end of each period.\n",
    "\n",
    "- **Example**: If you invest $1,000 at an annual interest rate of 4%, compounded annually, you can calculate the amount after a certain number of years."
   ]
  },
  {
   "cell_type": "code",
   "execution_count": 40,
   "id": "e0d5fb1c",
   "metadata": {},
   "outputs": [
    {
     "name": "stdout",
     "output_type": "stream",
     "text": [
      "Year 1: Amount = $1000.00\n",
      "Year 2: Amount = $1040.00\n",
      "Year 3: Amount = $1081.60\n",
      "Year 4: Amount = $1124.86\n",
      "Year 5: Amount = $1169.86\n",
      "Year 6: Amount = $1216.65\n",
      "Year 7: Amount = $1265.32\n",
      "Year 8: Amount = $1315.93\n",
      "Year 9: Amount = $1368.57\n",
      "Year 10: Amount = $1423.31\n"
     ]
    }
   ],
   "source": [
    "def compound_interest(principal, annual_rate, years):\n",
    "    # Initialize the amount list\n",
    "    amount_list = []\n",
    "    \n",
    "    # Calculate the amount for each year\n",
    "    for year in range(years):\n",
    "        amount = principal * (1 + annual_rate) ** year\n",
    "        amount_list.append(amount)\n",
    "    \n",
    "    return amount_list\n",
    "\n",
    "principal = 1000  # Initial investment amount\n",
    "annual_rate = 0.04  # Annual interest rate (4%)\n",
    "years = 10  # Number of years\n",
    "\n",
    "amounts = compound_interest(principal, annual_rate, years)\n",
    "for year, amt in enumerate(amounts, 1):\n",
    "    print(f\"Year {year}: Amount = ${amt:.2f}\")"
   ]
  },
  {
   "cell_type": "code",
   "execution_count": null,
   "id": "6670a110",
   "metadata": {},
   "outputs": [],
   "source": []
  },
  {
   "cell_type": "markdown",
   "id": "54c95fb7",
   "metadata": {},
   "source": [
    "### 3. Algorithms in Computer Science\n",
    "- **Idea**: Many algorithms, especially those related to sorting and searching, have performance characteristics that grow or shrink exponentially with the input size. Geometric sequences can describe the time or space complexity of these algorithms.\n",
    "\n",
    "- **Example**:The time complexity of certain algorithms, like the number of comparisons in a binary search, can be expressed in terms of powers of **2**, which is a geometric sequence."
   ]
  },
  {
   "cell_type": "code",
   "execution_count": 41,
   "id": "9e1f753a",
   "metadata": {},
   "outputs": [
    {
     "name": "stdout",
     "output_type": "stream",
     "text": [
      "Number of comparisons for binary search in an array of size 1024: [0, 1, 2, 3, 4, 5, 6, 7, 8, 9, 10]\n"
     ]
    }
   ],
   "source": [
    "def binary_search_comparisons(n):\n",
    "    # Calculate the number of comparisons in a binary search\n",
    "    comparisons = []\n",
    "    \n",
    "    # Each step halves the problem size\n",
    "    steps = 0\n",
    "    while n > 1:\n",
    "        comparisons.append(steps)\n",
    "        n = n // 2\n",
    "        steps += 1\n",
    "    \n",
    "    comparisons.append(steps)  # Last comparison\n",
    "    return comparisons\n",
    "\n",
    "\n",
    "n = 1024  # Number of elements\n",
    "comparisons = binary_search_comparisons(n)\n",
    "print(f\"Number of comparisons for binary search in an array of size {n}: {comparisons}\")"
   ]
  },
  {
   "cell_type": "code",
   "execution_count": null,
   "id": "3b7a8089",
   "metadata": {},
   "outputs": [],
   "source": []
  },
  {
   "cell_type": "code",
   "execution_count": null,
   "id": "c97bebff",
   "metadata": {},
   "outputs": [],
   "source": []
  },
  {
   "cell_type": "markdown",
   "id": "7e7b2e47",
   "metadata": {},
   "source": [
    "# 2. Arithmetic and Geometric Progressions\n",
    "\n",
    "## 2.1. Arithmetic Progression (AP)\n",
    "\n",
    "In an arithmetic progression, the difference between any two consecutive terms is constant.\n",
    "\n",
    "### Formula for the $n$-th Term\n",
    "$$\n",
    "[\n",
    "a_n = a_1 + (n - 1) \\cdot d\n",
    "]\n",
    "$$\n",
    "\n",
    "### Sum of the First $n$ Terms\n",
    "$$\n",
    "[\n",
    "S_n = \\frac{n}{2} \\cdot [2a_1 + (n - 1) \\cdot d]\n",
    "]\n",
    "$$\n",
    "### Example Calculation\n",
    "\n",
    "A developer's salary starts at 200,000 and increases by 40,000 each year. Find the total salary over 5 years.\n",
    "\n",
    "- First term ($a_1$) = 200,000\n",
    "- Common difference ($d$) = 40,000\n",
    "- Number of terms ($n$) = 5\n",
    "\n",
    "Sum of the first 5 terms:\n",
    "\n",
    "$$\n",
    "[\n",
    "S_n = \\frac{5}{2} \\cdot [2 \\cdot 200,000 + (5 - 1) \\cdot 40,000] = \\frac{5}{2} \\cdot [400,000 + 160,000] = \\frac{5}{2} \\cdot 560,000 = 1,400,000\n",
    "]\n",
    "$$"
   ]
  },
  {
   "cell_type": "code",
   "execution_count": 42,
   "id": "28f39d79",
   "metadata": {},
   "outputs": [
    {
     "name": "stdout",
     "output_type": "stream",
     "text": [
      "1400000.0\n"
     ]
    }
   ],
   "source": [
    "def arithmetic_sum(a1, d, n):\n",
    "    return (n / 2) * (2 * a1 + (n - 1) * d)\n",
    "\n",
    "print(arithmetic_sum(200000, 40000, 5))  # Output = 1400000.0"
   ]
  },
  {
   "cell_type": "code",
   "execution_count": null,
   "id": "b97268c4",
   "metadata": {},
   "outputs": [],
   "source": []
  },
  {
   "cell_type": "markdown",
   "id": "6a196300",
   "metadata": {},
   "source": [
    "## 2.2. Geometric Progression (GP)\n",
    "\n",
    "In a geometric progression, each term is found by multiplying the previous term by a constant ratio.\n",
    "\n",
    "### Formula for the $n$-th Term\n",
    "$$\n",
    "[\n",
    "a_n = a_1 \\cdot r^{(n - 1)}\n",
    "]\n",
    "$$\n",
    "### Sum of the First $n$ Terms\n",
    "$$\n",
    "[\n",
    "S_n = a_1 \\cdot \\frac{r^n - 1}{r - 1} \\quad \\text{(for $r \\ne 1$)}\n",
    "]\n",
    "$$\n",
    "### Example Calculation\n",
    "\n",
    "Find the sum of the first 5 terms of the sequence $2, 6, 18, 54, 162$ with $r = 3$.\n",
    "\n",
    "- First term ($a_1$) = 2\n",
    "- Common ratio ($r$) = 3\n",
    "- Number of terms ($n$) = 5\n",
    "\n",
    "Sum of the first 5 terms:\n",
    "$$\n",
    "[\n",
    "S_n = 2 \\cdot \\frac{3^5 - 1}{3 - 1} = 2 \\cdot \\frac{243 - 1}{2} = 2 \\cdot 121 = 242\n",
    "]\n",
    "$$"
   ]
  },
  {
   "cell_type": "code",
   "execution_count": 43,
   "id": "8fdb8d20",
   "metadata": {},
   "outputs": [
    {
     "name": "stdout",
     "output_type": "stream",
     "text": [
      "242\n"
     ]
    }
   ],
   "source": [
    "def geometric_sum(a1, r, n):\n",
    "    return a1 * (r**n - 1) // (r - 1)\n",
    "\n",
    "print(geometric_sum(2, 3, 5))  # Output = 242"
   ]
  },
  {
   "cell_type": "code",
   "execution_count": null,
   "id": "aadb4c8a",
   "metadata": {},
   "outputs": [],
   "source": []
  },
  {
   "cell_type": "markdown",
   "id": "0232988b",
   "metadata": {},
   "source": [
    "# 3. Series\n",
    "\n",
    "A series is the sum of the terms of a sequence.\n",
    "\n",
    "## 3.1. Finite Series\n",
    "\n",
    "### Example\n",
    "\n",
    "Sum of the first 6 odd numbers: $1, 3, 5, 7, 9, 11$.\n",
    "\n",
    "To calculate the sum of these numbers:\n",
    "$$\n",
    "[\n",
    "S_6 = 1 + 3 + 5 + 7 + 9 + 11 = 36\n",
    "]\n",
    "$$"
   ]
  },
  {
   "cell_type": "code",
   "execution_count": 44,
   "id": "339113e5",
   "metadata": {},
   "outputs": [
    {
     "name": "stdout",
     "output_type": "stream",
     "text": [
      "36\n"
     ]
    }
   ],
   "source": [
    "def sum_of_odds(n):\n",
    "    return sum(2 * i - 1 for i in range(1, n + 1))\n",
    "\n",
    "print(sum_of_odds(6))  # Output = 36"
   ]
  },
  {
   "cell_type": "code",
   "execution_count": null,
   "id": "0f769c89",
   "metadata": {},
   "outputs": [],
   "source": []
  },
  {
   "cell_type": "code",
   "execution_count": null,
   "id": "e2e516cd",
   "metadata": {},
   "outputs": [],
   "source": []
  },
  {
   "cell_type": "markdown",
   "id": "a621d293",
   "metadata": {},
   "source": [
    "## 3.2. Infinite Series\n",
    "\n",
    "### Example\n",
    "\n",
    "Consider the geometric series with $a_1 = \\frac{1}{2}$ and $r = \\frac{1}{2}$. The sum of this infinite series can be found using:\n",
    "$$\n",
    "[\n",
    "S = \\frac{a_1}{1 - r}\n",
    "]\n",
    "$$\n",
    "Substitute the values:\n",
    "$$\n",
    "[\n",
    "S = \\frac{\\frac{1}{2}}{1 - \\frac{1}{2}} = \\frac{\\frac{1}{2}}{\\frac{1}{2}} = 1\n",
    "]\n",
    "$$"
   ]
  },
  {
   "cell_type": "code",
   "execution_count": 45,
   "id": "fa812a6d",
   "metadata": {},
   "outputs": [
    {
     "name": "stdout",
     "output_type": "stream",
     "text": [
      "1.0\n"
     ]
    }
   ],
   "source": [
    "def infinite_geometric_sum(a1, r):\n",
    "    return a1 / (1 - r)\n",
    "\n",
    "print(infinite_geometric_sum(1/2, 1/2))  # Output = 1.0"
   ]
  },
  {
   "cell_type": "code",
   "execution_count": null,
   "id": "4d677071",
   "metadata": {},
   "outputs": [],
   "source": []
  },
  {
   "cell_type": "code",
   "execution_count": null,
   "id": "392b9257",
   "metadata": {},
   "outputs": [],
   "source": []
  },
  {
   "cell_type": "markdown",
   "id": "5aab2984",
   "metadata": {},
   "source": [
    "# 3. Vectors Basics"
   ]
  },
  {
   "cell_type": "code",
   "execution_count": null,
   "id": "d3e9a7ba",
   "metadata": {},
   "outputs": [],
   "source": []
  },
  {
   "cell_type": "markdown",
   "id": "b9668654",
   "metadata": {},
   "source": [
    "- ## Scalars vs. Vectors\n",
    "\n",
    "## Scalars\n",
    "\n",
    "Scalars are simply numbers. They are used to describe quantities that only need one value. Scalars are one-dimensional and are typically denoted with lowercase symbols like `a` or `b`. \n",
    "\n",
    "### Examples of Scalar Quantities\n",
    "- Time\n",
    "- Temperature\n",
    "- Weight\n",
    "---\n",
    "## Vectors\n",
    "\n",
    "Vectors, on the other hand, are ordered lists of numbers and are usually denoted with bold lowercase Roman letters like **a** or **b**, with an arrow on top. Vectors are used to describe multidimensional quantities and have two key characteristics:\n",
    "\n",
    "- **Direction**: The direction in which the vector points.\n",
    "- **Magnitude**: The length of the vector."
   ]
  },
  {
   "cell_type": "code",
   "execution_count": null,
   "id": "73dca194",
   "metadata": {},
   "outputs": [],
   "source": []
  },
  {
   "cell_type": "markdown",
   "id": "7829e1b4",
   "metadata": {},
   "source": [
    "## Vectors\n",
    "\n",
    "Vectors are essential for describing quantities that require more than one number to fully describe them. Examples of vector quantities include:\n",
    "\n",
    "- Velocity\n",
    "- Acceleration\n",
    "- Force\n",
    "- Location in a plane (2D)\n",
    "- Location in space (3D)"
   ]
  },
  {
   "cell_type": "code",
   "execution_count": null,
   "id": "0798cfe1",
   "metadata": {},
   "outputs": [],
   "source": []
  },
  {
   "cell_type": "markdown",
   "id": "184fd9d0",
   "metadata": {},
   "source": [
    "## Characteristics of Vectors in Python\n",
    "\n",
    "- **Dimensionality**: This refers to the number of elements in the vector. In Python, this is known as the vector's length or shape.\n",
    "\n",
    "- **Orientation**: Vectors can be oriented in different ways:\n",
    "  - **Column Vector**: A vector with elements stacked vertically.\n",
    "  - **Row Vector**: A vector with elements laid out horizontally.\n",
    "  \n",
    "## Examples of Vectors\n",
    "\n",
    "- **2D Column Vector**: \n",
    " $$\n",
    "  [\n",
    "  A = \\begin{bmatrix}\n",
    "  1 \\\\\n",
    "  2\n",
    "  \\end{bmatrix}\n",
    "  ]\n",
    "  $$\n",
    "\n",
    "- **2D Row Vector**:\n",
    "$$\n",
    "  [\n",
    "  B = \\begin{bmatrix}\n",
    "  1 & 2\n",
    "  \\end{bmatrix}\n",
    "  ]\n",
    "  $$\n",
    "\n",
    "- **3D Column Vector**: \n",
    "  $$\n",
    "  [\n",
    "  C = \\begin{bmatrix}\n",
    "  1 \\\\\n",
    "  2 \\\\\n",
    "  3\n",
    "  \\end{bmatrix}\n",
    "  ]\n",
    "  $$\n",
    "\n",
    "- **3D Row Vector**:\n",
    " $$\n",
    "  [\n",
    "  D = \\begin{bmatrix}\n",
    "  1 & 2 & 3\n",
    "  \\end{bmatrix}\n",
    "  ]\n",
    "  $$\n",
    "\n",
    "Even though vectors \\( C \\) and \\( D \\) have the same elements, their orientation (column vs. row) makes them different. This distinction is important because the orientation can affect arithmetic operations and data storage.\n"
   ]
  },
  {
   "cell_type": "code",
   "execution_count": null,
   "id": "e8f6a193",
   "metadata": {},
   "outputs": [],
   "source": []
  },
  {
   "cell_type": "markdown",
   "id": "075eef8f",
   "metadata": {},
   "source": [
    "## Vector Representation in Python\n",
    "\n",
    "Vectors can be represented in Python in several ways:\n",
    "\n",
    "- **1. Lists**: The simplest way to represent a vector is with a list. For example, vector \\( C \\) can be represented as:"
   ]
  },
  {
   "cell_type": "code",
   "execution_count": 46,
   "id": "8ddcbf1f",
   "metadata": {},
   "outputs": [],
   "source": [
    "C = [1, 2, 3]"
   ]
  },
  {
   "cell_type": "code",
   "execution_count": null,
   "id": "2f4e23c2",
   "metadata": {},
   "outputs": [],
   "source": []
  },
  {
   "cell_type": "markdown",
   "id": "6ffbd346",
   "metadata": {},
   "source": [
    "## NumPy Arrays\n",
    "\n",
    "- For more advanced operations, vectors are often represented as NumPy arrays. \n",
    "- This allows for efficient mathematical computations. For example:\n"
   ]
  },
  {
   "cell_type": "code",
   "execution_count": 47,
   "id": "dc5fe600",
   "metadata": {},
   "outputs": [],
   "source": [
    "import numpy as np\n",
    "C = np.array([1, 2, 3])"
   ]
  },
  {
   "cell_type": "code",
   "execution_count": 48,
   "id": "fa293433",
   "metadata": {},
   "outputs": [],
   "source": [
    "## Row Vector \n",
    "\n",
    "C_row = np.array([[1, 2, 3]])"
   ]
  },
  {
   "cell_type": "code",
   "execution_count": 49,
   "id": "461dd9e7",
   "metadata": {},
   "outputs": [],
   "source": [
    "## Column Vector:\n",
    "\n",
    "C_column = np.array([[1], [2], [3]])"
   ]
  },
  {
   "cell_type": "markdown",
   "id": "cff8849e",
   "metadata": {},
   "source": [
    "## Orientation in NumPy\n",
    "\n",
    "In NumPy, the orientation is indicated by the shape of the array. \n",
    "- A **row vector** will have one row and multiple columns.\n",
    "- A **column vector** will have multiple rows and one column.\n",
    "\n",
    "### Graphical Representation\n",
    "\n",
    "Vectors can be represented graphically with arrows. In a vector \\( C \\):\n",
    "- The **starting point** (where the vector begins) is called the **tail**.\n",
    "- The **ending point** (where the vector ends) is called the **head** or **tip**."
   ]
  },
  {
   "cell_type": "code",
   "execution_count": null,
   "id": "1a7c24de",
   "metadata": {},
   "outputs": [],
   "source": []
  },
  {
   "cell_type": "markdown",
   "id": "dc5d3557",
   "metadata": {},
   "source": [
    "---\n",
    "# Vector Arithmetic"
   ]
  },
  {
   "cell_type": "markdown",
   "id": "933de93c",
   "metadata": {},
   "source": [
    "# Introduction to Vector Operations\n",
    "\n",
    "Automatic operations on vectors are performed element-wise between two vectors of equal length, resulting in a new vector with the same length. These operations include addition, subtraction, multiplication by a scalar, and multiplication by another vector. Let's dive into each operation.\n",
    "\n",
    "## Addition of Vectors\n",
    "\n",
    "To add two vectors, we add their corresponding elements. Addition is possible only for vectors of the same dimension. For example, given vectors:\n",
    "\n",
    "$$\n",
    "\\mathbf{a} = [6, 7, 8]\n",
    "$$\n",
    "\n",
    "$$\n",
    "\\mathbf{b} = [5, -4, 4]\n",
    "$$\n",
    "\n",
    "The sum of these two vectors, $\\mathbf{a} + \\mathbf{b}$, is:\n",
    "\n",
    "$$\n",
    "\\mathbf{a} + \\mathbf{b} = [6 + 5, 7 + (-4), 8 + 4] = [11, 3, 12]\n",
    "$$\n",
    "\n",
    "### Graphical Representation:\n",
    "\n",
    "Place the head of vector $\\mathbf{b}$ at the tail of vector $\\mathbf{a}$. The sum vector $\\mathbf{a} + \\mathbf{b}$ traverses from the tail of $\\mathbf{a}$ to the head of $\\mathbf{b}$.\n",
    "\n",
    "### Commutative Property:\n",
    "\n",
    "$$\n",
    "\\mathbf{a} + \\mathbf{b} = \\mathbf{b} + \\mathbf{a}\n",
    "$$\n",
    "\n",
    "## Subtraction of Vectors\n",
    "\n",
    "Vector subtraction is also done element-wise. We take the difference of corresponding components from each vector. Using the same vectors $\\mathbf{a}$ and $\\mathbf{b}$:\n",
    "\n",
    "$$\n",
    "\\mathbf{a} - \\mathbf{b} = [6 - 5, 7 - (-4), 8 - 4] = [1, 11, 4]\n",
    "$$\n",
    "\n",
    "### Note:\n",
    "\n",
    "Unlike vector addition, vector subtraction is not commutative:\n",
    "\n",
    "$$\n",
    "\\mathbf{a} - \\mathbf{b} \\neq \\mathbf{b} - \\mathbf{a}\n",
    "$$\n",
    "\n",
    "### Graphical Representation:\n",
    "\n",
    "Align the tails of both vectors. The difference vector is the line from the head of the negative vector to the head of the positive vector.\n",
    "\n",
    "## Multiplication by a Scalar\n",
    "\n",
    "To multiply a vector by a scalar, multiply each element of the vector by the scalar. For example, multiplying vector $\\mathbf{a}$ by scalar 5:\n",
    "\n",
    "$$\n",
    "5 \\cdot \\mathbf{a} = [5 \\cdot 6, 5 \\cdot 7, 5 \\cdot 8] = [30, 35, 40]\n",
    "$$\n",
    "\n",
    "## Multiplication of Vectors\n",
    "\n",
    "Vector multiplication is done by multiplying each corresponding component of the vectors. For vectors $\\mathbf{a} = [6, 7, 8]$ and $\\mathbf{b} = [5, -4, 4]$:\n",
    "\n",
    "$$\n",
    "\\mathbf{a} \\cdot \\mathbf{b} = [6 \\cdot 5, 7 \\cdot (-4), 8 \\cdot 4] = [30, -28, 32]\n",
    "$$\n",
    "\n",
    "## Division of Vectors\n",
    "\n",
    "Similarly, we can divide vectors element-wise. Using the same vectors:\n",
    "\n",
    "$$\n",
    "\\frac{\\mathbf{a}}{\\mathbf{b}} = \\left[\\frac{6}{5}, \\frac{7}{-4}, \\frac{8}{4}\\right] = [1.2, -1.75, 2.0]\n",
    "$$"
   ]
  },
  {
   "cell_type": "code",
   "execution_count": null,
   "id": "921d9fa1",
   "metadata": {},
   "outputs": [],
   "source": []
  },
  {
   "cell_type": "markdown",
   "id": "226795f7",
   "metadata": {},
   "source": [
    "## Practical Implementation in Python"
   ]
  },
  {
   "cell_type": "code",
   "execution_count": 50,
   "id": "32c928df",
   "metadata": {},
   "outputs": [],
   "source": [
    "# Import NumPy and Create Vectors\n",
    "import numpy as np\n",
    "\n",
    "a = np.array([6, 7, 8])\n",
    "b = np.array([5, -4, 4])\n",
    "c = np.array([5, -4, 3, 2])"
   ]
  },
  {
   "cell_type": "code",
   "execution_count": 51,
   "id": "9f9a4037",
   "metadata": {},
   "outputs": [
    {
     "name": "stdout",
     "output_type": "stream",
     "text": [
      "a + b = [11  3 12]\n"
     ]
    }
   ],
   "source": [
    "# Vector Addition\n",
    "\n",
    "a_plus_b = a + b\n",
    "\n",
    "print(\"a + b =\", a_plus_b)"
   ]
  },
  {
   "cell_type": "code",
   "execution_count": null,
   "id": "303570c6",
   "metadata": {},
   "outputs": [],
   "source": []
  },
  {
   "cell_type": "code",
   "execution_count": 52,
   "id": "88033d6d",
   "metadata": {},
   "outputs": [
    {
     "name": "stdout",
     "output_type": "stream",
     "text": [
      "Error: operands could not be broadcast together with shapes (3,) (4,) \n"
     ]
    }
   ],
   "source": [
    "# Vector Addition with Dimension Mismatch (Error)\n",
    "try:\n",
    "    a_plus_c = a + c\n",
    "except ValueError as e:\n",
    "    print(\"Error:\", e)"
   ]
  },
  {
   "cell_type": "code",
   "execution_count": 53,
   "id": "77fe5183",
   "metadata": {},
   "outputs": [
    {
     "name": "stdout",
     "output_type": "stream",
     "text": [
      "a - b = [ 1 11  4]\n"
     ]
    }
   ],
   "source": [
    "# Vector Subtraction\n",
    "a_minus_b = a - b\n",
    "print(\"a - b =\", a_minus_b)"
   ]
  },
  {
   "cell_type": "code",
   "execution_count": 54,
   "id": "5d76bd84",
   "metadata": {},
   "outputs": [
    {
     "name": "stdout",
     "output_type": "stream",
     "text": [
      "Error: operands could not be broadcast together with shapes (3,) (4,) \n"
     ]
    }
   ],
   "source": [
    "# Vector Subtraction with Dimension Mismatch (Error)\n",
    "try:\n",
    "    a_minus_c = a - c\n",
    "except ValueError as e:\n",
    "    print(\"Error:\", e)"
   ]
  },
  {
   "cell_type": "code",
   "execution_count": 55,
   "id": "7a69c666",
   "metadata": {},
   "outputs": [
    {
     "name": "stdout",
     "output_type": "stream",
     "text": [
      "5 * a = [30 35 40]\n"
     ]
    }
   ],
   "source": [
    "# Vector Scalar Multiplication\n",
    "scalar = 5\n",
    "scalar_mult_a = scalar * a\n",
    "print(\"5 * a =\", scalar_mult_a)"
   ]
  },
  {
   "cell_type": "code",
   "execution_count": 56,
   "id": "63943f0d",
   "metadata": {},
   "outputs": [
    {
     "name": "stdout",
     "output_type": "stream",
     "text": [
      "a * b = [ 30 -28  32]\n"
     ]
    }
   ],
   "source": [
    "# Vector Multiplication\n",
    "a_mult_b = a * b\n",
    "print(\"a * b =\", a_mult_b)"
   ]
  },
  {
   "cell_type": "code",
   "execution_count": 57,
   "id": "60941d48",
   "metadata": {},
   "outputs": [
    {
     "name": "stdout",
     "output_type": "stream",
     "text": [
      "a / b = [ 1.2  -1.75  2.  ]\n"
     ]
    }
   ],
   "source": [
    "# Vector Division\n",
    "a_div_b = a / b\n",
    "print(\"a / b =\", a_div_b)"
   ]
  },
  {
   "cell_type": "code",
   "execution_count": null,
   "id": "a84c6704",
   "metadata": {},
   "outputs": [],
   "source": []
  },
  {
   "cell_type": "code",
   "execution_count": null,
   "id": "4710235c",
   "metadata": {},
   "outputs": [],
   "source": []
  },
  {
   "cell_type": "markdown",
   "id": "31987a8f",
   "metadata": {},
   "source": [
    "---\n",
    "# Cartesian coordinate system"
   ]
  },
  {
   "cell_type": "markdown",
   "id": "8ca2e662",
   "metadata": {},
   "source": [
    "# Understanding the Cartesian Coordinate System\n",
    "\n",
    "The Cartesian coordinate system is fundamental in mathematics, physics, and computer science. Whether you're navigating to a specific location using GPS or developing a two-dimensional (2D) or three-dimensional (3D) game, coordinates are essential in defining precise points within a space.\n",
    "\n",
    "## What is the Cartesian Coordinate System?\n",
    "\n",
    "In simple terms, a coordinate system allows us to pinpoint exact locations on a plane. This system uses two numbers to represent a point's position: the x-coordinate and the y-coordinate.\n",
    "\n",
    "- **X-Axis**: Runs horizontally from left to right.\n",
    "- **Y-Axis**: Runs vertically from bottom to top.\n",
    "\n",
    "Where these two axes intersect is called the origin and is denoted as $(0, 0)$.\n",
    "\n",
    "## Plotting Points in the Coordinate System\n",
    "\n",
    "To represent a point on the coordinate plane, you specify its distance along the x-axis followed by its distance along the y-axis. For example, to plot point $A(4, 2)$:\n",
    "\n",
    "- Move 4 units to the right along the x-axis.\n",
    "- Move 2 units up along the y-axis.\n",
    "\n",
    "If you want to plot point $B(-1, 3)$:\n",
    "\n",
    "- Move 1 unit to the left along the x-axis.\n",
    "- Move 3 units up along the y-axis."
   ]
  },
  {
   "cell_type": "code",
   "execution_count": null,
   "id": "e64bac12",
   "metadata": {},
   "outputs": [],
   "source": []
  },
  {
   "cell_type": "markdown",
   "id": "dac586c2",
   "metadata": {},
   "source": [
    "## Hands-On: Plotting Points with Python"
   ]
  },
  {
   "cell_type": "code",
   "execution_count": 58,
   "id": "dede9950",
   "metadata": {},
   "outputs": [
    {
     "data": {
      "image/png": "[encoded data removed]",
      "text/plain": [
       "<Figure size 640x480 with 1 Axes>"
      ]
     },
     "metadata": {},
     "output_type": "display_data"
    }
   ],
   "source": [
    "# Import the Required Module\n",
    "import matplotlib.pyplot as plt\n",
    "\n",
    "# Plot a Single Point & Define coordinates\n",
    "x = 5\n",
    "y = 7\n",
    "\n",
    "# Generate the plot\n",
    "plt.plot(x, y, 'bx')  # 'bx' stands for blue color and Cross marker\n",
    "plt.show()"
   ]
  },
  {
   "cell_type": "code",
   "execution_count": null,
   "id": "b61a517d",
   "metadata": {},
   "outputs": [],
   "source": []
  },
  {
   "cell_type": "code",
   "execution_count": 59,
   "id": "b0ed9555",
   "metadata": {},
   "outputs": [
    {
     "data": {
      "image/png": "[encoded data removed]",
      "text/plain": [
       "<Figure size 640x480 with 1 Axes>"
      ]
     },
     "metadata": {},
     "output_type": "display_data"
    }
   ],
   "source": [
    "# Plot Multiple Points Using a Loop\n",
    "\n",
    "import random\n",
    "for i in range(5):\n",
    "    x = random.randint(-3, 3)\n",
    "    y = random.randint(-3, 3)\n",
    "    plt.plot(x, y, 'bo')  # 'bo' stands for blue color and circle marker\n",
    "\n",
    "plt.axis('square')\n",
    "plt.grid(True)\n",
    "plt.show()"
   ]
  },
  {
   "cell_type": "code",
   "execution_count": null,
   "id": "7ecb5db7",
   "metadata": {},
   "outputs": [],
   "source": []
  },
  {
   "cell_type": "code",
   "execution_count": null,
   "id": "2cd12c4c",
   "metadata": {},
   "outputs": [],
   "source": []
  },
  {
   "cell_type": "markdown",
   "id": "c278e3f7",
   "metadata": {},
   "source": [
    "## Plotting Vectors on the Coordinate System\n",
    "\n",
    "- Vectors are essential in representing direction and magnitude in the coordinate system. To plot a vector, you can use the axes.arrow function from matplotlib."
   ]
  },
  {
   "cell_type": "code",
   "execution_count": 60,
   "id": "b4867838",
   "metadata": {},
   "outputs": [
    {
     "data": {
      "image/png": "[encoded data removed]",
      "text/plain": [
       "<Figure size 640x480 with 1 Axes>"
      ]
     },
     "metadata": {},
     "output_type": "display_data"
    }
   ],
   "source": [
    "plt.axes().arrow(2, 1, 3, 5, head_width=0.1, head_length=0.2, fc='green', ec='green')\n",
    "plt.xlim(0, 6)\n",
    "plt.ylim(0, 8)\n",
    "plt.show()"
   ]
  },
  {
   "cell_type": "code",
   "execution_count": null,
   "id": "4da0da1b",
   "metadata": {},
   "outputs": [],
   "source": []
  },
  {
   "cell_type": "code",
   "execution_count": null,
   "id": "5130af09",
   "metadata": {},
   "outputs": [],
   "source": []
  },
  {
   "cell_type": "markdown",
   "id": "10e7aae8",
   "metadata": {},
   "source": [
    "---\n",
    "# Dot product of vectors"
   ]
  },
  {
   "cell_type": "markdown",
   "id": "8d708e54",
   "metadata": {},
   "source": [
    "# Introduction\n",
    "\n",
    "The dot product is a fundamental operation at the core of many algorithms and techniques in fields like machine learning, deep learning, artificial intelligence, statistics, filtering, image analysis, and more. It is an operation applied to vectors and is essential for understanding the relationship between them.\n",
    "\n",
    "## What is the Dot Product? 🔢\n",
    "\n",
    "The dot product is an operation that takes two vectors of the same dimensionality and returns a single number. This number gives us insight into the relationship between the vectors. Mathematically, the dot product of two vectors $\\mathbf{A}$ and $\\mathbf{B}$ can be represented using one of three notations, but for simplicity, we'll use the dot notation.\n",
    "\n",
    "The formula for the dot product is:\n",
    "\n",
    "$$\n",
    "\\mathbf{A} \\cdot \\mathbf{B} = \\sum_{i=1}^{n} A_i \\times B_i\n",
    "$$\n",
    "\n",
    "where:\n",
    "\n",
    "- $\\mathbf{A}$ and $\\mathbf{B}$ are vectors of the same dimensionality.\n",
    "- $A_i$ represents the $i$-th element of vector $\\mathbf{A}$.\n",
    "- $B_i$ represents the $i$-th element of vector $\\mathbf{B}$.\n",
    "- $n$ is the number of dimensions in the vectors.\n",
    "\n",
    "## Calculating the Dot Product: A Simple Example 📐\n",
    "\n",
    "Let’s work through a concrete example to make this clearer.\n",
    "\n",
    "Consider two vectors:\n",
    "\n",
    "- Vector $\\mathbf{a}$: [10, 15, 20, 25]\n",
    "- Vector $\\mathbf{b}$: [2, 4, 6, 8]\n",
    "\n",
    "To calculate the dot product of vectors $\\mathbf{a}$ and $\\mathbf{b}$, we perform the following steps:\n",
    "\n",
    "1. Multiply the first element of vector $\\mathbf{a}$ (10) with the first element of vector $\\mathbf{b}$ (2).\n",
    "2. Multiply the second element of vector $\\mathbf{a}$ (15) with the second element of vector $\\mathbf{b}$ (4).\n",
    "3. Continue this process for all elements.\n",
    "4. Finally, sum all the products.\n",
    "\n",
    "Mathematically:\n",
    "\n",
    "$$\n",
    "\\mathbf{a} \\cdot \\mathbf{b} = (10 \\times 2) + (15 \\times 4) + (20 \\times 6) + (25 \\times 8) = 20 + 60 + 120 + 200 = 400\n",
    "$$\n",
    "\n",
    "The dot product of vectors $\\mathbf{a}$ and $\\mathbf{b}$ is 400."
   ]
  },
  {
   "cell_type": "code",
   "execution_count": null,
   "id": "b42504ec",
   "metadata": {},
   "outputs": [],
   "source": []
  },
  {
   "cell_type": "markdown",
   "id": "ce598ade",
   "metadata": {},
   "source": [
    "## Implementing the Dot Product in Python 🐍"
   ]
  },
  {
   "cell_type": "code",
   "execution_count": 61,
   "id": "da638fea",
   "metadata": {},
   "outputs": [
    {
     "name": "stdout",
     "output_type": "stream",
     "text": [
      "400\n"
     ]
    }
   ],
   "source": [
    "import numpy as np\n",
    "\n",
    "# Define the vectors\n",
    "a = np.array([10, 15, 20, 25])\n",
    "b = np.array([2, 4, 6, 8])\n",
    "\n",
    "# Calculate the dot product\n",
    "dot_product = np.dot(a, b)\n",
    "\n",
    "print(dot_product)"
   ]
  },
  {
   "cell_type": "code",
   "execution_count": null,
   "id": "7c410d6a",
   "metadata": {},
   "outputs": [],
   "source": []
  },
  {
   "cell_type": "code",
   "execution_count": null,
   "id": "fe0ae9a2",
   "metadata": {},
   "outputs": [],
   "source": []
  },
  {
   "cell_type": "markdown",
   "id": "b00d671e",
   "metadata": {},
   "source": [
    "---\n",
    "# Scalar and vector projection"
   ]
  },
  {
   "cell_type": "markdown",
   "id": "aef38a53",
   "metadata": {},
   "source": [
    "## What are Vectors and Their Magnitude?\n",
    "\n",
    "Vectors differ from scalars in that they have both direction and magnitude. The magnitude, or norm, of a vector is essentially the distance from its tail to its head. To compute this, we use the following formula:\n",
    "\n",
    "$$\n",
    "\\text{Magnitude of } \\mathbf{A} = \\sqrt{A_1^2 + A_2^2 + \\cdots + A_n^2}\n",
    "$$\n",
    "\n",
    "This formula represents the square root of the sum of the squared components of the vector $\\mathbf{A}$. The magnitude is denoted by double vertical bars around the vector, like $\\|\\mathbf{A}\\|$.\n"
   ]
  },
  {
   "cell_type": "markdown",
   "id": "7de5aec8",
   "metadata": {},
   "source": [
    "### there are two popular ways to calculate the magnitude of a vector using NumPy\n",
    "\n",
    "- 1. Using the norm Function\n",
    "- 2. Using the sqrt and dot Functions"
   ]
  },
  {
   "cell_type": "code",
   "execution_count": 62,
   "id": "151129a9",
   "metadata": {},
   "outputs": [
    {
     "data": {
      "text/plain": [
       "36.742346141747674"
      ]
     },
     "execution_count": 62,
     "metadata": {},
     "output_type": "execute_result"
    }
   ],
   "source": [
    "import numpy as np\n",
    "\n",
    "magnitude_A = np.linalg.norm(a)\n",
    "magnitude_A"
   ]
  },
  {
   "cell_type": "code",
   "execution_count": 63,
   "id": "c6021429",
   "metadata": {},
   "outputs": [
    {
     "data": {
      "text/plain": [
       "36.742346141747674"
      ]
     },
     "execution_count": 63,
     "metadata": {},
     "output_type": "execute_result"
    }
   ],
   "source": [
    "magnitude_A = np.sqrt(np.dot(a, a))\n",
    "magnitude_A"
   ]
  },
  {
   "cell_type": "code",
   "execution_count": null,
   "id": "756b4b7e",
   "metadata": {},
   "outputs": [],
   "source": []
  },
  {
   "cell_type": "markdown",
   "id": "0365e57d",
   "metadata": {},
   "source": [
    "# What are Scalar and Vector Projections?\n",
    "\n",
    "## Scalar Projection\n",
    "\n",
    "A scalar projection of vector $\\mathbf{A}$ onto vector $\\mathbf{B}$ is the length of the shadow $\\mathbf{A}$ would cast onto $\\mathbf{B}$ if a light were shone perpendicular to $\\mathbf{B}$. Mathematically, it is calculated using:\n",
    "\n",
    "$$\n",
    "\\text{Scalar Projection of } \\mathbf{A} \\text{ on } \\mathbf{B} = \\frac{\\mathbf{A} \\cdot \\mathbf{B}}{\\|\\mathbf{B}\\|}\n",
    "$$\n",
    "\n",
    "where:\n",
    "\n",
    "- $\\mathbf{A} \\cdot \\mathbf{B}$ is the dot product of vectors $\\mathbf{A}$ and $\\mathbf{B}$.\n",
    "- $\\|\\mathbf{B}\\|$ is the magnitude of vector $\\mathbf{B}$.\n",
    "\n",
    "## Vector Projection\n",
    "\n",
    "A vector projection of $\\mathbf{A}$ onto $\\mathbf{B}$ goes a step further. It involves not only the magnitude of this shadow but also gives it direction along $\\mathbf{B}$. It is computed by multiplying the scalar projection by the unit vector of $\\mathbf{B}$:\n",
    "\n",
    "$$\n",
    "\\text{Vector Projection of } \\mathbf{A} \\text{ on } \\mathbf{B} = \\left( \\frac{\\mathbf{A} \\cdot \\mathbf{B}}{\\|\\mathbf{B}\\|^2} \\right) \\mathbf{B}\n",
    "$$\n",
    "\n",
    "where:\n",
    "\n",
    "- $\\frac{\\mathbf{A} \\cdot \\mathbf{B}}{\\|\\mathbf{B}\\|^2}$ is the scalar projection.\n",
    "- $\\mathbf{B}$ is the vector onto which $\\mathbf{A}$ is projected."
   ]
  },
  {
   "cell_type": "code",
   "execution_count": null,
   "id": "0b0aa476",
   "metadata": {},
   "outputs": [],
   "source": []
  },
  {
   "cell_type": "markdown",
   "id": "df06f4ff",
   "metadata": {},
   "source": [
    "## Implementing Scalar and Vector Projections"
   ]
  },
  {
   "cell_type": "code",
   "execution_count": 64,
   "id": "9907571c",
   "metadata": {},
   "outputs": [],
   "source": [
    "# Scalar Projection\n",
    "\n",
    "scalar_projection = np.dot(a, b) / np.linalg.norm(b)\n"
   ]
  },
  {
   "cell_type": "code",
   "execution_count": 65,
   "id": "1c0ae608",
   "metadata": {},
   "outputs": [
    {
     "data": {
      "text/plain": [
       "36.51483716701107"
      ]
     },
     "execution_count": 65,
     "metadata": {},
     "output_type": "execute_result"
    }
   ],
   "source": [
    "scalar_projection"
   ]
  },
  {
   "cell_type": "code",
   "execution_count": null,
   "id": "51ca9be5",
   "metadata": {},
   "outputs": [],
   "source": []
  },
  {
   "cell_type": "code",
   "execution_count": 66,
   "id": "2f9dc030",
   "metadata": {},
   "outputs": [],
   "source": [
    "# Vector Projection\n",
    "vector_projection = (np.dot(a, b) / np.dot(b, b)) * b"
   ]
  },
  {
   "cell_type": "code",
   "execution_count": 67,
   "id": "0c075fc8",
   "metadata": {},
   "outputs": [
    {
     "data": {
      "text/plain": [
       "array([ 6.66666667, 13.33333333, 20.        , 26.66666667])"
      ]
     },
     "execution_count": 67,
     "metadata": {},
     "output_type": "execute_result"
    }
   ],
   "source": [
    "vector_projection"
   ]
  },
  {
   "cell_type": "code",
   "execution_count": null,
   "id": "eeda90d8",
   "metadata": {},
   "outputs": [],
   "source": []
  },
  {
   "cell_type": "code",
   "execution_count": null,
   "id": "dbbd58c2",
   "metadata": {},
   "outputs": [],
   "source": []
  },
  {
   "cell_type": "markdown",
   "id": "699afa26",
   "metadata": {},
   "source": [
    "## Basis, Linear Independence, and Span"
   ]
  },
  {
   "cell_type": "markdown",
   "id": "09b4c660",
   "metadata": {},
   "source": [
    "---\n",
    "Understanding these concepts is fundamental for working with vector spaces and performing operations in linear algebra.\n",
    "\n",
    "## Linear Combination\n",
    "\n",
    "A vector $\\mathbf{A}$ is said to be a linear combination of vectors $\\mathbf{V}_1$ and $\\mathbf{V}_2$ if it can be expressed in the form:\n",
    "\n",
    "$$\n",
    "\\mathbf{A} = \\alpha_1 \\mathbf{V}_1 + \\alpha_2 \\mathbf{V}_2\n",
    "$$\n",
    "\n",
    "where $\\alpha_1$ and $\\alpha_2$ are real numbers.\n",
    "\n",
    "**Example:**\n",
    "If you have a vector $\\mathbf{A} = \\begin{pmatrix} 3 \\\\ 4 \\\\ 5 \\end{pmatrix}$, it can be written as:\n",
    "\n",
    "$$\n",
    "\\mathbf{A} = 3 \\cdot \\begin{pmatrix} 1 \\\\ 1 \\\\ 0 \\end{pmatrix} + 5 \\cdot \\begin{pmatrix} 0 \\\\ 1 \\\\ 1 \\end{pmatrix}\n",
    "$$\n",
    "\n",
    "where $\\mathbf{V}_1 = \\begin{pmatrix} 1 \\\\ 1 \\\\ 0 \\end{pmatrix}$ and $\\mathbf{V}_2 = \\begin{pmatrix} 0 \\\\ 1 \\\\ 1 \\end{pmatrix}$, and $\\alpha_1 = 3$ and $\\alpha_2 = 5$. Here, $\\mathbf{A}$ is a linear combination of $\\mathbf{V}_1$ and $\\mathbf{V}_2$.\n",
    "\n",
    "## Span\n",
    "\n",
    "The span of a set of vectors $\\{\\mathbf{V}_1, \\mathbf{V}_2, \\dots, \\mathbf{V}_n\\}$ is the set of all possible linear combinations of these vectors. A set $\\{\\mathbf{V}_1, \\mathbf{V}_2, \\dots, \\mathbf{V}_n\\}$ is called a spanning set for a vector space $V$ if every vector in $V$ can be expressed as a linear combination of $\\{\\mathbf{V}_1, \\mathbf{V}_2, \\dots, \\mathbf{V}_n\\}$.\n",
    "\n",
    "## Linear Independence\n",
    "\n",
    "Vectors $\\{\\mathbf{V}_1, \\mathbf{V}_2, \\dots, \\mathbf{V}_n\\}$ are linearly independent if no vector $\\mathbf{V}_i$ can be written as a linear combination of the other vectors in the set. If at least one vector can be expressed as a linear combination of the others, the vectors are linearly dependent.\n",
    "\n",
    "**Example:**\n",
    "Consider two non-zero vectors $\\mathbf{V}_1$ and $\\mathbf{V}_2$ in $\\mathbb{R}^2$. If $\\mathbf{V}_1$ and $\\mathbf{V}_2$ point in different directions (i.e., they are not multiples of each other), then $\\mathbf{V}_1$ and $\\mathbf{V}_2$ are linearly independent.\n",
    "\n",
    "## Basis\n",
    "\n",
    "A basis for a vector space $\\mathbb{R}^N$ is a set of $N$ vectors that are linearly independent and span the space. Every vector in $\\mathbb{R}^N$ can be expressed uniquely as a linear combination of the basis vectors.\n",
    "\n",
    "**Example:**\n",
    "In $\\mathbb{R}^2$, the vectors $\\mathbf{E}_1 = \\begin{pmatrix} 1 \\\\ 0 \\end{pmatrix}$ and $\\mathbf{E}_2 = \\begin{pmatrix} 0 \\\\ 1 \\end{pmatrix}$ form a basis. Any vector in $\\mathbb{R}^2$ can be represented as a linear combination of $\\mathbf{E}_1$ and $\\mathbf{E}_2$.\n"
   ]
  },
  {
   "cell_type": "code",
   "execution_count": null,
   "id": "77e01a2f",
   "metadata": {},
   "outputs": [],
   "source": []
  },
  {
   "cell_type": "markdown",
   "id": "8e4c83b1",
   "metadata": {},
   "source": [
    "#### Check if vectors are linearly independent and find the basis of a vector space"
   ]
  },
  {
   "cell_type": "code",
   "execution_count": 68,
   "id": "3098e0a5",
   "metadata": {},
   "outputs": [
    {
     "name": "stdout",
     "output_type": "stream",
     "text": [
      "Is A a linear combination of V1 and V2?: False\n",
      "Basis for R^2:\n",
      " [[1. 0.]\n",
      " [0. 1.]]\n"
     ]
    }
   ],
   "source": [
    "import numpy as np\n",
    "\n",
    "# Define vectors\n",
    "V1 = np.array([1, 1, 0])\n",
    "V2 = np.array([0, 1, 1])\n",
    "A = np.array([3, 4, 5])\n",
    "\n",
    "# Form a matrix with V1 and V2 as columns\n",
    "matrix = np.column_stack([V1, V2])\n",
    "\n",
    "# Check linear dependence\n",
    "def is_linear_combination(A, matrix):\n",
    "    try:\n",
    "        # Solve for coefficients\n",
    "        coeffs = np.linalg.lstsq(matrix, A, rcond=None)[0]\n",
    "        return np.allclose(np.dot(matrix, coeffs), A)\n",
    "    except np.linalg.LinAlgError:\n",
    "        return False\n",
    "\n",
    "print(\"Is A a linear combination of V1 and V2?:\", is_linear_combination(A, matrix))\n",
    "\n",
    "# Basis for R^2\n",
    "basis = np.eye(2)  # Standard basis vectors for R^2\n",
    "print(\"Basis for R^2:\\n\", basis)"
   ]
  },
  {
   "cell_type": "code",
   "execution_count": null,
   "id": "a44feece",
   "metadata": {},
   "outputs": [],
   "source": []
  },
  {
   "cell_type": "markdown",
   "id": "84f2519a",
   "metadata": {},
   "source": [
    "**Explanation:**\n",
    "\n",
    "- **Vectors Definition:** We define vectors `V1`, `V2`, and `A`.\n",
    "- **Check Linear Combination:** We form a matrix with `V1` and `V2` as columns and check if `A` can be expressed as a linear combination of `V1` and `V2`.\n",
    "- **Basis for `R^2`:** We print the standard basis vectors for `R^2`."
   ]
  },
  {
   "cell_type": "code",
   "execution_count": null,
   "id": "57e236de",
   "metadata": {},
   "outputs": [],
   "source": []
  },
  {
   "cell_type": "code",
   "execution_count": null,
   "id": "87f44146",
   "metadata": {},
   "outputs": [],
   "source": []
  },
  {
   "cell_type": "markdown",
   "id": "fca9167d",
   "metadata": {},
   "source": [
    "# Introduction to Matrices\n",
    "\n",
    "Matrices are essential in mathematics and computer science. They help in organizing data, simulating objects, and transforming shapes. They are widely used in data science, machine learning, and game development.\n",
    "\n",
    "## What is a Matrix?\n",
    "\n",
    "A matrix is a rectangular array of numbers, symbols, or expressions arranged in rows and columns. It is denoted by an uppercase letter, like **A**.\n",
    "\n",
    "- **Matrix Size:** A matrix with $m$ rows and $n$ columns is called an $m \\times n$ matrix.\n",
    "\n",
    "- **Element Position:** Each element in the matrix is denoted by $a_{ij}$, where $i$ is the row number and $j$ is the column number.\n",
    "\n",
    "In Python, indexing starts from zero. So, $a_{1,1}$ in other contexts is $a_{0,0}$ in Python.\n",
    "\n",
    "## Examples of Matrices\n",
    "\n",
    "### Matrix B\n",
    "\n",
    "- **Size:** $5 \\times 4$ matrix\n",
    "- **Content:** Contains only numbers\n",
    "\n",
    "  $$\n",
    "  \\mathbf{B} = \\begin{bmatrix}\n",
    "  1 & 2 & 3 & 4 \\\\\n",
    "  5 & 6 & 7 & 8 \\\\\n",
    "  9 & 10 & 11 & 12 \\\\\n",
    "  13 & 14 & 15 & 16 \\\\\n",
    "  17 & 18 & 19 & 20 \\\\\n",
    "  \\end{bmatrix}\n",
    "  $$\n",
    "\n",
    "### Matrix C\n",
    "\n",
    "- **Size:** $2 \\times 2$ matrix\n",
    "- **Content:** Contains expressions\n",
    "- **Type:** Square matrix (same number of rows and columns)\n",
    "\n",
    "  $$\n",
    "  \\mathbf{C} = \\begin{bmatrix}\n",
    "  x & y \\\\\n",
    "  z & w\n",
    "  \\end{bmatrix}\n",
    "  $$\n",
    "\n",
    "## Types of Matrices\n",
    "\n",
    "### Rectangular Matrix\n",
    "\n",
    "- **Definition:** A matrix where the number of rows is different from the number of columns.\n",
    "- **Example:** $3 \\times 4$ matrix\n",
    "\n",
    "  $$\n",
    "  \\mathbf{R} = \\begin{bmatrix}\n",
    "  1 & 2 & 3 & 4 \\\\\n",
    "  5 & 6 & 7 & 8 \\\\\n",
    "  9 & 10 & 11 & 12\n",
    "  \\end{bmatrix}\n",
    "  $$\n",
    "\n",
    "### Square Matrix\n",
    "\n",
    "- **Definition:** A matrix where the number of rows equals the number of columns.\n",
    "- **Example:** $4 \\times 4$ matrix\n",
    "\n",
    "  $$\n",
    "  \\mathbf{S} = \\begin{bmatrix}\n",
    "  1 & 0 & 0 & 0 \\\\\n",
    "  0 & 1 & 0 & 0 \\\\\n",
    "  0 & 0 & 1 & 0 \\\\\n",
    "  0 & 0 & 0 & 1\n",
    "  \\end{bmatrix}\n",
    "  $$\n",
    "\n",
    "### Symmetric Matrix\n",
    "\n",
    "- **Definition:** A square matrix where $a_{ij} = a_{ji}$.\n",
    "\n",
    "  $$\n",
    "  \\mathbf{M} = \\begin{bmatrix}\n",
    "  a & b \\\\\n",
    "  b & c\n",
    "  \\end{bmatrix}\n",
    "  $$\n",
    "\n",
    "### Zero Matrix\n",
    "\n",
    "- **Definition:** A matrix where all elements are zero.\n",
    "- **Notation:** Denoted by $\\mathbf{0}$.\n",
    "\n",
    "  $$\n",
    "  \\mathbf{0} = \\begin{bmatrix}\n",
    "  0 & 0 \\\\\n",
    "  0 & 0\n",
    "  \\end{bmatrix}\n",
    "  $$\n",
    "\n",
    "### Identity Matrix\n",
    "\n",
    "- **Definition:** A square matrix with ones on the diagonal and zeros elsewhere.\n",
    "- **Notation:** Denoted by $\\mathbf{I}$.\n",
    "\n",
    "  $$\n",
    "  \\mathbf{I} = \\begin{bmatrix}\n",
    "  1 & 0 \\\\\n",
    "  0 & 1\n",
    "  \\end{bmatrix}\n",
    "  $$\n",
    "\n",
    "### Diagonal Matrix\n",
    "\n",
    "- **Definition:** A matrix where all off-diagonal elements are zero.\n",
    "\n",
    "  $$\n",
    "  \\mathbf{D} = \\begin{bmatrix}\n",
    "  d_1 & 0 \\\\\n",
    "  0 & d_2\n",
    "  \\end{bmatrix}\n",
    "  $$\n",
    "\n",
    "### Triangular Matrix\n",
    "\n",
    "- **Definition:** A square matrix where all elements either above or below the diagonal are zero.\n",
    "\n",
    "  - **Upper Triangular Matrix:**\n",
    "\n",
    "    $$\n",
    "    \\mathbf{U} = \\begin{bmatrix}\n",
    "    a_{11} & a_{12} \\\\\n",
    "    0 & a_{22}\n",
    "    \\end{bmatrix}\n",
    "    $$\n",
    "\n",
    "  - **Lower Triangular Matrix:**\n",
    "\n",
    "    $$\n",
    "    \\mathbf{L} = \\begin{bmatrix}\n",
    "    a_{11} & 0 \\\\\n",
    "    a_{21} & a_{22}\n",
    "    \\end{bmatrix}\n",
    "    $$\n",
    "\n",
    "## Summary\n",
    "\n",
    "Matrices come in various forms, each with unique properties and uses. Understanding these types is key to exploring matrix operations and applications."
   ]
  },
  {
   "cell_type": "code",
   "execution_count": null,
   "id": "b512eb17",
   "metadata": {},
   "outputs": [],
   "source": []
  },
  {
   "cell_type": "code",
   "execution_count": null,
   "id": "22dd078c",
   "metadata": {},
   "outputs": [],
   "source": []
  },
  {
   "cell_type": "markdown",
   "id": "1e35cd69",
   "metadata": {},
   "source": [
    "---\n",
    "# Adding and multiplying matrices"
   ]
  },
  {
   "cell_type": "code",
   "execution_count": null,
   "id": "e81784bc",
   "metadata": {},
   "outputs": [],
   "source": []
  },
  {
   "cell_type": "markdown",
   "id": "b8ad6f57",
   "metadata": {},
   "source": [
    "# Introduction to Adding and Multiplying Matrices\n",
    "\n",
    "Matrices, which can be thought of as two-dimensional arrays, are fundamental in many areas like geometric transformations, solving equations, and data analysis. This notebook will cover how to perform matrix addition, subtraction, and multiplication.\n",
    "\n",
    "## Matrix Addition and Subtraction\n",
    "\n",
    "Matrix addition and subtraction are simple operations that require matrices to have the same dimensions—i.e., the same number of rows and columns. Operations are performed element-wise.\n",
    "\n",
    "### Matrix Addition\n",
    "\n",
    "To add two matrices, simply add their corresponding elements.\n",
    "\n",
    "**Example:**\n",
    "\n",
    "Consider two matrices $\\mathbf{A}$ and $\\mathbf{B}$, each of size $2 \\times 2$:\n",
    "\n",
    "$$\n",
    "\\mathbf{A} = \\begin{pmatrix}\n",
    "a_{11} & a_{12} \\\\\n",
    "a_{21} & a_{22}\n",
    "\\end{pmatrix}\n",
    "\\quad \\text{and} \\quad\n",
    "\\mathbf{B} = \\begin{pmatrix}\n",
    "b_{11} & b_{12} \\\\\n",
    "b_{21} & b_{22}\n",
    "\\end{pmatrix}\n",
    "$$\n",
    "\n",
    "The resulting matrix $\\mathbf{C}$ after addition is:\n",
    "\n",
    "$$\n",
    "\\mathbf{C} = \\mathbf{A} + \\mathbf{B} = \\begin{pmatrix}\n",
    "a_{11} + b_{11} & a_{12} + b_{12} \\\\\n",
    "a_{21} + b_{21} & a_{22} + b_{22}\n",
    "\\end{pmatrix}\n",
    "$$\n",
    "\n",
    "### Matrix Subtraction\n",
    "\n",
    "Matrix subtraction is similar to addition, where you subtract corresponding elements.\n",
    "\n",
    "**Example:**\n",
    "\n",
    "Subtracting matrices $\\mathbf{A}$ and $\\mathbf{B}$ gives:\n",
    "\n",
    "$$\n",
    "\\mathbf{C} = \\mathbf{A} - \\mathbf{B} = \\begin{pmatrix}\n",
    "a_{11} - b_{11} & a_{12} - b_{12} \\\\\n",
    "a_{21} - b_{21} & a_{22} - b_{22}\n",
    "\\end{pmatrix}\n",
    "$$\n",
    "\n",
    "## Matrix Multiplication\n",
    "\n",
    "Matrix multiplication is more involved and requires specific dimensional rules.\n",
    "\n",
    "### Dimension Requirement\n",
    "\n",
    "To multiply two matrices $\\mathbf{A}$ and $\\mathbf{B}$, the number of columns in $\\mathbf{A}$ must equal the number of rows in $\\mathbf{B}$.\n",
    "\n",
    "### Process\n",
    "\n",
    "To multiply matrices $\\mathbf{A}$ (of size $m \\times n$) and $\\mathbf{B}$ (of size $n \\times p$):\n",
    "\n",
    "1. **Element Multiplication:** Multiply each element of the rows in $\\mathbf{A}$ by the corresponding elements in the columns of $\\mathbf{B}$.\n",
    "2. **Summation:** Sum these products to get the elements of the resulting matrix $\\mathbf{C}$ (of size $m \\times p$).\n",
    "\n",
    "**Example:**\n",
    "\n",
    "Consider the following matrices $\\mathbf{A}$ and $\\mathbf{B}$:\n",
    "\n",
    "$$\n",
    "\\mathbf{A} = \\begin{pmatrix}\n",
    "a_{11} & a_{12} \\\\\n",
    "a_{21} & a_{22}\n",
    "\\end{pmatrix}\n",
    "\\quad \\text{and} \\quad\n",
    "\\mathbf{B} = \\begin{pmatrix}\n",
    "b_{11} & b_{12} \\\\\n",
    "b_{21} & b_{22}\n",
    "\\end{pmatrix}\n",
    "$$\n",
    "\n",
    "The resulting matrix $\\mathbf{C}$ after multiplication is:\n",
    "\n",
    "$$\n",
    "\\mathbf{C} = \\mathbf{A} \\times \\mathbf{B} = \\begin{pmatrix}\n",
    "a_{11} \\times b_{11} + a_{12} \\times b_{21} & a_{11} \\times b_{12} + a_{12} \\times b_{22} \\\\\n",
    "a_{21} \\times b_{11} + a_{22} \\times b_{21} & a_{21} \\times b_{12} + a_{22} \\times b_{22}\n",
    "\\end{pmatrix}\n",
    "$$\n",
    "\n",
    "### Non-Commutativity\n",
    "\n",
    "Matrix multiplication is **not commutative**. That is, $\\mathbf{A} \\times \\mathbf{B}$ is generally not equal to $\\mathbf{B} \\times \\mathbf{A}$.\n",
    "\n",
    "### Incompatible Matrices\n",
    "\n",
    "Matrix multiplication is not possible if the matrices do not meet the dimension requirement (e.g., multiplying a $4 \\times 2$ matrix by a $4 \\times 3$ matrix).\n",
    "\n",
    "---"
   ]
  },
  {
   "cell_type": "code",
   "execution_count": null,
   "id": "84273a30",
   "metadata": {},
   "outputs": [],
   "source": []
  },
  {
   "cell_type": "code",
   "execution_count": null,
   "id": "062f1f75",
   "metadata": {},
   "outputs": [],
   "source": []
  },
  {
   "cell_type": "markdown",
   "id": "c7aab944",
   "metadata": {},
   "source": [
    "---\n",
    "# Types of matrix transformation"
   ]
  },
  {
   "cell_type": "code",
   "execution_count": null,
   "id": "ffa890af",
   "metadata": {},
   "outputs": [],
   "source": []
  },
  {
   "cell_type": "markdown",
   "id": "ebba86c4",
   "metadata": {},
   "source": [
    "# Understanding Types of Matrix Transformations\n",
    "\n",
    "In mathematics and computer graphics, matrix transformations are essential tools that allow us to perform linear transformations on vectors in a plane or space. But what exactly is a linear transformation? A linear transformation is a special type of transformation where the structure of vector arithmetic remains unchanged before and after the transformation. This means that the fundamental operations of vector addition and scalar multiplication behave consistently, even after transformation.\n",
    "\n",
    "## What is a Linear Transformation?\n",
    "\n",
    "A linear transformation, denoted as $T$, is a function that maps vectors from one space to another while preserving vector addition and scalar multiplication. Mathematically, this is expressed as:\n",
    "\n",
    "### Vector Addition Preservation\n",
    "For any vectors $\\mathbf{U}$ and $\\mathbf{V}$, the transformation satisfies:\n",
    "\n",
    "$$\n",
    "T(\\mathbf{U}) + T(\\mathbf{V}) = T(\\mathbf{U} + \\mathbf{V})\n",
    "$$\n",
    "\n",
    "**Example:**  \n",
    "Let $\\mathbf{U} = \\begin{pmatrix} 1 \\\\ 2 \\end{pmatrix}$ and $\\mathbf{V} = \\begin{pmatrix} 3 \\\\ 4 \\end{pmatrix}$, and consider a transformation $T$ that doubles each component of a vector:\n",
    "\n",
    "$$\n",
    "T(\\mathbf{U}) = 2 \\cdot \\mathbf{U} = \\begin{pmatrix} 2 \\\\ 4 \\end{pmatrix}\n",
    "$$\n",
    "\n",
    "$$\n",
    "T(\\mathbf{V}) = 2 \\cdot \\mathbf{V} = \\begin{pmatrix} 6 \\\\ 8 \\end{pmatrix}\n",
    "$$\n",
    "\n",
    "Then:\n",
    "\n",
    "$$\n",
    "T(\\mathbf{U}) + T(\\mathbf{V}) = \\begin{pmatrix} 2 \\\\ 4 \\end{pmatrix} + \\begin{pmatrix} 6 \\\\ 8 \\end{pmatrix} = \\begin{pmatrix} 8 \\\\ 12 \\end{pmatrix}\n",
    "$$\n",
    "\n",
    "And:\n",
    "\n",
    "$$\n",
    "T(\\mathbf{U} + \\mathbf{V}) = T\\left(\\begin{pmatrix} 4 \\\\ 6 \\end{pmatrix}\\right) = 2 \\cdot \\begin{pmatrix} 4 \\\\ 6 \\end{pmatrix} = \\begin{pmatrix} 8 \\\\ 12 \\end{pmatrix}\n",
    "$$\n",
    "\n",
    "Both results match, demonstrating the preservation of vector addition.\n",
    "\n",
    "### Scalar Multiplication Preservation\n",
    "For any scalar $S$ and vector $\\mathbf{V}$, the transformation satisfies:\n",
    "\n",
    "$$\n",
    "T(S \\cdot \\mathbf{V}) = S \\cdot T(\\mathbf{V})\n",
    "$$\n",
    "\n",
    "**Example:**  \n",
    "Let $\\mathbf{V} = \\begin{pmatrix} 2 \\\\ 3 \\end{pmatrix}$ and $S = 3$. Consider the same transformation $T$ that doubles each component of a vector:\n",
    "\n",
    "$$\n",
    "T(3 \\cdot \\mathbf{V}) = T\\left(\\begin{pmatrix} 6 \\\\ 9 \\end{pmatrix}\\right) = \\begin{pmatrix} 12 \\\\ 18 \\end{pmatrix}\n",
    "$$\n",
    "\n",
    "And:\n",
    "\n",
    "$$\n",
    "3 \\cdot T(\\mathbf{V}) = 3 \\cdot \\begin{pmatrix} 4 \\\\ 6 \\end{pmatrix} = \\begin{pmatrix} 12 \\\\ 18 \\end{pmatrix}\n",
    "$$\n",
    "\n",
    "Again, the results are equal, confirming the preservation of scalar multiplication.\n",
    "\n",
    "Let's explore some of the most important types of matrix transformations that fall under the category of linear transformations.\n",
    "\n",
    "### 1. Identity Transformation\n",
    "\n",
    "The identity transformation is the simplest type. It involves multiplying a vector by the identity matrix, which is constructed from the basis vectors of the space. The identity matrix $\\mathbf{I}$ for a 2D space is:\n",
    "\n",
    "$$\n",
    "\\mathbf{I} = \\begin{pmatrix}\n",
    "1 & 0 \\\\\n",
    "0 & 1\n",
    "\\end{pmatrix}\n",
    "$$\n",
    "\n",
    "**Example:**  \n",
    "Let $\\mathbf{V} = \\begin{pmatrix} 5 \\\\ 7 \\end{pmatrix}$. When $\\mathbf{V}$ is multiplied by the identity matrix, the result is the same vector:\n",
    "\n",
    "$$\n",
    "\\mathbf{I} \\cdot \\mathbf{V} = \\begin{pmatrix} 1 & 0 \\\\ 0 & 1 \\end{pmatrix} \\cdot \\begin{pmatrix} 5 \\\\ 7 \\end{pmatrix} = \\begin{pmatrix} 5 \\\\ 7 \\end{pmatrix}\n",
    "$$\n",
    "\n",
    "This transformation leaves the vector unchanged.\n",
    "\n",
    "### 2. Scaling Transformation\n",
    "\n",
    "Scaling involves resizing a vector by multiplying it by a diagonal matrix. The diagonal matrix scales the vector components by different factors along different axes. For example, consider the diagonal matrix:\n",
    "\n",
    "$$\n",
    "\\mathbf{S} = \\begin{pmatrix}\n",
    "2 & 0 \\\\\n",
    "0 & 5\n",
    "\\end{pmatrix}\n",
    "$$\n",
    "\n",
    "**Example:**  \n",
    "Let $\\mathbf{V} = \\begin{pmatrix} 1 \\\\ 1 \\end{pmatrix}$. When $\\mathbf{V}$ is multiplied by the scaling matrix:\n",
    "\n",
    "$$\n",
    "\\mathbf{S} \\cdot \\mathbf{V} = \\begin{pmatrix} 2 & 0 \\\\ 0 & 5 \\end{pmatrix} \\cdot \\begin{pmatrix} 1 \\\\ 1 \\end{pmatrix} = \\begin{pmatrix} 2 \\\\ 5 \\end{pmatrix}\n",
    "$$\n",
    "\n",
    "This matrix scales the vector’s $x$-component by 2 and the $y$-component by 5, transforming a square into a rectangle.\n",
    "\n",
    "### 3. Rotation Transformation\n",
    "\n",
    "Rotation is a type of linear transformation where a vector is rotated around the origin by a certain angle $\\theta$. The rotation matrix for a counterclockwise rotation by angle $\\theta$ is:\n",
    "\n",
    "$$\n",
    "\\mathbf{R} = \\begin{pmatrix}\n",
    "\\cos(\\theta) & -\\sin(\\theta) \\\\\n",
    "\\sin(\\theta) & \\cos(\\theta)\n",
    "\\end{pmatrix}\n",
    "$$\n",
    "\n",
    "**Example:**  \n",
    "Let $\\mathbf{V} = \\begin{pmatrix} 1 \\\\ 0 \\end{pmatrix}$, and rotate it by $\\theta = 90^\\circ$:\n",
    "\n",
    "$$\n",
    "\\mathbf{R} \\cdot \\mathbf{V} = \\begin{pmatrix} \\cos(90^\\circ) & -\\sin(90^\\circ) \\\\ \\sin(90^\\circ) & \\cos(90^\\circ) \\end{pmatrix} \\cdot \\begin{pmatrix} 1 \\\\ 0 \\end{pmatrix} = \\begin{pmatrix} 0 \\\\ 1 \\end{pmatrix}\n",
    "$$\n",
    "\n",
    "The vector is rotated 90 degrees counterclockwise, transforming it from pointing along the $x$-axis to pointing along the $y$-axis.\n",
    "\n",
    "### 4. Translation Transformation\n",
    "\n",
    "Translation is slightly different from the previous transformations because it involves moving a vector by adding a constant vector to it. However, in homogeneous coordinates, translation can be represented as a matrix transformation. The translation matrix in 2D space is:\n",
    "\n",
    "$$\n",
    "\\mathbf{T} = \\begin{pmatrix}\n",
    "1 & 0 & T_x \\\\\n",
    "0 & 1 & T_y \\\\\n",
    "0 & 0 & 1\n",
    "\\end{pmatrix}\n",
    "$$\n",
    "\n",
    "**Example:**  \n",
    "Let $\\mathbf{V} = \\begin{pmatrix} 2 \\\\ 3 \\end{pmatrix}$ and translate it by $T_x = 4$ and $T_y = -2$:\n",
    "\n",
    "$$\n",
    "\\mathbf{T} \\cdot \\begin{pmatrix} 2 \\\\ 3 \\\\ 1 \\end{pmatrix} = \\begin{pmatrix} 1 & 0 & 4 \\\\ 0 & 1 & -2 \\\\ 0 & 0 & 1 \\end{pmatrix} \\cdot \\begin{pmatrix} 2 \\\\ 3 \\\\ 1 \\end{pmatrix} = \\begin{pmatrix} 6 \\\\ 1 \\\\ 1 \\end{pmatrix}\n",
    "$$\n",
    "\n",
    "The vector is translated 4 units in the $x$-direction and -2 units in the $y$-direction.\n",
    "\n",
    "### Combining Linear Transformations\n",
    "\n",
    "Linear transformations can be combined by multiplying their corresponding matrices. For example, a transformation that involves both rotation and scaling can be achieved by multiplying the rotation matrix by the scaling matrix.\n",
    "\n",
    "**Example:**  \n",
    "Let’s rotate a vector $\\mathbf{V} = \\begin{pmatrix} 1 \\\\ 0 \\end{pmatrix}$ by $90^\\circ$ and then scale it by 2:\n",
    "\n",
    "$$\n",
    "\\mathbf{R} = \\begin{pmatrix} 0 & -1 \\\\ 1 & 0 \\end{pmatrix}, \\quad \\mathbf{S} = \\begin{pmatrix} 2 & 0 \\\\ 0 & 2 \\end{pmatrix}\n",
    "$$\n",
    "\n",
    "$$\n",
    "\\mathbf{R} \\cdot \\mathbf{S} \\cdot \\mathbf{V} = \\begin{pmatrix} 0 & -2 \\\\ 2 & 0 \\end{pmatrix} \\cdot \\begin{pmatrix} 1 \\\\ 0 \\end{pmatrix} = \\begin{pmatrix} 0 \\\\ 2 \\end{pmatrix}\n",
    "$$\n",
    "\n",
    "This combination first rotates the vector and then scales it.\n",
    "\n",
    "## Conclusion\n",
    "\n",
    "Matrix transformations are powerful tools that allow us to manipulate vectors in space for various applications, from geometric transformations"
   ]
  },
  {
   "cell_type": "code",
   "execution_count": null,
   "id": "26fdd354",
   "metadata": {},
   "outputs": [],
   "source": []
  },
  {
   "cell_type": "code",
   "execution_count": null,
   "id": "47b229ba",
   "metadata": {},
   "outputs": [],
   "source": []
  },
  {
   "cell_type": "code",
   "execution_count": null,
   "id": "d2ac8718",
   "metadata": {},
   "outputs": [],
   "source": []
  },
  {
   "cell_type": "markdown",
   "id": "745d0943",
   "metadata": {},
   "source": [
    "# Transposing Matrices\n",
    "\n",
    "Transposing a matrix is a fundamental operation in linear algebra that involves switching the rows and columns of a matrix. This operation is useful in various applications, including data manipulation, mathematical computations, and even machine learning.\n",
    "\n",
    "## What is Matrix Transposition?\n",
    "\n",
    "Matrix transposition involves converting the rows of a matrix into columns and vice versa. If we denote a matrix $\\mathbf{A}$ and its transpose as $\\mathbf{A}^T$, then:\n",
    "\n",
    "### Original Matrix $\\mathbf{A}$\n",
    "\n",
    "If $\\mathbf{A}$ is an $m \\times n$ matrix (with $m$ rows and $n$ columns), then\n",
    "\n",
    "### Transposed Matrix $\\mathbf{A}^T$\n",
    "\n",
    "The transpose of $\\mathbf{A}$ will be an $n \\times m$ matrix (with $n$ rows and $m$ columns).\n",
    "\n",
    "For example:\n",
    "\n",
    "- A $4 \\times 5$ matrix becomes a $5 \\times 4$ matrix after transposition.\n",
    "- A $2 \\times 3$ matrix becomes a $3 \\times 2$ matrix after transposition.\n",
    "\n",
    "## Example of Matrix Transposition\n",
    "\n",
    "Let's consider a matrix $\\mathbf{A}$ with the following elements:\n",
    "\n",
    "$$\n",
    "\\mathbf{A} = \\begin{pmatrix}\n",
    "1 & 5 & 6 \\\\\n",
    "4 & 8 & 2\n",
    "\\end{pmatrix}\n",
    "$$\n",
    "\n",
    "After transposing $\\mathbf{A}$, we get:\n",
    "\n",
    "$$\n",
    "\\mathbf{A}^T = \\begin{pmatrix}\n",
    "1 & 4 \\\\\n",
    "5 & 8 \\\\\n",
    "6 & 2\n",
    "\\end{pmatrix}\n",
    "$$\n",
    "\n",
    "### Explanation\n",
    "\n",
    "- The first row of $\\mathbf{A}$, which is $(1, 5, 6)$, becomes the first column of $\\mathbf{A}^T$.\n",
    "- The second row of $\\mathbf{A}$, which is $(4, 8, 2)$, becomes the second column of $\\mathbf{A}^T$.\n",
    "\n",
    "This operation is particularly useful in data science and machine learning when manipulating datasets and features. Transposing matrices allows for reorganization and alignment of data to meet specific analytical or computational needs."
   ]
  },
  {
   "cell_type": "code",
   "execution_count": null,
   "id": "51ff71e4",
   "metadata": {},
   "outputs": [],
   "source": []
  },
  {
   "cell_type": "markdown",
   "id": "12d0751a",
   "metadata": {},
   "source": [
    "### writing a function that transposes a matrix"
   ]
  },
  {
   "cell_type": "code",
   "execution_count": 69,
   "id": "5349584a",
   "metadata": {},
   "outputs": [],
   "source": [
    "import numpy as np\n",
    "\n",
    "def transpose_fun(matrix):\n",
    "    # Create an empty list for the transposed matrix\n",
    "    transposed_matrix = []\n",
    "    \n",
    "    # Get the number of rows and columns\n",
    "    m = len(matrix)\n",
    "    n = len(matrix[0])\n",
    "    \n",
    "    # Iterate over columns and rows to switch them\n",
    "    for j in range(n):\n",
    "        new_row = []\n",
    "        for i in range(m):\n",
    "            new_row.append(matrix[i][j])\n",
    "        transposed_matrix.append(new_row)\n",
    "    \n",
    "    return transposed_matrix"
   ]
  },
  {
   "cell_type": "markdown",
   "id": "1e9fde82",
   "metadata": {},
   "source": [
    "### Test the function"
   ]
  },
  {
   "cell_type": "code",
   "execution_count": 70,
   "id": "d056ba07",
   "metadata": {},
   "outputs": [
    {
     "name": "stdout",
     "output_type": "stream",
     "text": [
      "[[1, 4], [5, 8], [6, 2]]\n"
     ]
    }
   ],
   "source": [
    "# Define a matrix\n",
    "A = [\n",
    "    [1, 5, 6],\n",
    "    [4, 8, 2]\n",
    "]\n",
    "\n",
    "# Call the transpose function\n",
    "transposed_A = transpose_fun(A)\n",
    "print(transposed_A)"
   ]
  },
  {
   "cell_type": "code",
   "execution_count": 71,
   "id": "4f787d6e",
   "metadata": {},
   "outputs": [
    {
     "data": {
      "text/plain": [
       "array([[1, 4],\n",
       "       [5, 8],\n",
       "       [6, 2]])"
      ]
     },
     "execution_count": 71,
     "metadata": {},
     "output_type": "execute_result"
    }
   ],
   "source": [
    "np.array(A).transpose()"
   ]
  },
  {
   "cell_type": "code",
   "execution_count": null,
   "id": "fc77246e",
   "metadata": {},
   "outputs": [],
   "source": []
  },
  {
   "cell_type": "code",
   "execution_count": null,
   "id": "411891f7",
   "metadata": {},
   "outputs": [],
   "source": []
  },
  {
   "cell_type": "markdown",
   "id": "559692f0",
   "metadata": {},
   "source": [
    "# Creating 3D shapes"
   ]
  },
  {
   "cell_type": "markdown",
   "id": "51fe9bac",
   "metadata": {},
   "source": [
    "## What is 3D Visualization?\n",
    "\n",
    "3D visualization involves projecting a 3D object onto a 2D surface. In a 2D space, we only have horizontal and vertical directions, but to represent 3D objects, we need to project them into this 2D plane. One of the simplest 3D shapes to start with is a cube, which consists of six identical square faces.\n",
    "\n",
    "## Practical Example: Plotting a 3D Cube\n",
    "\n",
    "We will use NumPy for array manipulation and Matplotlib for plotting. Here’s a step-by-step guide to create and visualize a 3D cube.\n",
    "\n",
    "### Step-by-Step Guide"
   ]
  },
  {
   "cell_type": "code",
   "execution_count": 72,
   "id": "d5faa6bc",
   "metadata": {},
   "outputs": [
    {
     "data": {
      "image/png": "[encoded data removed]",
      "text/plain": [
       "<Figure size 640x480 with 1 Axes>"
      ]
     },
     "metadata": {},
     "output_type": "display_data"
    }
   ],
   "source": [
    "import numpy as np\n",
    "import matplotlib.pyplot as plt\n",
    "from mpl_toolkits.mplot3d import Axes3D\n",
    "\n",
    "# Create a new figure\n",
    "fig = plt.figure()\n",
    "\n",
    "# Add a 3D subplot\n",
    "ax = fig.add_subplot(111, projection='3d')\n",
    "\n",
    "# Define the cube's dimensions and data\n",
    "cube_size = 10\n",
    "data = np.ones((cube_size, cube_size, cube_size))  # 10x10x10 cube\n",
    "\n",
    "# Plot the cube with blue color and semi-transparent\n",
    "ax.voxels(data, facecolors='blue', edgecolors='k', alpha=0.7)\n",
    "\n",
    "# Display the plot\n",
    "plt.show()"
   ]
  },
  {
   "cell_type": "code",
   "execution_count": null,
   "id": "571b4a09",
   "metadata": {},
   "outputs": [],
   "source": []
  },
  {
   "cell_type": "code",
   "execution_count": null,
   "id": "e01f1f27",
   "metadata": {},
   "outputs": [],
   "source": []
  },
  {
   "cell_type": "markdown",
   "id": "58f26a47",
   "metadata": {},
   "source": [
    "# Solving a system of equations"
   ]
  },
  {
   "cell_type": "code",
   "execution_count": null,
   "id": "61181b04",
   "metadata": {},
   "outputs": [],
   "source": []
  },
  {
   "cell_type": "markdown",
   "id": "80b9a0d1",
   "metadata": {},
   "source": [
    "# Solving a System of Equations\n",
    "\n",
    "Mathematicians often find solving equations fascinating, especially when dealing with complex systems. However, solving systems of equations with multiple variables can be challenging and time-consuming. Let’s explore how to solve a system of linear equations using matrices and NumPy in Python.\n",
    "\n",
    "## What is a System of Equations?\n",
    "\n",
    "A system of equations is a set of equations with multiple variables that are solved simultaneously. For example, consider the following system with two linear equations:\n",
    "\n",
    "$$\n",
    "x - y = -2\n",
    "$$\n",
    "\n",
    "$$\n",
    "2x + y = 5\n",
    "$$\n",
    "\n",
    "Here, $x$ and $y$ are the variables, and we need to find values for $x$ and $y$ that satisfy both equations.\n",
    "\n",
    "## Methods to Solve Systems of Equations\n",
    "\n",
    "Two common methods to solve systems of equations are:\n",
    "\n",
    "### 1. Substitution Method\n",
    "\n",
    "Solve one equation for one variable and substitute that value into the other equation.\n",
    "\n",
    "**Example:**\n",
    "\n",
    "1. Solve the first equation for $x$:\n",
    "\n",
    "   $$\n",
    "   x = y - 2\n",
    "   $$\n",
    "\n",
    "2. Substitute $x = y - 2$ into the second equation:\n",
    "\n",
    "   $$\n",
    "   2(y - 2) + y = 5\n",
    "   $$\n",
    "\n",
    "   Simplify and solve for $y$:\n",
    "\n",
    "   $$\n",
    "   2y - 4 + y = 5\n",
    "   $$\n",
    "   $$\n",
    "   3y - 4 = 5\n",
    "   $$\n",
    "   $$\n",
    "   3y = 9\n",
    "   $$\n",
    "   $$\n",
    "   y = 3\n",
    "   $$\n",
    "\n",
    "3. Substitute $y = 3$ back into $x = y - 2$:\n",
    "\n",
    "   $$\n",
    "   x = 3 - 2\n",
    "   $$\n",
    "   $$\n",
    "   x = 1\n",
    "   $$\n",
    "\n",
    "**Solution:** $x = 1$ and $y = 3$.\n",
    "\n",
    "### 2. Elimination Method\n",
    "\n",
    "Combine the equations to eliminate one variable, simplifying the problem.\n",
    "\n",
    "**Example:**\n",
    "\n",
    "1. **Multiply the First Equation:**\n",
    "\n",
    "   Multiply the first equation by $-1$:\n",
    "\n",
    "   $$\n",
    "   -x + y = 2\n",
    "   $$\n",
    "\n",
    "2. **Add This to the Second Equation:**\n",
    "\n",
    "   $$\n",
    "   (-x + y) + (2x + y) = 2 + 5\n",
    "   $$\n",
    "   $$\n",
    "   x + 2y = 7\n",
    "   $$\n",
    "\n",
    "   This simplifies to:\n",
    "\n",
    "   $$\n",
    "   x = 7 - 2y\n",
    "   $$\n",
    "\n",
    "3. **Solve for $x$ and $y$:**\n",
    "\n",
    "   Substitute $x = 7 - 2y$ into the first equation:\n",
    "\n",
    "   $$\n",
    "   (7 - 2y) - y = -2\n",
    "   $$\n",
    "   $$\n",
    "   7 - 3y = -2\n",
    "   $$\n",
    "   $$\n",
    "   -3y = -9\n",
    "   $$\n",
    "   $$\n",
    "   y = 3\n",
    "   $$\n",
    "\n",
    "   Substitute $y = 3$ back into $x = 7 - 2y$:\n",
    "\n",
    "   $$\n",
    "   x = 7 - 2(3)\n",
    "   $$\n",
    "   $$\n",
    "   x = 1\n",
    "   $$\n",
    "\n",
    "**Solution:** $x = 1$ and $y = 3$.\n",
    "\n",
    "## Solving Larger Systems Using Matrices\n",
    "\n",
    "For larger systems with more variables, solving by hand becomes impractical. Instead, we can use matrix algebra. The system can be represented in matrix form as:\n",
    "\n",
    "$$\n",
    "\\mathbf{A} \\mathbf{X} = \\mathbf{B}\n",
    "$$\n",
    "\n",
    "where:\n",
    "\n",
    "- $\\mathbf{A}$ is the matrix of coefficients.\n",
    "- $\\mathbf{X}$ is the vector of variables.\n",
    "- $\\mathbf{B}$ is the vector of constants.\n",
    "\n",
    "To solve for $\\mathbf{X}$, we use the inverse of matrix $\\mathbf{A}$. The solution is:\n",
    "\n",
    "$$\n",
    "\\mathbf{X} = \\mathbf{A}^{-1} \\mathbf{B}\n",
    "$$\n",
    "\n",
    "### Practical Example Using NumPy\n",
    "\n",
    "Let’s solve the system of equations using NumPy in Python. We’ll use the `numpy.linalg.inv` function to find the inverse of matrix $\\mathbf{A}$.\n",
    "\n",
    "**Example:**\n",
    "\n",
    "Consider the following system of equations:\n",
    "\n",
    "$$\n",
    "x - y = -2\n",
    "$$\n",
    "\n",
    "$$\n",
    "2x + y = 5\n",
    "$$\n",
    "\n",
    "We can represent this system in matrix form as:\n",
    "\n",
    "$$\n",
    "\\mathbf{A} = \\begin{pmatrix}\n",
    "1 & -1 \\\\\n",
    "2 & 1\n",
    "\\end{pmatrix}\n",
    "$$\n",
    "\n",
    "$$\n",
    "\\mathbf{B} = \\begin{pmatrix}\n",
    "-2 \\\\\n",
    "5\n",
    "\\end{pmatrix}\n",
    "$$\n",
    "\n",
    "We need to find $\\mathbf{X}$, which is:\n",
    "\n",
    "$$\n",
    "\\mathbf{X} = \\begin{pmatrix}\n",
    "x \\\\\n",
    "y\n",
    "\\end{pmatrix}\n",
    "$$"
   ]
  },
  {
   "cell_type": "code",
   "execution_count": null,
   "id": "80b397f4",
   "metadata": {},
   "outputs": [],
   "source": []
  },
  {
   "cell_type": "code",
   "execution_count": null,
   "id": "30f7c810",
   "metadata": {},
   "outputs": [],
   "source": []
  },
  {
   "cell_type": "markdown",
   "id": "5e7eb2d8",
   "metadata": {},
   "source": [
    "### Practical Example Using NumPy\n",
    "\n",
    "- Let’s solve a system of equations using NumPy in Python. We’ll use the `numpy.linalg.inv` function to find the inverse of matrix $\\mathbf{A}$."
   ]
  },
  {
   "cell_type": "code",
   "execution_count": 73,
   "id": "ed7159ad",
   "metadata": {},
   "outputs": [
    {
     "name": "stdout",
     "output_type": "stream",
     "text": [
      "Solution: [1. 3.]\n"
     ]
    }
   ],
   "source": [
    "import numpy as np\n",
    "from numpy.linalg import inv\n",
    "\n",
    "\n",
    "# Define matrix A and vector B\n",
    "A = np.array([[1, -1], [2, 1]])\n",
    "B = np.array([-2, 5])\n",
    "\n",
    "# Find the inverse of matrix A\n",
    "A_inv = inv(A)\n",
    "\n",
    "# Calculate the solution vector X\n",
    "X = np.dot(A_inv, B)\n",
    "\n",
    "# Print the result\n",
    "print(\"Solution:\", X)"
   ]
  },
  {
   "cell_type": "code",
   "execution_count": null,
   "id": "fd4c2d6c",
   "metadata": {},
   "outputs": [],
   "source": []
  },
  {
   "cell_type": "code",
   "execution_count": null,
   "id": "b2053937",
   "metadata": {},
   "outputs": [],
   "source": []
  },
  {
   "cell_type": "markdown",
   "id": "9333476c",
   "metadata": {},
   "source": [
    "---\n",
    "# Exploring Data With Statistics"
   ]
  },
  {
   "cell_type": "markdown",
   "id": "adaffc14",
   "metadata": {},
   "source": [
    "---\n",
    "## Calculating the Mean: Understanding the Basics of Statistics\n",
    "\n",
    "## Introduction\n",
    "\n",
    "Data without statistics is like having the best ingredients in the kitchen without a cookbook. Statistics is a crucial branch of mathematics for analyzing data. In this post, we’ll delve into some essential statistical measures: the mean, median, variance, and standard deviation. We'll start with the mean.\n",
    "\n",
    "## Understanding the Mean\n",
    "\n",
    "The mean, or **\"average,\"** is a fundamental concept in statistics. It’s commonly used in everyday life. For example, if you’re told the average salary is $120,000, how is that calculated?\n",
    "\n",
    "### Calculation\n",
    "\n",
    "Suppose a startup has eight employees with these salaries:\n",
    "\n",
    "- 3 Senior Developers: $\\$130{,}000$ each\n",
    "- 1 CEO: $\\$250{,}000$\n",
    "- 4 Developers: $\\$80{,}000$ each\n",
    "\n",
    "Total Sum:\n",
    "\n",
    "$$\n",
    "\\mathbf{Total\\ Sum} = (3 \\times 130{,}000) + (1 \\times 250{,}000) + (4 \\times 80{,}000) = 960{,}000\n",
    "$$\n",
    "\n",
    "Mean:\n",
    "\n",
    "$$\n",
    "\\mathbf{Mean} = \\frac{\\mathbf{Total\\ Sum}}{\\mathbf{Number\\ of\\ Employees}} = \\frac{960{,}000}{8} = 120{,}000\n",
    "$$"
   ]
  },
  {
   "cell_type": "code",
   "execution_count": null,
   "id": "7d678016",
   "metadata": {},
   "outputs": [],
   "source": []
  },
  {
   "cell_type": "markdown",
   "id": "40c5e908",
   "metadata": {},
   "source": [
    "### Python Implementation:"
   ]
  },
  {
   "cell_type": "code",
   "execution_count": 74,
   "id": "658ae385",
   "metadata": {},
   "outputs": [
    {
     "name": "stdout",
     "output_type": "stream",
     "text": [
      "The average salary is: $120000.0\n"
     ]
    }
   ],
   "source": [
    "def average_salary(salaries):\n",
    "    # Calculate the sum of salaries\n",
    "    sum_of_salaries = sum(salaries)\n",
    "    \n",
    "    # Count the number of employees\n",
    "    employees = len(salaries)\n",
    "    \n",
    "    # Calculate the mean (average salary)\n",
    "    mean = sum_of_salaries / employees\n",
    "    \n",
    "    # Return the calculated mean\n",
    "    return mean\n",
    "\n",
    "# salaries in the startup\n",
    "salaries = [130000, 130000, 130000, 250000, 80000, 80000, 80000, 80000]\n",
    "\n",
    "# Calculate and print the average salary\n",
    "average = average_salary(salaries)\n",
    "print(f\"The average salary is: ${average}\")"
   ]
  },
  {
   "cell_type": "code",
   "execution_count": null,
   "id": "a16c145c",
   "metadata": {},
   "outputs": [],
   "source": []
  },
  {
   "cell_type": "markdown",
   "id": "8a242645",
   "metadata": {},
   "source": [
    "# Calculating the Median"
   ]
  },
  {
   "cell_type": "markdown",
   "id": "68e44408",
   "metadata": {},
   "source": [
    "# A Deep Dive into Another Type of Average\n",
    "\n",
    "## Introduction\n",
    "\n",
    "When discussing averages, the median often comes up, especially in news reports and statistical analyses. For example, you might hear that the median household income in the US was $\\$70{,}000$ in 2021. But how exactly is this median value calculated? Let's break it down step-by-step and explore how to implement it using Python.\n",
    "\n",
    "## Understanding the Median\n",
    "\n",
    "The median is a type of average that provides a different perspective compared to the mean. It is particularly useful in cases where you want to understand the middle value of a data set, especially when the data is skewed. Here's how you calculate the median:\n",
    "\n",
    "1. **Sort the List:** Arrange the numbers in ascending order.\n",
    "2. **Determine the Length:** Check if the number of elements in the list is odd or even.\n",
    "3. **Odd Number of Elements:** The median is the middle number in the sorted list.\n",
    "4. **Even Number of Elements:** The median is the average of the two middle numbers.\n",
    "\n",
    "### Example Calculation\n",
    "\n",
    "Let’s say we have the ages of employees: $\\{30, 45, 38, 42, 58, 40, 35\\}$.\n",
    "\n",
    "1. **Sort the List:** $\\{30, 35, 38, 40, 42, 45, 58\\}$\n",
    "2. The length of the list is 7, which is odd.\n",
    "3. The median is the middle number, which is $\\mathbf{40}$.\n",
    "\n",
    "Now, if we leave out the last number (58), we have the ages: $\\{30, 35, 38, 40, 42, 45\\}$.\n",
    "\n",
    "1. **Sort the New List:** $\\{30, 35, 38, 40, 42, 45\\}$\n",
    "2. The length is 6, which is even.\n",
    "3. The median is the average of the two middle numbers:\n",
    "\n",
    "$$\n",
    "\\mathbf{Median} = \\frac{38 + 40}{2} = 39.0\n",
    "$$\n"
   ]
  },
  {
   "cell_type": "code",
   "execution_count": null,
   "id": "b7522103",
   "metadata": {},
   "outputs": [],
   "source": []
  },
  {
   "cell_type": "markdown",
   "id": "d13dbf03",
   "metadata": {},
   "source": [
    "### Python Implementation"
   ]
  },
  {
   "cell_type": "code",
   "execution_count": 75,
   "id": "271957b5",
   "metadata": {},
   "outputs": [
    {
     "name": "stdout",
     "output_type": "stream",
     "text": [
      "The median age (odd number of elements) is: 40\n",
      "The median age (even number of elements) is: 39.0\n"
     ]
    }
   ],
   "source": [
    "def median_calculation(numbers):\n",
    "    # Sort the list of numbers\n",
    "    numbers.sort()\n",
    "    \n",
    "    # Calculate the length of the list\n",
    "    length = len(numbers)\n",
    "    \n",
    "    # Find the middle index\n",
    "    middle_index = length // 2\n",
    "    \n",
    "    # Check if the length of the list is even or odd\n",
    "    if length % 2 == 0:\n",
    "        # Even length: Average of two middle values\n",
    "        median = (numbers[middle_index - 1] + numbers[middle_index]) / 2\n",
    "    else:\n",
    "        # Odd length: Middle value\n",
    "        median = numbers[middle_index]\n",
    "    \n",
    "    return median\n",
    "\n",
    "# Odd number of elements\n",
    "ages_odd = [30, 45, 38, 42, 58, 40, 35]\n",
    "print(f\"The median age (odd number of elements) is: {median_calculation(ages_odd)}\")\n",
    "\n",
    "# Even number of elements\n",
    "ages_even = [30, 35, 38, 40, 42, 45]\n",
    "print(f\"The median age (even number of elements) is: {median_calculation(ages_even)}\")"
   ]
  },
  {
   "cell_type": "code",
   "execution_count": null,
   "id": "976522e5",
   "metadata": {},
   "outputs": [],
   "source": []
  },
  {
   "cell_type": "markdown",
   "id": "3713cf44",
   "metadata": {},
   "source": [
    "# Finding the Mode and Creating a Frequency Table\n",
    "\n",
    "## Understanding the Mode\n",
    "In statistical analysis, we often use measures like the mean and the median to understand data, but both have their drawbacks. To complement these, we use a third basic measure called the mode. The mode is the value that appears most frequently in a data set.\n",
    "\n",
    "## 📊 Example: Startup Salaries\n",
    "Let's calculate the mode using an example of startup salaries:\n",
    "\n",
    "- **Employees**: 8\n",
    "  - 3 Senior Developers: $\\$130,000$ each\n",
    "  - CEO: $\\$250,000$\n",
    "  - 4 Developers: $\\$80,000$ each\n",
    "\n",
    "In this example, the value $\\$80,000$ appears most often (4 times), so $\\mathbf{\\$80,000}$ is the mode.\n",
    "\n",
    "## Multiple Modes\n",
    "But what happens if multiple values occur with the same frequency? Consider this:\n",
    "\n",
    "- **Employees**: 10\n",
    "  - 3 Developers: $\\$70,000$ each\n",
    "  - 3 Developers: $\\$80,000$ each\n",
    "  - 3 Developers: $\\$120,000$ each\n",
    "  - CEO: $\\$200,000$\n",
    "\n",
    "Here, $\\mathbf{\\$70,000}$, $\\mathbf{\\$80,000}$, and $\\mathbf{\\$120,000}$ all appear three times. This situation results in a dataset with multiple modes.\n",
    "\n",
    "## 🔄 Using a Frequency Table\n",
    "The simplest way to find the mode is by ordering the dataset by values and identifying the value(s) that occur most frequently. A frequency table helps with this by listing values alongside the number of times they appear.\n",
    "\n",
    "## 🐕 Example: Dog Breeds Survey\n",
    "Imagine you conducted a survey among 100 dog owners to find out which breeds they own. Here are the results:\n",
    "\n",
    "- **Dog Breed**: \n",
    "  - German Shepherd Dogs: 9\n",
    "  - Beagles: 17\n",
    "  - French Bulldogs: 11\n",
    "  - Golden Retrievers: 5\n",
    "  - Poodles: 7\n",
    "  - Labrador Retrievers: 18\n",
    "  - Bulldogs: 8\n",
    "  - Dachshunds: 10\n",
    "  - Welsh Corgis: 15\n",
    "\n",
    "### Frequency Table:\n",
    "| **Dog Breed**            | **Frequency** |\n",
    "|--------------------------|---------------|\n",
    "| Labrador Retrievers       | 18            |\n",
    "| Beagles                   | 17            |\n",
    "| Welsh Corgis              | 15            |\n",
    "| French Bulldogs           | 11            |\n",
    "| Dachshunds                | 10            |\n",
    "| German Shepherd Dogs      | 9             |\n",
    "| Bulldogs                  | 8             |\n",
    "| Poodles                   | 7             |\n",
    "| Golden Retrievers         | 5             |\n"
   ]
  },
  {
   "cell_type": "markdown",
   "id": "0e99aa34",
   "metadata": {},
   "source": [
    "### Calculating the Mode for Startup Salaries"
   ]
  },
  {
   "cell_type": "code",
   "execution_count": 76,
   "id": "75f923ce",
   "metadata": {},
   "outputs": [
    {
     "name": "stdout",
     "output_type": "stream",
     "text": [
      "Mode(s) of startup salaries: [80000]\n"
     ]
    }
   ],
   "source": [
    "from collections import Counter\n",
    "\n",
    "# Example 1 : Startup Salaries\n",
    "salaries = [130000, 130000, 130000, 250000, 80000, 80000, 80000, 80000]\n",
    "\n",
    "# Count the frequency of each salary\n",
    "salary_count = Counter(salaries)\n",
    "\n",
    "# Find the mode(s)\n",
    "modes = [salary for salary, freq in salary_count.items() if freq == max(salary_count.values())]\n",
    "print(f\"Mode(s) of startup salaries: {modes}\")\n"
   ]
  },
  {
   "cell_type": "markdown",
   "id": "64e5b50e",
   "metadata": {},
   "source": [
    "### Creating a Frequency Table for Dog Breeds Survey"
   ]
  },
  {
   "cell_type": "code",
   "execution_count": 77,
   "id": "0db7c69c",
   "metadata": {},
   "outputs": [
    {
     "name": "stdout",
     "output_type": "stream",
     "text": [
      "\n",
      "Frequency Table:\n",
      "Labrador Retriever: 18\n",
      "Beagle: 17\n",
      "Welsh Corgi: 15\n",
      "French Bulldog: 11\n",
      "Dachshund: 10\n",
      "German Shepherd: 9\n",
      "Bulldog: 8\n",
      "Poodle: 7\n",
      "Golden Retriever: 5\n"
     ]
    }
   ],
   "source": [
    "# Example 2: Dog Breeds Survey\n",
    "dog_breeds = ['German Shepherd', 'Beagle', 'French Bulldog', 'Golden Retriever', \n",
    "              'Poodle', 'Labrador Retriever', 'Bulldog', 'Dachshund', 'Welsh Corgi']\n",
    "\n",
    "frequencies = [9, 17, 11, 5, 7, 18, 8, 10, 15]\n",
    "\n",
    "# Create a frequency table\n",
    "frequency_table = dict(zip(dog_breeds, frequencies))\n",
    "sorted_table = dict(sorted(frequency_table.items(), key=lambda item: item[1], reverse=True))\n",
    "\n",
    "print(\"\\nFrequency Table:\")\n",
    "for breed, freq in sorted_table.items():\n",
    "    print(f\"{breed}: {freq}\")"
   ]
  },
  {
   "cell_type": "code",
   "execution_count": null,
   "id": "e206da13",
   "metadata": {},
   "outputs": [],
   "source": []
  },
  {
   "cell_type": "code",
   "execution_count": null,
   "id": "bff1620d",
   "metadata": {},
   "outputs": [],
   "source": []
  },
  {
   "cell_type": "markdown",
   "id": "eb1717fc",
   "metadata": {},
   "source": [
    "# Measuring Dispersion and Finding the Range of a Set of Numbers\n",
    "\n",
    "In statistics, measures of dispersion help us understand how spread out the values in a dataset are. While measures like the mean, median, and mode provide information about central tendency, they don't reveal how much the data varies. Measures of dispersion, such as the range, variance, and standard deviation, address this.\n",
    "\n",
    "## What is Dispersion?\n",
    "\n",
    "Dispersion refers to the extent to which data points in a dataset are spread out or clustered together. It helps us determine whether data points are closely grouped or widely spread.\n",
    "\n",
    "## Key Measures of Dispersion\n",
    "\n",
    "### Range\n",
    "\n",
    "The range is the simplest measure of dispersion. It is the difference between the maximum and minimum values in a dataset. The formula is:\n",
    "\n",
    "$$\n",
    "\\mathbf{RANGE} = X_{\\text{MAX}} - X_{\\text{MIN}}\n",
    "$$\n",
    "\n",
    "**Example:** Consider the following laptop prices:\n",
    "\n",
    "- $550\n",
    "\n",
    "- $700\n",
    "\n",
    "- $900\n",
    "\n",
    "- $1,000\n",
    "\n",
    "- $2,000\n",
    "\n",
    "\n",
    "$$\n",
    "\\mathbf{RANGE} = 2000 - 550 = 1450\n",
    "$$\n",
    "\n",
    "This tells us that the prices vary between $550 and $2,000.\n",
    "\n",
    "### Variance\n",
    "\n",
    "Variance measures the average squared deviation of each data point from the mean. It is expressed in squared units and gives us an idea of how much the data points deviate from the mean. The formula for variance is:\n",
    "\n",
    "$$\n",
    "\\mathbf{VARIANCE} = \\frac{\\sum (X_i - \\text{MEAN})^2}{N}\n",
    "$$\n",
    "\n",
    "where:\n",
    "- $X_i$ represents each data point,\n",
    "- $\\text{MEAN}$ is the average of the data points, and\n",
    "- $N$ is the number of data points.\n",
    "\n",
    "### Standard Deviation\n",
    "\n",
    "Standard deviation is the square root of the variance. It provides a measure of dispersion in the same units as the data, showing the average distance of each data point from the mean. The formula for standard deviation is:\n",
    "\n",
    "$$\n",
    "\\mathbf{STANDARD \\ DEVIATION} = \\sqrt{\\mathbf{VARIANCE}}\n",
    "$$\n",
    "\n",
    "**Example with Laptop Prices:**\n",
    "\n",
    "Consider the following laptop prices:\n",
    "\n",
    "- $990\n",
    "\n",
    "- $1,000\n",
    "\n",
    "- $1,050\n",
    "\n",
    "- $1,200\n",
    "\n",
    "- $1,500\n",
    "\n",
    "**Mean:**\n",
    "\n",
    "$$\n",
    "\\mathbf{MEAN} = \\frac{990 + 1000 + 1050 + 1200 + 1500}{5} = \\frac{6740}{5} = 1148.00\n",
    "$$\n",
    "\n",
    "**Range:**\n",
    "\n",
    "$$\n",
    "\\mathbf{RANGE} = 1500 - 990 = 510\n",
    "$$\n",
    "\n",
    "**Variance:**\n",
    "\n",
    "First, calculate the squared deviations from the mean:\n",
    "\n",
    "$$\n",
    "(990 - 1148)^2 = 24,964\n",
    "$$\n",
    "\n",
    "$$\n",
    "(1000 - 1148)^2 = 21,904\n",
    "$$\n",
    "\n",
    "$$\n",
    "(1050 - 1148)^2 = 9,604\n",
    "$$\n",
    "\n",
    "$$\n",
    "(1200 - 1148)^2 = 2,704\n",
    "$$\n",
    "\n",
    "$$\n",
    "(1500 - 1148)^2 = 123,904\n",
    "$$\n",
    "\n",
    "\n",
    "Sum these values and divide by the number of data points:\n",
    "\n",
    "$$\n",
    "\\mathbf{VARIANCE} = \\frac{24,964 + 21,904 + 9,604 + 2,704 + 123,904}{5} = \\frac{183,080}{5} = 36616.00\n",
    "$$\n",
    "\n",
    "**Standard Deviation:**\n",
    "\n",
    "$$\n",
    "\\mathbf{STANDARD \\ DEVIATION} = \\sqrt{36616.00} \\approx 191.35\n",
    "$$\n",
    "\n",
    "This tells us that the laptop prices deviate from the mean by approximately $191.35.\n",
    "\n"
   ]
  },
  {
   "cell_type": "code",
   "execution_count": null,
   "id": "1316e78f",
   "metadata": {},
   "outputs": [],
   "source": []
  },
  {
   "cell_type": "code",
   "execution_count": 78,
   "id": "96a617e5",
   "metadata": {},
   "outputs": [],
   "source": [
    "import numpy as np\n",
    "\n",
    "# Sample data: laptop prices\n",
    "prices = [990, 1000, 1050, 1200, 1500]\n",
    "\n",
    "# Calculate the mean\n",
    "mean_value = np.mean(prices)\n",
    "\n",
    "# Calculate the range\n",
    "range_value = np.max(prices) - np.min(prices)\n",
    "\n",
    "# Calculate the variance\n",
    "variance = np.var(prices, ddof=0)  # Population variance\n",
    "\n",
    "# Calculate the standard deviation\n",
    "std_dev = np.std(prices, ddof=0)  # Population standard deviation"
   ]
  },
  {
   "cell_type": "code",
   "execution_count": 79,
   "id": "97eaa4eb",
   "metadata": {},
   "outputs": [
    {
     "name": "stdout",
     "output_type": "stream",
     "text": [
      "Laptop Prices: [990, 1000, 1050, 1200, 1500]\n"
     ]
    }
   ],
   "source": [
    "print(f\"Laptop Prices: {prices}\")"
   ]
  },
  {
   "cell_type": "code",
   "execution_count": 80,
   "id": "bce6c9d1",
   "metadata": {},
   "outputs": [
    {
     "name": "stdout",
     "output_type": "stream",
     "text": [
      "Mean: 1148.00\n"
     ]
    }
   ],
   "source": [
    "print(f\"Mean: {mean_value:.2f}\")"
   ]
  },
  {
   "cell_type": "code",
   "execution_count": 81,
   "id": "1acc4614",
   "metadata": {},
   "outputs": [
    {
     "name": "stdout",
     "output_type": "stream",
     "text": [
      "Range: 510\n"
     ]
    }
   ],
   "source": [
    "print(f\"Range: {range_value}\")"
   ]
  },
  {
   "cell_type": "code",
   "execution_count": 82,
   "id": "8724552a",
   "metadata": {},
   "outputs": [
    {
     "name": "stdout",
     "output_type": "stream",
     "text": [
      "Variance: 36616.00\n"
     ]
    }
   ],
   "source": [
    "print(f\"Variance: {variance:.2f}\")"
   ]
  },
  {
   "cell_type": "code",
   "execution_count": 83,
   "id": "9b17bff0",
   "metadata": {},
   "outputs": [
    {
     "name": "stdout",
     "output_type": "stream",
     "text": [
      "Standard Deviation: 191.35\n"
     ]
    }
   ],
   "source": [
    "print(f\"Standard Deviation: {std_dev:.2f}\")"
   ]
  },
  {
   "cell_type": "code",
   "execution_count": 84,
   "id": "e6e9224a",
   "metadata": {},
   "outputs": [],
   "source": [
    "# Detailed manual calculation for variance and standard deviation\n",
    "squared_deviations = [(x - mean_value) ** 2 for x in prices]\n",
    "manual_variance = sum(squared_deviations) / len(prices)\n",
    "manual_std_dev = np.sqrt(manual_variance)"
   ]
  },
  {
   "cell_type": "code",
   "execution_count": 85,
   "id": "d4173060",
   "metadata": {},
   "outputs": [
    {
     "name": "stdout",
     "output_type": "stream",
     "text": [
      "\n",
      "Manual Variance Calculation: 36616.00\n",
      "Manual Standard Deviation Calculation: 191.35\n"
     ]
    }
   ],
   "source": [
    "print(f\"\\nManual Variance Calculation: {manual_variance:.2f}\")\n",
    "print(f\"Manual Standard Deviation Calculation: {manual_std_dev:.2f}\")"
   ]
  },
  {
   "cell_type": "code",
   "execution_count": null,
   "id": "a67da666",
   "metadata": {},
   "outputs": [],
   "source": []
  },
  {
   "cell_type": "code",
   "execution_count": null,
   "id": "dcfd591b",
   "metadata": {},
   "outputs": [],
   "source": []
  },
  {
   "cell_type": "code",
   "execution_count": null,
   "id": "2022b0b1",
   "metadata": {},
   "outputs": [],
   "source": []
  },
  {
   "cell_type": "markdown",
   "id": "a733c309",
   "metadata": {},
   "source": [
    "# Set and Probability"
   ]
  },
  {
   "cell_type": "markdown",
   "id": "1aa8c628",
   "metadata": {},
   "source": [
    "---\n",
    "## $\\mathbf{Understanding\\ Sets:\\ An\\ Introduction}$\n",
    "\n",
    "Before delving into the realm of probability, it's essential to grasp the concept of sets. Sets form the foundation for many mathematical concepts and are crucial for understanding probability. This content will guide you through the basics of sets, how they differ from other collections, and how to create them, particularly in Python using the `SymPy` library.\n",
    "\n",
    "### $\\mathbf{What\\ is\\ a\\ Set?}$\n",
    "\n",
    "A set is defined as a collection of unordered and distinct objects, known as elements or members. The defining characteristics of a set include:\n",
    "\n",
    "- **Unordered**: The sequence of elements in a set does not matter. For example, the sets $\\{1, 2, 3\\}$ and $\\{3, 2, 1\\}$ are considered identical.\n",
    "- **Distinct**: Each element in a set is unique, with no repetitions.\n",
    "\n",
    "Sets are typically denoted by curly brackets with elements separated by commas. The elements can be numbers, words, or even other sets.\n",
    "\n",
    "### $\\mathbf{Types\\ of\\ Sets}$\n",
    "\n",
    "Sets can be categorized into two main types:\n",
    "\n",
    "- **Finite Sets**: These sets have a limited number of elements. For instance, the set of vowels in the English alphabet $\\{a, e, i, o, u\\}$ is finite.\n",
    "  \n",
    "- **Infinite Sets**: These sets contain an unlimited number of elements. Examples include the set of natural numbers or the set of all integers."
   ]
  },
  {
   "cell_type": "code",
   "execution_count": null,
   "id": "a3bfba7c",
   "metadata": {},
   "outputs": [],
   "source": []
  },
  {
   "cell_type": "markdown",
   "id": "49ed3eca",
   "metadata": {},
   "source": [
    "## $\\mathbf{Creating\\ Sets\\ in\\ Python\\ with\\ SymPy}$\n",
    "\n",
    "Python, a versatile programming language, offers libraries like `SymPy` that facilitate the creation and manipulation of sets. Here's a step-by-step guide to creating sets using `SymPy`:\n",
    "\n",
    "### $\\mathbf{Importing\\ SymPy's\\ FiniteSet\\ Class}$\n",
    "\n",
    "To begin, you need to import the `FiniteSet` class from the `SymPy` library. This class allows you to create set objects easily."
   ]
  },
  {
   "cell_type": "code",
   "execution_count": 86,
   "id": "eab8a36e",
   "metadata": {},
   "outputs": [],
   "source": [
    "from sympy import FiniteSet\n",
    "\n",
    "# Creating a Set of Single-Digit Integers\n",
    "A = FiniteSet(0, 1, 2, 3, 4, 5, 6, 7, 8, 9)"
   ]
  },
  {
   "cell_type": "code",
   "execution_count": 87,
   "id": "7cc8cdf6",
   "metadata": {},
   "outputs": [
    {
     "name": "stdout",
     "output_type": "stream",
     "text": [
      "{0, 1, 2, 3, 4, 5, 6, 7, 8, 9}\n"
     ]
    }
   ],
   "source": [
    "print(A)"
   ]
  },
  {
   "cell_type": "code",
   "execution_count": 88,
   "id": "b990d4ea",
   "metadata": {},
   "outputs": [],
   "source": [
    "# Creating a Set from a List\n",
    "vowels = ['a', 'e', 'i', 'o', 'u']\n",
    "V = FiniteSet(*vowels)"
   ]
  },
  {
   "cell_type": "code",
   "execution_count": 89,
   "id": "faf9f155",
   "metadata": {},
   "outputs": [
    {
     "name": "stdout",
     "output_type": "stream",
     "text": [
      "{a, e, i, o, u}\n"
     ]
    }
   ],
   "source": [
    "print(V)"
   ]
  },
  {
   "cell_type": "code",
   "execution_count": 90,
   "id": "f616e8d5",
   "metadata": {},
   "outputs": [
    {
     "name": "stdout",
     "output_type": "stream",
     "text": [
      "EmptySet\n"
     ]
    }
   ],
   "source": [
    "# Creating an Empty Set\n",
    "empty_set = FiniteSet()\n",
    "print(empty_set)"
   ]
  },
  {
   "cell_type": "code",
   "execution_count": 91,
   "id": "de59f7a0",
   "metadata": {},
   "outputs": [
    {
     "name": "stdout",
     "output_type": "stream",
     "text": [
      "10\n",
      "5\n"
     ]
    }
   ],
   "source": [
    "print(len(A))  # Outputs 10\n",
    "print(len(V))  # Outputs 5"
   ]
  },
  {
   "cell_type": "code",
   "execution_count": null,
   "id": "09fc9060",
   "metadata": {},
   "outputs": [],
   "source": []
  },
  {
   "cell_type": "code",
   "execution_count": null,
   "id": "0205403f",
   "metadata": {},
   "outputs": [],
   "source": []
  },
  {
   "cell_type": "markdown",
   "id": "4400d98a",
   "metadata": {},
   "source": [
    "## Subsets & supersets &## $\\mathbf{Understanding\\ Subsets,\\ Supersets,\\ and\\ Powersets}$\n",
    "\n",
    "In set theory, understanding the relationships between sets is crucial. Three fundamental concepts in this area are subsets, supersets, and powersets. Let's explore each of these concepts in detail.\n",
    "\n",
    "### $\\mathbf{Subsets}$\n",
    "\n",
    "A subset is a set whose elements are all contained within another set. If every element of set $\\mathbf{B}$ is also an element of set $\\mathbf{A}$, then $\\mathbf{B}$ is a subset of $\\mathbf{A}$, denoted as $\\mathbf{B \\subseteq A}$. For example, if set $\\mathbf{A}$ consists of the numbers $\\{1, 2, 3, 4, 5\\}$ and set $\\mathbf{B}$ consists of $\\{2, 3\\}$, then $\\mathbf{B}$ is a subset of $\\mathbf{A}$.\n",
    "\n",
    "- **Proper Subset**: A proper subset is a subset that is not equal to the original set, meaning it must have fewer elements. If $\\mathbf{B}$ is a proper subset of $\\mathbf{A}$, then $\\mathbf{B \\subset A}$ and there is at least one element in $\\mathbf{A}$ that is not in $\\mathbf{B}$.\n",
    "  \n",
    "- **Improper Subset**: An improper subset is a subset that is equal to the original set. Every set is an improper subset of itself.\n",
    "\n",
    "### $\\mathbf{Supersets}$\n",
    "\n",
    "A superset is the opposite of a subset. If set $\\mathbf{A}$ contains all elements of set $\\mathbf{B}$, then $\\mathbf{A}$ is a superset of $\\mathbf{B}$, denoted as $\\mathbf{A \\supseteq B}$. For example, if $\\mathbf{A = \\{1, 2, 3, 4, 5\\}}$ and $\\mathbf{B = \\{2, 3\\}}$, then $\\mathbf{A}$ is a superset of $\\mathbf{B}$.\n",
    "\n",
    "- **Proper Superset**: A proper superset contains all elements of another set and at least one additional element. If $\\mathbf{A}$ is a proper superset of $\\mathbf{B}$, then $\\mathbf{A \\supset B}$.\n",
    "\n",
    "### $\\mathbf{Powersets}$\n",
    "\n",
    "The powerset of a set $\\mathbf{A}$ is the set of all possible subsets of $\\mathbf{A}$, including the empty set and $\\mathbf{A}$ itself. If a set $\\mathbf{A}$ has $n$ elements, then its powerset will have $2^n$ subsets. For instance, if $\\mathbf{A = \\{1, 2\\}}$, the powerset of $\\mathbf{A}$ is $\\{\\emptyset, \\{1\\}, \\{2\\}, \\{1, 2\\}\\}$.\n",
    "\n",
    "### $\\mathbf{Examples\\ and\\ Properties}$\n",
    "\n",
    "- **Example of Subsets**: Consider set $\\mathbf{P = \\{2, 4, 6\\}}$. The subsets of $\\mathbf{P}$ are $\\{\\emptyset, \\{2\\}, \\{4\\}, \\{6\\}, \\{2, 4\\}, \\{4, 6\\}, \\{2, 6\\}, \\{2, 4, 6\\}\\}$.\n",
    "  \n",
    "- **Properties**:\n",
    "  - Every set is a subset of itself.\n",
    "  - The empty set is a subset of every set.\n",
    "  - If $\\mathbf{X}$ is a subset of $\\mathbf{Y}$, then $\\mathbf{Y}$ is a superset of $\\mathbf{X}$.\n",
    "\n",
    "### $\\mathbf{Practical\\ Application\\ in\\ Python}$\n",
    "\n",
    "In Python, you can use libraries like `SymPy` to check these relationships between sets. For example, you can verify if a set is a subset or a superset using functions like `is_subset()` and `is_superset()`. You can also generate the powerset of a set using a `powerset()` function.\n",
    "\n",
    "Understanding these concepts is fundamental in mathematics and computer science, especially in areas involving data structures and algorithms. They help in organizing data, optimizing search operations, and establishing logical relationships between different data sets.\n",
    " powersets"
   ]
  },
  {
   "cell_type": "code",
   "execution_count": null,
   "id": "cea258b6",
   "metadata": {},
   "outputs": [],
   "source": []
  },
  {
   "cell_type": "markdown",
   "id": "c96fe151",
   "metadata": {},
   "source": [
    "### Checking Subsets and Supersets "
   ]
  },
  {
   "cell_type": "code",
   "execution_count": 92,
   "id": "fb4081cf",
   "metadata": {},
   "outputs": [
    {
     "name": "stdout",
     "output_type": "stream",
     "text": [
      "Is set_b a subset of set_a? True\n",
      "Is set_a a superset of set_b? True\n"
     ]
    }
   ],
   "source": [
    "# Define two sets\n",
    "set_a = {1, 2, 3, 4, 5}\n",
    "set_b = {2, 3}\n",
    "\n",
    "# Check if set_b is a subset of set_a\n",
    "is_subset = set_b.issubset(set_a)\n",
    "print(f\"Is set_b a subset of set_a? {is_subset}\")\n",
    "\n",
    "# Check if set_a is a superset of set_b\n",
    "is_superset = set_a.issuperset(set_b)\n",
    "print(f\"Is set_a a superset of set_b? {is_superset}\")"
   ]
  },
  {
   "cell_type": "code",
   "execution_count": null,
   "id": "e44b3e7a",
   "metadata": {},
   "outputs": [],
   "source": []
  },
  {
   "cell_type": "markdown",
   "id": "5f8d3912",
   "metadata": {},
   "source": [
    "### Generating a Powerset \n",
    "- Generating a powerset involves creating all possible subsets of a set. This can be done using the itertools library."
   ]
  },
  {
   "cell_type": "code",
   "execution_count": 93,
   "id": "f0b48fd1",
   "metadata": {},
   "outputs": [
    {
     "name": "stdout",
     "output_type": "stream",
     "text": [
      "The powerset of set_c is: [(), (1,), (2,), (3,), (1, 2), (1, 3), (2, 3), (1, 2, 3)]\n"
     ]
    }
   ],
   "source": [
    "from itertools import chain, combinations\n",
    "\n",
    "# Function to generate the powerset\n",
    "def powerset(s):\n",
    "    return list(chain.from_iterable(combinations(s, r) for r in range(len(s)+1)))\n",
    "\n",
    "# Define a set\n",
    "set_c = {1, 2, 3}\n",
    "\n",
    "# Generate the powerset\n",
    "power_set = powerset(set_c)\n",
    "print(f\"The powerset of set_c is: {power_set}\")"
   ]
  },
  {
   "cell_type": "code",
   "execution_count": null,
   "id": "a1890381",
   "metadata": {},
   "outputs": [],
   "source": []
  },
  {
   "cell_type": "code",
   "execution_count": null,
   "id": "f502fe5c",
   "metadata": {},
   "outputs": [],
   "source": []
  },
  {
   "cell_type": "markdown",
   "id": "96fd4e80",
   "metadata": {},
   "source": [
    "### Using SymPy for Set Operations\n",
    "- SymPy, a Python library for symbolic mathematics, can also be used to handle set operations."
   ]
  },
  {
   "cell_type": "code",
   "execution_count": 94,
   "id": "b4a5f3e2",
   "metadata": {},
   "outputs": [
    {
     "name": "stdout",
     "output_type": "stream",
     "text": [
      "Using SymPy: Is set_c a subset of set_a? True\n",
      "\n",
      "Using SymPy: Is set_a a superset of set_c? True\n",
      "\n",
      "Using SymPy: The powerset of set_a is: FiniteSet(EmptySet, {1}, {2}, {3}, {4}, {5}, {1, 2}, {1, 3}, {1, 4}, {1, 5}, {2, 3}, {2, 4}, {2, 5}, {3, 4}, {3, 5}, {4, 5}, {1, 2, 3}, {1, 2, 4}, {1, 2, 5}, {1, 3, 4}, {1, 3, 5}, {1, 4, 5}, {2, 3, 4}, {2, 3, 5}, {2, 4, 5}, {3, 4, 5}, {1, 2, 3, 4}, {1, 2, 3, 5}, {1, 2, 4, 5}, {1, 3, 4, 5}, {2, 3, 4, 5}, {1, 2, 3, 4, 5})\n"
     ]
    }
   ],
   "source": [
    "from sympy import FiniteSet\n",
    "\n",
    "# Define sets using SymPy\n",
    "set_a = FiniteSet(1, 2, 3, 4, 5)\n",
    "set_c = FiniteSet(2, 3)\n",
    "\n",
    "# Check subset and superset relationships\n",
    "is_subset_sympy = set_c.is_subset(set_a)\n",
    "is_superset_sympy = set_a.is_superset(set_c)\n",
    "\n",
    "print(f\"Using SymPy: Is set_c a subset of set_a? {is_subset_sympy}\")\n",
    "print('')\n",
    "\n",
    "print(f\"Using SymPy: Is set_a a superset of set_c? {is_superset_sympy}\")\n",
    "print('')\n",
    "\n",
    "# Generate powerset using SymPy\n",
    "powerset_sympy = set_a.powerset()\n",
    "print(f\"Using SymPy: The powerset of set_a is: {powerset_sympy}\")"
   ]
  },
  {
   "cell_type": "code",
   "execution_count": null,
   "id": "6ededa33",
   "metadata": {},
   "outputs": [],
   "source": []
  },
  {
   "cell_type": "code",
   "execution_count": null,
   "id": "6507a2f8",
   "metadata": {},
   "outputs": [],
   "source": []
  },
  {
   "cell_type": "markdown",
   "id": "9550fd60",
   "metadata": {},
   "source": [
    "# Set operations"
   ]
  },
  {
   "cell_type": "code",
   "execution_count": null,
   "id": "e1390b4c",
   "metadata": {},
   "outputs": [],
   "source": []
  },
  {
   "cell_type": "markdown",
   "id": "7c2c03e1",
   "metadata": {},
   "source": [
    "## Set Operations\n",
    "\n",
    "### Universal Set and Subsets\n",
    "\n",
    "- **Universal Set:** The universal set $\\mathbf{U}$ contains all objects under consideration.\n",
    "- **Subsets:** Any set $\\mathbf{A}$ is a subset of $\\mathbf{U}$, denoted as $\\mathbf{A} \\subseteq \\mathbf{U}$.\n",
    "\n",
    "### Complement\n",
    "\n",
    "- **Definition:** The complement of set $\\mathbf{A}$, denoted as $\\mathbf{A}^c$ or $\\overline{\\mathbf{A}}$, contains all elements in $\\mathbf{U}$ that are not in $\\mathbf{A}$.\n",
    "- **Formula:** $$\\mathbf{A}^c = \\mathbf{U} - \\mathbf{A}$$\n",
    "\n",
    "### Union\n",
    "\n",
    "- **Definition:** The union of sets $\\mathbf{A}$ and $\\mathbf{B}$, denoted as $\\mathbf{A} \\cup \\mathbf{B}$, contains all distinct elements from both sets.\n",
    "- **Example:**\n",
    "  - **Sets:** Let $\\mathbf{A} = \\{1, 2, 3\\}$ and $\\mathbf{B} = \\{3, 4, 5, 6, 7\\}$.\n",
    "  - **Union Calculation:**\n",
    "    1. List all elements in $\\mathbf{A}$: {1, 2, 3}\n",
    "    2. List all elements in $\\mathbf{B}$: {3, 4, 5, 6, 7}\n",
    "    3. Combine all unique elements: {1, 2, 3, 4, 5, 6, 7}\n",
    "  - **Result:** $$\\mathbf{A} \\cup \\mathbf{B} = \\{1, 2, 3, 4, 5, 6, 7\\}$$\n",
    "\n",
    "### Intersection\n",
    "\n",
    "- **Definition:** The intersection of sets $\\mathbf{A}$ and $\\mathbf{B}$, denoted as $\\mathbf{A} \\cap \\mathbf{B}$, contains elements common to both sets.\n",
    "- **Example:**\n",
    "  - **Sets:** Let $\\mathbf{A} = \\{1, 2, 3, 4\\}$ and $\\mathbf{B} = \\{3, 4, 5, 6\\}$.\n",
    "  - **Intersection Calculation:**\n",
    "    1. List elements in $\\mathbf{A}$: {1, 2, 3, 4}\n",
    "    2. List elements in $\\mathbf{B}$: {3, 4, 5, 6}\n",
    "    3. Find common elements: {3, 4}\n",
    "  - **Result:** $$\\mathbf{A} \\cap \\mathbf{B} = \\{3, 4\\}$$\n",
    "\n",
    "### Cartesian Product\n",
    "\n",
    "- **Definition:** The Cartesian product of sets $\\mathbf{A}$ and $\\mathbf{B}$, denoted as $\\mathbf{A} \\times \\mathbf{B}$, creates a set of all possible ordered pairs $(a, b)$ where $a \\in \\mathbf{A}$ and $b \\in \\mathbf{B}$.\n",
    "- **Example:**\n",
    "  - **Sets:** Let $\\mathbf{A} = \\{1, 2\\}$ and $\\mathbf{B} = \\{x, y\\}$.\n",
    "  - **Cartesian Product Calculation:**\n",
    "    1. List elements in $\\mathbf{A}$: {1, 2}\n",
    "    2. List elements in $\\mathbf{B}$: {x, y}\n",
    "    3. Create all possible pairs: {(1, x), (1, y), (2, x), (2, y)}\n",
    "  - **Result:** $$\\mathbf{A} \\times \\mathbf{B} = \\{(1, x), (1, y), (2, x), (2, y)\\}$$"
   ]
  },
  {
   "cell_type": "code",
   "execution_count": null,
   "id": "82b53c48",
   "metadata": {},
   "outputs": [],
   "source": []
  },
  {
   "cell_type": "markdown",
   "id": "152cd56c",
   "metadata": {},
   "source": [
    "### Python code that demonstrates set operations using the SymPy library and the itertools module"
   ]
  },
  {
   "cell_type": "code",
   "execution_count": 95,
   "id": "2289933f",
   "metadata": {},
   "outputs": [
    {
     "name": "stdout",
     "output_type": "stream",
     "text": [
      "Set A: {1, 2, 3, 4}\n",
      "\n",
      "Set B: {3, 4, 5, 6}\n",
      "\n",
      "\n",
      "Results:\n",
      "\n",
      "Union: {1, 2, 3, 4, 5, 6}\n",
      "Intersection: {3, 4}\n",
      "Cartesian Product: {(4, 4), (2, 4), (3, 4), (1, 5), (4, 3), (4, 6), (1, 4), (2, 3), (4, 5), (3, 3), (2, 6), (3, 6), (1, 6), (2, 5), (1, 3), (3, 5)}\n"
     ]
    }
   ],
   "source": [
    "from sympy import FiniteSet\n",
    "from itertools import product\n",
    "\n",
    "# Define sample sets\n",
    "A = FiniteSet(1, 2, 3, 4)\n",
    "B = FiniteSet(3, 4, 5, 6)\n",
    "\n",
    "# Union of A and B\n",
    "union_ab = A.union(B)\n",
    "\n",
    "# Intersection of A and B\n",
    "intersection_ab = A.intersect(B)\n",
    "\n",
    "# Cartesian product of A and B\n",
    "cartesian_product_ab = set(product(A.args, B.args))\n",
    "\n",
    "# Display results\n",
    "results = {\n",
    "    'Union': union_ab,\n",
    "    'Intersection': intersection_ab,\n",
    "    'Cartesian Product': cartesian_product_ab\n",
    "}\n",
    "\n",
    "print(\"Set A:\", A)\n",
    "print('')\n",
    "\n",
    "print(\"Set B:\", B)\n",
    "print('')\n",
    "\n",
    "print(\"\\nResults:\")\n",
    "print('')\n",
    "\n",
    "for operation, result in results.items():\n",
    "    print(f\"{operation}: {result}\")"
   ]
  },
  {
   "cell_type": "code",
   "execution_count": null,
   "id": "4e9f1edd",
   "metadata": {},
   "outputs": [],
   "source": []
  },
  {
   "cell_type": "code",
   "execution_count": null,
   "id": "91c58380",
   "metadata": {},
   "outputs": [],
   "source": []
  },
  {
   "cell_type": "markdown",
   "id": "7e6289b7",
   "metadata": {},
   "source": [
    "# **Defining Probability**\n",
    "\n",
    "**Probability** is the measure of the likelihood that an event will occur. It is expressed as a number between 0 and 1, where:\n",
    "\n",
    "- $\\mathbf{0}$ indicates impossibility.\n",
    "- $\\mathbf{1}$ indicates certainty.\n",
    "\n",
    "Probability can also be expressed as a percentage between 0% and 100%.\n",
    "\n",
    "## **Key Concepts**\n",
    "\n",
    "### **Experiment**\n",
    "An **experiment** is any process or situation with an uncertain outcome that can be repeated under the same conditions. Examples include:\n",
    "\n",
    "- Flipping a coin\n",
    "- Rolling a die\n",
    "- Drawing a card from a deck\n",
    "\n",
    "### **Sample Space**\n",
    "The **sample space** $(\\mathbf{S})$ is the set of all possible outcomes of an experiment. For example:\n",
    "\n",
    "- Coin flip: $\\mathbf{S} = \\{ \\text{Heads, Tails} \\}$\n",
    "- Die roll: $\\mathbf{S} = \\{ 1, 2, 3, 4, 5, 6 \\}$\n",
    "\n",
    "### **Event**\n",
    "An **event** $(\\mathbf{E})$ is a subset of the sample space, representing a specific outcome or set of outcomes we're interested in. For example:\n",
    "\n",
    "- Getting heads on a coin flip: $\\mathbf{E} = \\{ \\text{Heads} \\}$\n",
    "- Rolling an even number on a die: $\\mathbf{E} = \\{ 2, 4, 6 \\}$\n",
    "\n",
    "## **Calculating Probability**\n",
    "For events with equally likely outcomes (uniform distribution), the probability of an event $\\mathbf{E}$ is calculated as:\n",
    "\n",
    "$$\\mathbf{P(E) = \\frac{n(E)}{n(S)}}$$\n",
    "\n",
    "Where:\n",
    "\n",
    "- $\\mathbf{n(E)}$ is the number of favorable outcomes (cardinality of the event)\n",
    "- $\\mathbf{n(S)}$ is the total number of possible outcomes (cardinality of the sample space)\n",
    "\n",
    "**Examples**:\n",
    "\n",
    "1. **Probability of rolling a 4 on a fair die**:\n",
    "\n",
    "   **Step 1:** Identify the sample space $\\mathbf{S}$.\n",
    "\n",
    "   - $\\mathbf{S = \\{ 1, 2, 3, 4, 5, 6 \\}}$\n",
    "\n",
    "   **Step 2:** Identify the event $\\mathbf{E}$.\n",
    "\n",
    "   - $\\mathbf{E = \\{ 4 \\}}$\n",
    "\n",
    "   **Step 3:** Calculate the probability.\n",
    "\n",
    "   - $$\\mathbf{P(4) = \\frac{n(E)}{n(S)} = \\frac{1}{6} \\approx 0.167 \\text{ or } 16.7\\%}$$\n",
    "\n",
    "2. **Probability of drawing a heart from a standard deck**:\n",
    "\n",
    "   **Step 1:** Identify the sample space $\\mathbf{S}$.\n",
    "\n",
    "   - A standard deck has 52 cards: $\\mathbf{S = \\{ 52 \\text{ cards} \\}}$\n",
    "\n",
    "   **Step 2:** Identify the event $\\mathbf{E}$.\n",
    "\n",
    "   - There are 13 hearts in a deck: $\\mathbf{E = \\{ 13 \\text{ hearts} \\}}$\n",
    "\n",
    "   **Step 3:** Calculate the probability.\n",
    "\n",
    "   - $$\\mathbf{P(Heart) = \\frac{n(E)}{n(S)} = \\frac{13}{52} = \\frac{1}{4} = 0.25 \\text{ or } 25\\%}$$\n",
    "\n",
    "## **Types of Probability**\n",
    "\n",
    "- **Theoretical Probability**: Based on the assumption of equally likely outcomes.\n",
    "- **Empirical Probability**: Based on observed frequency of outcomes in repeated experiments.\n",
    "- **Subjective Probability**: Based on personal judgment or expertise.\n",
    "\n",
    "## **Basic Rules of Probability**\n",
    "\n",
    "- **Complement Rule**: For any event $\\mathbf{E}$, \n",
    "\n",
    "  $$\\mathbf{P(\\text{not } E) = 1 - P(E)}$$\n",
    "\n",
    "- **Addition Rule**: For mutually exclusive events $\\mathbf{A}$ and $\\mathbf{B}$,\n",
    "\n",
    "  $$\\mathbf{P(A \\text{ or } B) = P(A) + P(B)}$$\n",
    "\n",
    "- **Multiplication Rule**: For independent events $\\mathbf{A}$ and $\\mathbf{B}$,\n",
    "\n",
    "  $$\\mathbf{P(A \\text{ and } B) = P(A) \\times P(B)}$$\n",
    "\n",
    "### **Example with Detailed Steps:**\n",
    "\n",
    "**Problem:** What is the probability of drawing an Ace from a standard deck of cards, followed by drawing a King without replacement?\n",
    "\n",
    "**Step 1:** Identify the sample space $\\mathbf{S}$.\n",
    "\n",
    "- A standard deck has 52 cards, so initially, $\\mathbf{n(S) = 52}$.\n",
    "\n",
    "**Step 2:** Identify the event $\\mathbf{E_1}$ for drawing an Ace.\n",
    "\n",
    "- There are 4 Aces in a deck: $\\mathbf{n(E_1) = 4}$.\n",
    "\n",
    "**Step 3:** Calculate the probability of drawing an Ace.\n",
    "\n",
    "- $$\\mathbf{P(E_1) = \\frac{n(E_1)}{n(S)} = \\frac{4}{52} = \\frac{1}{13} \\approx 0.077 \\text{ or } 7.7\\%}$$\n",
    "\n",
    "**Step 4:** Adjust the sample space for the second draw.\n",
    "\n",
    "- After drawing an Ace, there are 51 cards left: $\\mathbf{n(S') = 51}$.\n",
    "\n",
    "**Step 5:** Identify the event $\\mathbf{E_2}$ for drawing a King.\n",
    "\n",
    "- There are still 4 Kings in the deck: $\\mathbf{n(E_2) = 4}$.\n",
    "\n",
    "**Step 6:** Calculate the probability of drawing a King after an Ace.\n",
    "\n",
    "- $$\\mathbf{P(E_2 | E_1) = \\frac{n(E_2)}{n(S')} = \\frac{4}{51} \\approx 0.078 \\text{ or } 7.8\\%}$$\n",
    "\n",
    "**Step 7:** Calculate the combined probability of both events (drawing an Ace and then a King).\n",
    "\n",
    "- $$\\mathbf{P(Ace \\text{ and } King) = P(E_1) \\times P(E_2 | E_1) = \\frac{1}{13} \\times \\frac{4}{51} \\approx 0.006 \\text{ or } 0.6\\%}$$\n",
    "\n",
    "This step-by-step approach helps in understanding how to apply probability concepts in various scenarios.\n",
    "\n",
    "Understanding these basic concepts of probability provides a foundation for more advanced statistical analysis and decision-making in various fields, including science, finance, and everyday life."
   ]
  },
  {
   "cell_type": "code",
   "execution_count": null,
   "id": "0945064f",
   "metadata": {},
   "outputs": [],
   "source": []
  },
  {
   "cell_type": "markdown",
   "id": "a3bde2fb",
   "metadata": {},
   "source": [
    "## Python Implementation"
   ]
  },
  {
   "cell_type": "code",
   "execution_count": null,
   "id": "fe6d0405",
   "metadata": {},
   "outputs": [],
   "source": []
  },
  {
   "cell_type": "markdown",
   "id": "ae40de8f",
   "metadata": {},
   "source": [
    "### coin flip experiment\n",
    "<img src=\"https://i.pinimg.com/564x/c1/00/66/c100666135301c3507d51c2e9f04496a.jpg\" width=\"200\"/>"
   ]
  },
  {
   "cell_type": "code",
   "execution_count": 96,
   "id": "6ead8b15",
   "metadata": {},
   "outputs": [
    {
     "name": "stdout",
     "output_type": "stream",
     "text": [
      "Coin Flip Experiment:\n",
      "Probability of getting heads: 0.5\n",
      "Experimental probability of heads: 0.44\n"
     ]
    }
   ],
   "source": [
    "import random\n",
    "\n",
    "class ProbabilityExperiment:\n",
    "    def __init__(self, sample_space):\n",
    "        self.sample_space = sample_space\n",
    "    \n",
    "    def calculate_probability(self, event):\n",
    "        if not set(event).issubset(set(self.sample_space)):\n",
    "            raise ValueError(\"Event must be a subset of the sample space\")\n",
    "        return len(event) / len(self.sample_space)\n",
    "    \n",
    "    def run_experiment(self, trials=1000):\n",
    "        results = [random.choice(self.sample_space) for _ in range(trials)]\n",
    "        return results\n",
    "\n",
    "def coin_flip_experiment():\n",
    "    coin_flip = ProbabilityExperiment(['H', 'T'])\n",
    "    print(\"Coin Flip Experiment:\")\n",
    "    print(f\"Probability of getting heads: {coin_flip.calculate_probability(['H'])}\")\n",
    "\n",
    "    results = coin_flip.run_experiment()\n",
    "    heads_count = results.count('H')\n",
    "    print(f\"Experimental probability of heads: {heads_count / len(results)}\")\n",
    "\n",
    "if __name__ == \"__main__\":\n",
    "    coin_flip_experiment()\n"
   ]
  },
  {
   "cell_type": "code",
   "execution_count": null,
   "id": "aa37cff8",
   "metadata": {},
   "outputs": [],
   "source": []
  },
  {
   "cell_type": "markdown",
   "id": "62f8bb01",
   "metadata": {},
   "source": [
    "### die roll experiment\n",
    "<img src=\"https://i.pinimg.com/564x/bb/dc/4f/bbdc4f8b73a388ab61303bb3063cb1fc.jpg\" width=\"200\"/>"
   ]
  },
  {
   "cell_type": "code",
   "execution_count": 97,
   "id": "5ab345ac",
   "metadata": {},
   "outputs": [
    {
     "name": "stdout",
     "output_type": "stream",
     "text": [
      "\n",
      "Die Roll Experiment:\n",
      "Probability of rolling a 4: 0.16666666666666666\n",
      "Experimental probability of rolling a 4 after 1000 rolls: 0.152\n",
      "Counts of all rolls: [169, 182, 164, 152, 172, 161]\n"
     ]
    }
   ],
   "source": [
    "class ProbabilityExperiment:\n",
    "    def __init__(self, sample_space):\n",
    "        self.sample_space = sample_space\n",
    "    \n",
    "    def calculate_probability(self, event):\n",
    "        if not set(event).issubset(set(self.sample_space)):\n",
    "            raise ValueError(\"Event must be a subset of the sample space\")\n",
    "        return len(event) / len(self.sample_space)\n",
    "    \n",
    "    def run_experiment(self, trials=1000):\n",
    "        results = [random.choice(self.sample_space) for _ in range(trials)]\n",
    "        return results\n",
    "\n",
    "def die_roll_experiment():\n",
    "    die_roll = ProbabilityExperiment([1, 2, 3, 4, 5, 6])\n",
    "    print(\"\\nDie Roll Experiment:\")\n",
    "    print(f\"Probability of rolling a 4: {die_roll.calculate_probability([4])}\")\n",
    "\n",
    "    results = die_roll.run_experiment(1000)\n",
    "    fours_count = results.count(4)\n",
    "    print(f\"Experimental probability of rolling a 4 after 1000 rolls: {fours_count / len(results)}\")\n",
    "    print(f\"Counts of all rolls: {[results.count(i) for i in range(1, 7)]}\")\n",
    "\n",
    "if __name__ == \"__main__\":\n",
    "    die_roll_experiment()"
   ]
  },
  {
   "cell_type": "code",
   "execution_count": null,
   "id": "302e7a61",
   "metadata": {},
   "outputs": [],
   "source": []
  },
  {
   "cell_type": "code",
   "execution_count": null,
   "id": "1a84f610",
   "metadata": {},
   "outputs": [],
   "source": []
  },
  {
   "cell_type": "markdown",
   "id": "0296f20f",
   "metadata": {},
   "source": [
    "### card draw experiment\n",
    "<img src=\"https://cdn.vectorstock.com/i/500p/59/69/poker-cards-aces-with-flames-on-white-background-vector-47555969.jpg\" width=\"200\"/>"
   ]
  },
  {
   "cell_type": "code",
   "execution_count": 98,
   "id": "0b5d4368",
   "metadata": {},
   "outputs": [
    {
     "name": "stdout",
     "output_type": "stream",
     "text": [
      "\n",
      "Card Draw Experiment:\n",
      "Probability of drawing a heart: 0.25\n",
      "Probability of drawing an Ace: 0.07692307692307693\n"
     ]
    }
   ],
   "source": [
    "class ProbabilityExperiment:\n",
    "    def __init__(self, sample_space):\n",
    "        self.sample_space = sample_space\n",
    "    \n",
    "    def calculate_probability(self, event):\n",
    "        if not set(event).issubset(set(self.sample_space)):\n",
    "            raise ValueError(\"Event must be a subset of the sample space\")\n",
    "        return len(event) / len(self.sample_space)\n",
    "    \n",
    "    def run_experiment(self, trials=1000):\n",
    "        results = [random.choice(self.sample_space) for _ in range(trials)]\n",
    "        return results\n",
    "\n",
    "def card_draw_experiment():\n",
    "    suits = ['Hearts', 'Diamonds', 'Clubs', 'Spades']\n",
    "    ranks = ['Ace', '2', '3', '4', '5', '6', '7', '8', '9', '10', 'Jack', 'Queen', 'King']\n",
    "    deck = [f\"{rank} of {suit}\" for suit in suits for rank in ranks]\n",
    "\n",
    "    card_draw = ProbabilityExperiment(deck)\n",
    "    print(\"\\nCard Draw Experiment:\")\n",
    "    print(f\"Probability of drawing a heart: {card_draw.calculate_probability([card for card in deck if 'Hearts' in card])}\")\n",
    "    print(f\"Probability of drawing an Ace: {card_draw.calculate_probability([card for card in deck if 'Ace' in card])}\")\n",
    "\n",
    "if __name__ == \"__main__\":\n",
    "    card_draw_experiment()"
   ]
  },
  {
   "cell_type": "code",
   "execution_count": null,
   "id": "4c1b9ee0",
   "metadata": {},
   "outputs": [],
   "source": []
  },
  {
   "cell_type": "code",
   "execution_count": null,
   "id": "3a3d719b",
   "metadata": {},
   "outputs": [],
   "source": []
  },
  {
   "cell_type": "markdown",
   "id": "46e02a37",
   "metadata": {},
   "source": [
    "### compound event experiment\n",
    "<img src=\"https://i.pinimg.com/564x/12/be/3c/12be3c01929ef4b781c19a11f5bde963.jpg\" width=\"200\"/>"
   ]
  },
  {
   "cell_type": "code",
   "execution_count": 99,
   "id": "8356cc87",
   "metadata": {},
   "outputs": [
    {
     "name": "stdout",
     "output_type": "stream",
     "text": [
      "\n",
      "Probability of drawing an Ace then a King (without replacement): 0.00607\n"
     ]
    }
   ],
   "source": [
    "class ProbabilityExperiment:\n",
    "    def __init__(self, sample_space):\n",
    "        self.sample_space = sample_space\n",
    "    \n",
    "    def calculate_probability(self, event):\n",
    "        if not set(event).issubset(set(self.sample_space)):\n",
    "            raise ValueError(\"Event must be a subset of the sample space\")\n",
    "        return len(event) / len(self.sample_space)\n",
    "    \n",
    "    def run_experiment(self, trials=1000):\n",
    "        results = [random.choice(self.sample_space) for _ in range(trials)]\n",
    "        return results\n",
    "\n",
    "def compound_event_experiment(trials=100000):\n",
    "    suits = ['Hearts', 'Diamonds', 'Clubs', 'Spades']\n",
    "    ranks = ['Ace', '2', '3', '4', '5', '6', '7', '8', '9', '10', 'Jack', 'Queen', 'King']\n",
    "    deck = [f\"{rank} of {suit}\" for suit in suits for rank in ranks]\n",
    "    \n",
    "    def draw_ace_then_king():\n",
    "        deck_copy = deck.copy()\n",
    "        first_draw = random.choice(deck_copy)\n",
    "        if 'Ace' in first_draw:\n",
    "            deck_copy.remove(first_draw)\n",
    "            second_draw = random.choice(deck_copy)\n",
    "            return 'King' in second_draw\n",
    "        return False\n",
    "\n",
    "    successes = sum(draw_ace_then_king() for _ in range(trials))\n",
    "    print(f\"\\nProbability of drawing an Ace then a King (without replacement): {successes / trials}\")\n",
    "\n",
    "if __name__ == \"__main__\":\n",
    "    compound_event_experiment()"
   ]
  },
  {
   "cell_type": "code",
   "execution_count": null,
   "id": "1f236474",
   "metadata": {},
   "outputs": [],
   "source": []
  },
  {
   "cell_type": "code",
   "execution_count": null,
   "id": "62006bb4",
   "metadata": {},
   "outputs": [],
   "source": []
  },
  {
   "cell_type": "markdown",
   "id": "6b40a03e",
   "metadata": {},
   "source": [
    "### Demonstrating Basic Probability Rules Using Python: Complement, Addition, and Multiplication Rules"
   ]
  },
  {
   "cell_type": "code",
   "execution_count": 100,
   "id": "7728aa08",
   "metadata": {},
   "outputs": [
    {
     "name": "stdout",
     "output_type": "stream",
     "text": [
      "\n",
      "Demonstrating Basic Rules:\n",
      "Complement Rule: P(not heads) = 0.5\n",
      "Addition Rule: P(roll 1 or 2) = 0.3333333333333333\n",
      "Multiplication Rule: P(heads and roll 6) = 0.08333333333333333\n"
     ]
    }
   ],
   "source": [
    "class ProbabilityExperiment:\n",
    "    def __init__(self, sample_space):\n",
    "        self.sample_space = sample_space\n",
    "    \n",
    "    def calculate_probability(self, event):\n",
    "        if not set(event).issubset(set(self.sample_space)):\n",
    "            raise ValueError(\"Event must be a subset of the sample space\")\n",
    "        return len(event) / len(self.sample_space)\n",
    "    \n",
    "    def run_experiment(self, trials=1000):\n",
    "        results = [random.choice(self.sample_space) for _ in range(trials)]\n",
    "        return results\n",
    "\n",
    "def demonstrate_basic_rules():\n",
    "    coin_flip = ProbabilityExperiment(['H', 'T'])\n",
    "    die_roll = ProbabilityExperiment([1, 2, 3, 4, 5, 6])\n",
    "\n",
    "    print(\"\\nDemonstrating Basic Rules:\")\n",
    "    print(f\"Complement Rule: P(not heads) = {1 - coin_flip.calculate_probability(['H'])}\")\n",
    "    print(f\"Addition Rule: P(roll 1 or 2) = {die_roll.calculate_probability([1]) + die_roll.calculate_probability([2])}\")\n",
    "    print(f\"Multiplication Rule: P(heads and roll 6) = {coin_flip.calculate_probability(['H']) * die_roll.calculate_probability([6])}\")\n",
    "\n",
    "if __name__ == \"__main__\":\n",
    "    demonstrate_basic_rules()"
   ]
  },
  {
   "cell_type": "code",
   "execution_count": null,
   "id": "6b4a1802",
   "metadata": {},
   "outputs": [],
   "source": []
  },
  {
   "cell_type": "code",
   "execution_count": null,
   "id": "d03a62fc",
   "metadata": {},
   "outputs": [],
   "source": []
  },
  {
   "cell_type": "markdown",
   "id": "597ca155",
   "metadata": {},
   "source": [
    "# Probability of the intersection of two events"
   ]
  },
  {
   "cell_type": "code",
   "execution_count": null,
   "id": "4b78658d",
   "metadata": {},
   "outputs": [],
   "source": []
  },
  {
   "cell_type": "markdown",
   "id": "6f635af7",
   "metadata": {},
   "source": [
    "## **Probability of the Intersection of Two Events**\n",
    "\n",
    "The probability of the intersection of two events, also known as joint probability, refers to the likelihood of two independent events occurring simultaneously. This concept is fundamental in probability theory and statistics.\n",
    "\n",
    "### **Key Points:**\n",
    "\n",
    "- **Independence:** The events must be independent, meaning the outcome of one event does not affect the probability of the other.\n",
    "- **Formula:** For independent events $\\mathbf{A}$ and $\\mathbf{B}$, the probability of their intersection is:\n",
    "\n",
    "  $$\\mathbf{P(A \\cap B) = P(A) \\times P(B)}$$\n",
    "\n",
    "- **Notation:** The intersection is denoted by $\\cap$ or \"and\".\n",
    "- **Range:** The joint probability is always less than or equal to the individual probabilities of $\\mathbf{A}$ and $\\mathbf{B}$.\n",
    "\n",
    "**Example:**\n",
    "\n",
    "Consider rolling two fair six-sided dice:\n",
    "\n",
    "- **Event A:** Rolling a 1 on the first die $(\\mathbf{P(A) = \\frac{1}{6}})$\n",
    "- **Event B:** Rolling a 1 on the second die $(\\mathbf{P(B) = \\frac{1}{6}})$\n",
    "\n",
    "**Probability of rolling two 1s:**\n",
    "\n",
    "**Step 1:** Identify the probabilities of each event.\n",
    "\n",
    "- $\\mathbf{P(A) = \\frac{1}{6}}$\n",
    "- $\\mathbf{P(B) = \\frac{1}{6}}$\n",
    "\n",
    "**Step 2:** Calculate the probability of both events occurring simultaneously.\n",
    "\n",
    "- $$\\mathbf{P(A \\cap B) = P(A) \\times P(B) = \\frac{1}{6} \\times \\frac{1}{6} = \\frac{1}{36} \\approx 0.0278 \\text{ or } 2.78\\%}$$\n",
    "\n",
    "Understanding these basic concepts of probability provides a foundation for more advanced statistical analysis and decision-making in various fields, including science, finance, and everyday life."
   ]
  },
  {
   "cell_type": "code",
   "execution_count": 101,
   "id": "1298b1ab",
   "metadata": {},
   "outputs": [
    {
     "name": "stdout",
     "output_type": "stream",
     "text": [
      "Probability of rolling two 1s: 0.0278 or 2.78%\n",
      "Probability of drawing a red 8: 0.0385 or 3.85%\n"
     ]
    }
   ],
   "source": [
    "def intersection_probability(prob_a, prob_b):\n",
    "    \"\"\"\n",
    "    Calculate the probability of the intersection of two independent events.\n",
    "    \n",
    "    Args:\n",
    "    prob_a (float): Probability of event A\n",
    "    prob_b (float): Probability of event B\n",
    "    \n",
    "    Returns:\n",
    "    float: Probability of the intersection of events A and B\n",
    "    \"\"\"\n",
    "    if 0 <= prob_a <= 1 and 0 <= prob_b <= 1:\n",
    "        return prob_a * prob_b\n",
    "    else:\n",
    "        raise ValueError(\"Probabilities must be between 0 and 1\")\n",
    "\n",
    "# Example usage\n",
    "try:\n",
    "    # Rolling two 1s with fair dice\n",
    "    p_a = 1/6  # Probability of rolling a 1 on first die\n",
    "    p_b = 1/6  # Probability of rolling a 1 on second die\n",
    "    result = intersection_probability(p_a, p_b)\n",
    "    print(f\"Probability of rolling two 1s: {result:.4f} or {result*100:.2f}%\")\n",
    "\n",
    "    # Drawing a red 8 from a standard deck\n",
    "    p_eight = 4/52  # Probability of drawing an 8\n",
    "    p_red = 26/52   # Probability of drawing a red card , half of them black and half if them red\n",
    "    result = intersection_probability(p_eight, p_red)\n",
    "    print(f\"Probability of drawing a red 8: {result:.4f} or {result*100:.2f}%\")\n",
    "\n",
    "except ValueError as e:\n",
    "    print(f\"Error: {e}\")"
   ]
  },
  {
   "cell_type": "markdown",
   "id": "0840548f",
   "metadata": {},
   "source": [
    "This Python script defines a function intersection_probability that calculates the joint probability of two independent events. It includes error checking to ensure the input probabilities are valid (between 0 and 1). The script also demonstrates two examples: rolling two 1s with fair dice and drawing a red 8 from a standard deck of cards."
   ]
  },
  {
   "cell_type": "code",
   "execution_count": null,
   "id": "257d584f",
   "metadata": {},
   "outputs": [],
   "source": []
  },
  {
   "cell_type": "code",
   "execution_count": null,
   "id": "f0bba3b9",
   "metadata": {},
   "outputs": [],
   "source": []
  },
  {
   "cell_type": "code",
   "execution_count": null,
   "id": "3aa58b35",
   "metadata": {},
   "outputs": [],
   "source": []
  },
  {
   "cell_type": "markdown",
   "id": "04f8920f",
   "metadata": {},
   "source": [
    "## **Probability of the Union of Two Events**\n",
    "\n",
    "To calculate the probability of the union of two events, we use the **Addition Rule of Probability**. This rule helps determine the likelihood that either one of two events (or both) will occur.\n",
    "\n",
    "### **Formula:**\n",
    "For two events **A** and **B**, the probability of their union is given by:\n",
    "\n",
    "$$\\mathbf{P(A \\cup B) = P(A) + P(B) - P(A \\cap B)}$$\n",
    "\n",
    "Where:\n",
    "- $\\mathbf{P(A \\cup B)}$ is the probability of either event **A** or event **B** occurring.\n",
    "- $\\mathbf{P(A)}$ is the probability of event **A** occurring.\n",
    "- $\\mathbf{P(B)}$ is the probability of event **B** occurring.\n",
    "- $\\mathbf{P(A \\cap B)}$ is the probability of both events **A** and **B** occurring simultaneously (i.e., the intersection of **A** and **B**).\n",
    "\n",
    "### **Types of Events:**\n",
    "\n",
    "1. **Mutually Exclusive Events:**\n",
    "   - If two events **A** and **B** are mutually exclusive, they cannot happen at the same time, meaning **P(A ∩ B) = 0**.\n",
    "   - The formula simplifies to:\n",
    "\n",
    "   $$\\mathbf{P(A \\cup B) = P(A) + P(B)}$$\n",
    "\n",
    "   **Example: Rolling a Die**\n",
    "\n",
    "   - **Event A**: Rolling a 2 $(\\mathbf{P(A) = \\frac{1}{6}})$\n",
    "   - **Event B**: Rolling an odd number (1, 3, or 5) $(\\mathbf{P(B) = \\frac{3}{6}})$\n",
    "   - Since a die roll cannot be both a 2 and an odd number simultaneously, **P(A ∩ B) = 0**.\n",
    "\n",
    "   **Calculation:**\n",
    "\n",
    "   $$\\mathbf{P(A \\cup B) = \\frac{1}{6} + \\frac{3}{6} = \\frac{4}{6} = \\frac{2}{3} \\approx 0.667 \\text{ or } 66.7\\%}$$\n",
    "\n",
    "2. **Non-Mutually Exclusive Events:**\n",
    "   - If events **A** and **B** are non-mutually exclusive, they can occur simultaneously, and we must subtract **P(A ∩ B)** to avoid double-counting.\n",
    "\n",
    "   **Example: Drawing a Card from a Deck**\n",
    "\n",
    "   - **Event A**: Drawing an Ace $(\\mathbf{P(A) = \\frac{4}{52}})$\n",
    "   - **Event B**: Drawing a black card (Spades or Clubs) $(\\mathbf{P(B) = \\frac{26}{52}})$\n",
    "   - **Event A ∩ B**: Drawing a black Ace (either Ace of Spades or Ace of Clubs) $(\\mathbf{P(A \\cap B) = \\frac{2}{52}})$\n",
    "\n",
    "   **Calculation:**\n",
    "\n",
    "   $$\\mathbf{P(A \\cup B) = \\frac{4}{52} + \\frac{26}{52} - \\frac{2}{52} = \\frac{28}{52} = \\frac{7}{13} \\approx 0.538 \\text{ or } 53.8\\%}$$\n",
    "\n",
    "### **Steps to Solve:**\n",
    "\n",
    "1. **Identify the Events:** Define what **A** and **B** represent in your scenario.\n",
    "2. **Determine Individual Probabilities:** Calculate **P(A)** and **P(B)** based on the given information.\n",
    "3. **Check for Mutual Exclusivity:** Determine whether the events are mutually exclusive or not.\n",
    "4. **Calculate Intersection Probability:** If events are non-mutually exclusive, find **P(A ∩ B)**.\n",
    "5. **Apply the Addition Rule:** Plug the values into the formula and calculate **P(A ∪ B)**.\n",
    "\n",
    "### **Key Takeaways:**\n",
    "\n",
    "- **Mutually Exclusive Events:** Use the simplified formula without the intersection term.\n",
    "- **Non-Mutually Exclusive Events:** Always subtract the intersection probability to avoid double-counting.\n",
    "\n",
    "Understanding the probability of the union of two events is essential for analyzing complex scenarios in probability theory, such as risk assessment, decision-making, and various real-world applications.\n"
   ]
  },
  {
   "cell_type": "code",
   "execution_count": null,
   "id": "53a27ca4",
   "metadata": {},
   "outputs": [],
   "source": []
  },
  {
   "cell_type": "code",
   "execution_count": 102,
   "id": "8531e2f4",
   "metadata": {},
   "outputs": [
    {
     "name": "stdout",
     "output_type": "stream",
     "text": [
      "Mutually exclusive result: 0.6667\n",
      "Non-mutually exclusive result: 0.5385\n"
     ]
    }
   ],
   "source": [
    "def probability_of_union(P_A, P_B, P_A_and_B):\n",
    "    return P_A + P_B - P_A_and_B\n",
    "\n",
    "# Example: Mutually exclusive events (rolling a 2 or an odd number)\n",
    "P_A = 1/6  # Probability of rolling a 2\n",
    "P_B = 3/6  # Probability of rolling an odd number\n",
    "P_A_and_B = 0  # Mutually exclusive\n",
    "result_mutually_exclusive = probability_of_union(P_A, P_B, P_A_and_B)\n",
    "\n",
    "\n",
    "# Example: Non-mutually exclusive events (drawing an Ace or a black card)\n",
    "P_A = 4/52  # Probability of drawing an Ace\n",
    "P_B = 26/52  # Probability of drawing a black card\n",
    "P_A_and_B = 2/52  # Probability of drawing a black Ace\n",
    "result_non_mutually_exclusive = probability_of_union(P_A, P_B, P_A_and_B)\n",
    "\n",
    "print(f\"Mutually exclusive result: {result_mutually_exclusive:.4f}\")\n",
    "print(f\"Non-mutually exclusive result: {result_non_mutually_exclusive:.4f}\")"
   ]
  },
  {
   "cell_type": "code",
   "execution_count": null,
   "id": "330247c3",
   "metadata": {},
   "outputs": [],
   "source": []
  },
  {
   "cell_type": "code",
   "execution_count": null,
   "id": "98d74207",
   "metadata": {},
   "outputs": [],
   "source": []
  },
  {
   "cell_type": "code",
   "execution_count": null,
   "id": "6d3ab360",
   "metadata": {},
   "outputs": [],
   "source": []
  },
  {
   "cell_type": "markdown",
   "id": "9798a6cb",
   "metadata": {},
   "source": [
    "# **Generating Random Numbers with Python and NumPy**\n",
    "\n",
    "In the realm of probability, randomness is a fundamental concept, particularly when it comes to selecting items from a collection without bias. In Python, generating random numbers is a common task, and while the standard library offers a `random` module, NumPy's `random` module provides more flexibility, especially when dealing with arrays of random numbers.\n",
    "\n",
    "## **Why Use NumPy's Random Module?**\n",
    "\n",
    "- **Array Generation:** NumPy's `random` module can generate arrays of random numbers efficiently.\n",
    "- **Flexibility:** It offers a wide range of functions for generating random numbers according to different distributions.\n",
    "- **Uniform Distribution:** When generating random floating-point numbers, they are distributed uniformly across the specified range, typically between 0 and 1.\n",
    "\n",
    "## **Setting Up the Random Number Generator**\n",
    "\n",
    "To ensure reproducibility in your random number generation, you can seed the random number generator. This means that every time you run your code, you'll get the same sequence of random numbers."
   ]
  },
  {
   "cell_type": "code",
   "execution_count": 103,
   "id": "b1c8b3a0",
   "metadata": {},
   "outputs": [],
   "source": [
    "import numpy as np\n",
    "\n",
    "# Importing the default random number generator\n",
    "from numpy.random import default_rng\n",
    "\n",
    "# Creating an instance of the random number generator\n",
    "rng = default_rng(seed=12345)  # Seed with a specific integer"
   ]
  },
  {
   "cell_type": "code",
   "execution_count": 104,
   "id": "67ea8892",
   "metadata": {},
   "outputs": [
    {
     "name": "stdout",
     "output_type": "stream",
     "text": [
      "[14  5 16  7  5 16 13 14 20  8]\n"
     ]
    }
   ],
   "source": [
    "# Generating 10 random integers between 1 and 20\n",
    "random_integers = rng.integers(1, 21, size=10)\n",
    "print(random_integers)"
   ]
  },
  {
   "cell_type": "markdown",
   "id": "ab616563",
   "metadata": {},
   "source": [
    "#### Generating Random Floating-Point Numbers"
   ]
  },
  {
   "cell_type": "code",
   "execution_count": 105,
   "id": "3177f827",
   "metadata": {},
   "outputs": [
    {
     "name": "stdout",
     "output_type": "stream",
     "text": [
      "[[0.33281393 0.59830875 0.18673419 0.67275604 0.94180287]\n",
      " [0.24824571 0.94888115 0.66723745 0.09589794 0.44183967]\n",
      " [0.88647992 0.6974535  0.32647286 0.73392816 0.22013496]\n",
      " [0.08159457 0.1598956  0.34010018 0.46519315 0.26642103]]\n"
     ]
    }
   ],
   "source": [
    "# Generating a 4x5 array of random floating-point numbers between 0 and 1\n",
    "random_floats = rng.random(size=(4, 5))\n",
    "print(random_floats)"
   ]
  },
  {
   "cell_type": "code",
   "execution_count": null,
   "id": "1dfabce5",
   "metadata": {},
   "outputs": [],
   "source": []
  },
  {
   "cell_type": "markdown",
   "id": "a0e886fe",
   "metadata": {},
   "source": [
    "#### Selecting Random Elements from a List"
   ]
  },
  {
   "cell_type": "code",
   "execution_count": 106,
   "id": "5aa7e1cb",
   "metadata": {},
   "outputs": [
    {
     "name": "stdout",
     "output_type": "stream",
     "text": [
      "kiwi\n"
     ]
    }
   ],
   "source": [
    "from random import choice\n",
    "\n",
    "# List of fruits\n",
    "fruit = ['mango', 'orange', 'grape', 'kiwi']\n",
    "\n",
    "# Selecting a random fruit\n",
    "random_fruit = choice(fruit)\n",
    "print(random_fruit)"
   ]
  },
  {
   "cell_type": "code",
   "execution_count": null,
   "id": "20e98869",
   "metadata": {},
   "outputs": [],
   "source": []
  }
 ],
 "metadata": {
  "kernelspec": {
   "display_name": "Python 3 (ipykernel)",
   "language": "python",
   "name": "python3"
  },
  "language_info": {
   "codemirror_mode": {
    "name": "ipython",
    "version": 3
   },
   "file_extension": ".py",
   "mimetype": "text/x-python",
   "name": "python",
   "nbconvert_exporter": "python",
   "pygments_lexer": "ipython3",
   "version": "3.11.8"
  }
 },
 "nbformat": 4,
 "nbformat_minor": 5
}
